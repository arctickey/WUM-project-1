{
 "cells": [
  {
   "cell_type": "code",
   "execution_count": 216,
   "metadata": {},
   "outputs": [],
   "source": [
    "import pandas as pd\n",
    "import numpy as np\n",
    "import matplotlib.pyplot as plt\n",
    "import seaborn as sns\n",
    "from sklearn.decomposition import PCA\n",
    "from sklearn.metrics import adjusted_rand_score\n",
    "from sklearn.cluster import KMeans,AgglomerativeClustering,Birch\n",
    "from sklearn.mixture import GaussianMixture\n",
    "from sklearn.feature_selection import SelectKBest, chi2\n",
    "from sklearn.manifold import TSNE\n",
    "from sklearn.random_projection import GaussianRandomProjection\n",
    "from sklearn.preprocessing import StandardScaler"
   ]
  },
  {
   "cell_type": "markdown",
   "metadata": {},
   "source": [
    "# Wczytanie danych"
   ]
  },
  {
   "cell_type": "code",
   "execution_count": 217,
   "metadata": {},
   "outputs": [],
   "source": [
    "\n",
    "labels = pd.read_fwf(\"./UCI_HAR_Dataset/features.txt\",header=None)\n",
    "X_train = pd.read_fwf(\"./UCI_HAR_Dataset/train/X_train.txt\",header=None)\n",
    "X_train.columns = labels\n",
    "\n",
    "\n",
    "y_train = pd.read_fwf(\"./UCI_HAR_Dataset/train/y_train.txt\",header=None)\n",
    "y_train = pd.Series(y_train[0])\n",
    "\n",
    "X_test = pd.read_fwf(\"./UCI_HAR_Dataset/test/X_test.txt\",header=None)\n",
    "X_test.columns = labels\n",
    "\n",
    "y_test = pd.read_fwf(\"./UCI_HAR_Dataset/test/y_test.txt\",header=None)\n",
    "y_test = pd.Series(y_test[0])\n",
    "\n",
    "data = pd.concat([X_train,X_test])\n",
    "y = pd.concat([y_train,y_test])\n"
   ]
  },
  {
   "cell_type": "code",
   "execution_count": 218,
   "metadata": {},
   "outputs": [],
   "source": [
    "proper = list()\n",
    "for i in range(len(data.columns)):\n",
    "    proper.append(data.columns[i][0])  \n",
    "data.columns = proper\n",
    "k = 6\n",
    "data.reset_index(inplace=True,drop=True)"
   ]
  },
  {
   "cell_type": "markdown",
   "metadata": {},
   "source": [
    "## Baseline"
   ]
  },
  {
   "cell_type": "markdown",
   "metadata": {},
   "source": [
    "Jako punkt odniesniesienia do wszelkich następnych prób sprawdźmy jak poradzą sobie podstawowe algorytmy na nieprzekstałconym zbiorze danych."
   ]
  },
  {
   "cell_type": "code",
   "execution_count": 219,
   "metadata": {},
   "outputs": [
    {
     "data": {
      "text/plain": [
       "0.46137426832867395"
      ]
     },
     "execution_count": 219,
     "metadata": {},
     "output_type": "execute_result"
    }
   ],
   "source": [
    "kmean = KMeans(k)\n",
    "yhat = kmean.fit_predict(data)\n",
    "adjusted_rand_score(y,yhat)"
   ]
  },
  {
   "cell_type": "code",
   "execution_count": 220,
   "metadata": {},
   "outputs": [
    {
     "data": {
      "text/plain": [
       "0.5637552806358106"
      ]
     },
     "execution_count": 220,
     "metadata": {},
     "output_type": "execute_result"
    }
   ],
   "source": [
    "ac = AgglomerativeClustering(k)\n",
    "yhat = ac.fit_predict(data) \n",
    "adjusted_rand_score(y,yhat)"
   ]
  },
  {
   "cell_type": "code",
   "execution_count": 221,
   "metadata": {},
   "outputs": [
    {
     "data": {
      "text/plain": [
       "0.5637552806358106"
      ]
     },
     "execution_count": 221,
     "metadata": {},
     "output_type": "execute_result"
    }
   ],
   "source": [
    "bir = Birch(n_clusters = k)\n",
    "yhat = bir.fit_predict(data) \n",
    "adjusted_rand_score(y,yhat)"
   ]
  },
  {
   "cell_type": "markdown",
   "metadata": {},
   "source": [
    "Jak widać wyniki osiągane przez algorytmy nie są najlepsze, czemu z pewnością nie sprzyaja szum tworzony przez sporą ilość kolumn"
   ]
  },
  {
   "cell_type": "markdown",
   "metadata": {},
   "source": [
    "## Feature engineering"
   ]
  },
  {
   "cell_type": "markdown",
   "metadata": {},
   "source": [
    "Biorąc pod uwagę z jak dużą ilościa kolumn mamy do czynienia nie ma mowy o ręcznym wybieraniu cech, musimy się posiłkować odpowiednimi algorytmami."
   ]
  },
  {
   "cell_type": "code",
   "execution_count": 222,
   "metadata": {},
   "outputs": [
    {
     "name": "stdout",
     "output_type": "stream",
     "text": [
      "0.8 % wariancji jest przestawiane przez 11 zmiennych\n"
     ]
    }
   ],
   "source": [
    "pca = PCA(n_components=100)\n",
    "pca_data = pca.fit_transform(data)\n",
    "cum_ratio = (np.cumsum(pca.explained_variance_ratio_))\n",
    "\n",
    "variance_ratio = 0.80\n",
    "variance = np.cumsum(pca.explained_variance_ratio_)\n",
    "num = np.sum(variance<variance_ratio)+1\n",
    "print(f'{variance_ratio} % wariancji jest przestawiane przez {num} zmiennych')"
   ]
  },
  {
   "cell_type": "code",
   "execution_count": 223,
   "metadata": {},
   "outputs": [
    {
     "data": {
      "text/plain": [
       "0.46246309508542954"
      ]
     },
     "execution_count": 223,
     "metadata": {},
     "output_type": "execute_result"
    }
   ],
   "source": [
    "pca = PCA(n_components=11)\n",
    "pca_data = pca.fit_transform(data)\n",
    "kmean = KMeans(k)\n",
    "yhat = kmean.fit_predict(pca_data)\n",
    "adjusted_rand_score(y,yhat)"
   ]
  },
  {
   "cell_type": "markdown",
   "metadata": {},
   "source": [
    "## SelectKBest"
   ]
  },
  {
   "cell_type": "markdown",
   "metadata": {},
   "source": [
    "Kolejną metoda z której zdecydujemy się skorzystać będzie SelectKBest z pakietu sklearn"
   ]
  },
  {
   "cell_type": "code",
   "execution_count": 224,
   "metadata": {},
   "outputs": [],
   "source": [
    "X_new = SelectKBest(k=11).fit_transform(data,y)"
   ]
  },
  {
   "cell_type": "code",
   "execution_count": 225,
   "metadata": {},
   "outputs": [
    {
     "data": {
      "text/plain": [
       "0.5056726107998837"
      ]
     },
     "execution_count": 225,
     "metadata": {},
     "output_type": "execute_result"
    }
   ],
   "source": [
    "kmean = KMeans(k)\n",
    "yhat = kmean.fit_predict(X_new)\n",
    "adjusted_rand_score(y,yhat)"
   ]
  },
  {
   "cell_type": "markdown",
   "metadata": {},
   "source": [
    "## PFA"
   ]
  },
  {
   "cell_type": "code",
   "execution_count": 226,
   "metadata": {},
   "outputs": [],
   "source": [
    "from sklearn.decomposition import PCA\n",
    "from sklearn.cluster import KMeans\n",
    "from collections import defaultdict\n",
    "from sklearn.metrics.pairwise import euclidean_distances\n",
    "from sklearn.preprocessing import StandardScaler\n",
    "\n",
    "class PFA(object):\n",
    "    def __init__(self, n_features, q=None):\n",
    "        self.q = q\n",
    "        self.n_features = n_features\n",
    "\n",
    "    def fit(self, X):\n",
    "        if not self.q:\n",
    "            self.q = X.shape[1]\n",
    "\n",
    "        X = np.array(X)\n",
    "       \n",
    "\n",
    "        pca = PCA(n_components=self.q).fit(X)\n",
    "        A_q = pca.components_.T\n",
    "\n",
    "        kmeans = KMeans(n_clusters=self.n_features).fit(A_q)\n",
    "        clusters = kmeans.predict(A_q)\n",
    "        cluster_centers = kmeans.cluster_centers_\n",
    "\n",
    "        dists = defaultdict(list)\n",
    "        for i, c in enumerate(clusters):\n",
    "            dist = euclidean_distances([A_q[i, :]], [cluster_centers[c, :]])[0][0]\n",
    "            dists[c].append((i, dist))\n",
    "\n",
    "        self.indices_ = [sorted(f, key=lambda x: x[1])[0][0] for f in dists.values()]\n",
    "        self.features_ = X[:, self.indices_]\n"
   ]
  },
  {
   "cell_type": "code",
   "execution_count": 227,
   "metadata": {},
   "outputs": [
    {
     "data": {
      "text/plain": [
       "0.39245733179618286"
      ]
     },
     "execution_count": 227,
     "metadata": {},
     "output_type": "execute_result"
    }
   ],
   "source": [
    "pfa = PFA(n_features=11)\n",
    "pfa.fit(data)\n",
    "\n",
    "data_prob = pfa.features_\n",
    "\n",
    "kmean = KMeans(k)\n",
    "yhat = kmean.fit_predict(X)\n",
    "adjusted_rand_score(y,yhat)"
   ]
  }
 ],
 "metadata": {
  "kernelspec": {
   "display_name": "Python 3.7.6 64-bit ('wum_projekt_1': conda)",
   "language": "python",
   "name": "python37664bitwumprojekt1condaed2b3fa0ea9545aa93fe4c48967ebc97"
  },
  "language_info": {
   "codemirror_mode": {
    "name": "ipython",
    "version": 3
   },
   "file_extension": ".py",
   "mimetype": "text/x-python",
   "name": "python",
   "nbconvert_exporter": "python",
   "pygments_lexer": "ipython3",
   "version": "3.7.6"
  }
 },
 "nbformat": 4,
 "nbformat_minor": 4
}
