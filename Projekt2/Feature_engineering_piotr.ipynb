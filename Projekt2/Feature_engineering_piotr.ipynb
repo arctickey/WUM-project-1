{
 "cells": [
  {
   "cell_type": "code",
   "execution_count": 2,
   "metadata": {},
   "outputs": [
    {
     "name": "stderr",
     "output_type": "stream",
     "text": [
      "/home/piotr/anaconda3/lib/python3.7/site-packages/statsmodels/tools/_testing.py:19: FutureWarning: pandas.util.testing is deprecated. Use the functions in the public API at pandas.testing instead.\n",
      "  import pandas.util.testing as tm\n"
     ]
    }
   ],
   "source": [
    "import pandas as pd\n",
    "import numpy as np\n",
    "import matplotlib.pyplot as plt\n",
    "import seaborn as sns\n",
    "from sklearn.feature_selection import VarianceThreshold\n",
    "from sklearn.decomposition import PCA\n",
    "from sklearn.cluster import KMeans,AgglomerativeClustering,Birch\n",
    "from sklearn.mixture import GaussianMixture\n",
    "from sklearn.manifold import TSNE\n",
    "from sklearn.random_projection import GaussianRandomProjection\n",
    "from sklearn.metrics import silhouette_score"
   ]
  },
  {
   "cell_type": "markdown",
   "metadata": {},
   "source": [
    "# Wczytanie danych"
   ]
  },
  {
   "cell_type": "code",
   "execution_count": 3,
   "metadata": {},
   "outputs": [],
   "source": [
    "\n",
    "labels = pd.read_fwf(\"./UCI_HAR_Dataset/features.txt\",header=None)\n",
    "X_train = pd.read_fwf(\"./UCI_HAR_Dataset/train/X_train.txt\",header=None)\n",
    "X_train.columns = labels\n",
    "\n",
    "\n",
    "y_train = pd.read_fwf(\"./UCI_HAR_Dataset/train/y_train.txt\",header=None)\n",
    "y_train = pd.Series(y_train[0])\n",
    "\n",
    "X_test = pd.read_fwf(\"./UCI_HAR_Dataset/test/X_test.txt\",header=None)\n",
    "X_test.columns = labels\n",
    "\n",
    "y_test = pd.read_fwf(\"./UCI_HAR_Dataset/test/y_test.txt\",header=None)\n",
    "y_test = pd.Series(y_test[0])\n",
    "\n",
    "data = pd.concat([X_train,X_test])\n",
    "y = pd.concat([y_train,y_test])\n"
   ]
  },
  {
   "cell_type": "code",
   "execution_count": 4,
   "metadata": {},
   "outputs": [],
   "source": [
    "proper = list()\n",
    "for i in range(len(data.columns)):\n",
    "    proper.append(data.columns[i][0])  \n",
    "data.columns = proper\n",
    "\n",
    "data.reset_index(inplace=True,drop=True)"
   ]
  },
  {
   "cell_type": "code",
   "execution_count": 5,
   "metadata": {},
   "outputs": [
    {
     "data": {
      "text/plain": [
       "(10299, 561)"
      ]
     },
     "execution_count": 5,
     "metadata": {},
     "output_type": "execute_result"
    }
   ],
   "source": [
    "data.shape"
   ]
  },
  {
   "cell_type": "markdown",
   "metadata": {},
   "source": [
    "## Ilość klastrów"
   ]
  },
  {
   "cell_type": "markdown",
   "metadata": {},
   "source": [
    "Z etykiet wiemy że mamy 6 klastrów, ale sprawdźmy dla jakiej ilości klastrów metoda sillhoute da najlepszy wynik."
   ]
  },
  {
   "cell_type": "code",
   "execution_count": 17,
   "metadata": {},
   "outputs": [
    {
     "data": {
      "image/png": "[encoded data removed]",
      "text/plain": [
       "<Figure size 1080x360 with 1 Axes>"
      ]
     },
     "metadata": {
      "needs_background": "light"
     },
     "output_type": "display_data"
    }
   ],
   "source": [
    "scors = []\n",
    "for k in range(2, 10):\n",
    "    met = KMeans(k)\n",
    "    label = met.fit_predict(data)\n",
    "    scors.append(silhouette_score(data,label))\n",
    "fig = plt.figure(figsize=(15, 5))\n",
    "plt.plot(range(2, 10), scors,marker='h')\n",
    "plt.xticks(np.arange(1,11, 1))\n",
    "plt.grid(True)\n",
    "\n"
   ]
  },
  {
   "cell_type": "markdown",
   "metadata": {},
   "source": [
    "## Baseline"
   ]
  },
  {
   "cell_type": "markdown",
   "metadata": {},
   "source": [
    "Jako punkt odniesniesienia do wszelkich następnych prób sprawdźmy jak poradzą sobie podstawowe algorytmy na nieprzekstałconym zbiorze danych."
   ]
  },
  {
   "cell_type": "code",
   "execution_count": 31,
   "metadata": {},
   "outputs": [
    {
     "data": {
      "text/plain": [
       "0.0694467809984462"
      ]
     },
     "execution_count": 31,
     "metadata": {},
     "output_type": "execute_result"
    }
   ],
   "source": [
    "kmean = KMeans(k)\n",
    "yhat = kmean.fit_predict(data)\n",
    "silhouette_score(data,yhat)"
   ]
  },
  {
   "cell_type": "code",
   "execution_count": 32,
   "metadata": {},
   "outputs": [
    {
     "data": {
      "text/plain": [
       "0.05645208265480925"
      ]
     },
     "execution_count": 32,
     "metadata": {},
     "output_type": "execute_result"
    }
   ],
   "source": [
    "ac = AgglomerativeClustering(k)\n",
    "yhat = ac.fit_predict(data) \n",
    "silhouette_score(data,yhat)"
   ]
  },
  {
   "cell_type": "code",
   "execution_count": 34,
   "metadata": {},
   "outputs": [
    {
     "data": {
      "text/plain": [
       "0.05645208265480925"
      ]
     },
     "execution_count": 34,
     "metadata": {},
     "output_type": "execute_result"
    }
   ],
   "source": [
    "bir = Birch(n_clusters = k)\n",
    "yhat = bir.fit_predict(data) \n",
    "silhouette_score(data,yhat)"
   ]
  },
  {
   "cell_type": "markdown",
   "metadata": {},
   "source": [
    "Jak widać wyniki osiągane przez algorytmy nie są najlepsze, czemu z pewnością nie sprzyaja szum tworzony przez sporą ilość kolumn, przez co cięzko o dobrze zdefiniowane klastry."
   ]
  },
  {
   "cell_type": "markdown",
   "metadata": {},
   "source": [
    "# Feature engineering"
   ]
  },
  {
   "cell_type": "markdown",
   "metadata": {},
   "source": [
    "Biorąc pod uwagę z jak dużą ilościa kolumn mamy do czynienia nie ma mowy o ręcznym wybieraniu cech, musimy się posiłkować odpowiednimi algorytmami."
   ]
  },
  {
   "cell_type": "code",
   "execution_count": 26,
   "metadata": {},
   "outputs": [
    {
     "name": "stdout",
     "output_type": "stream",
     "text": [
      "0.8 % wariancji jest przestawiane przez 11 zmiennych\n"
     ]
    }
   ],
   "source": [
    "pca = PCA(n_components=100)\n",
    "pca_data = pca.fit_transform(data)\n",
    "cum_ratio = (np.cumsum(pca.explained_variance_ratio_))\n",
    "\n",
    "variance_ratio = 0.80\n",
    "variance = np.cumsum(pca.explained_variance_ratio_)\n",
    "num = np.sum(variance<variance_ratio)+1\n",
    "print(f'{variance_ratio} % wariancji jest przestawiane przez {num} zmiennych')"
   ]
  },
  {
   "cell_type": "code",
   "execution_count": 12,
   "metadata": {},
   "outputs": [],
   "source": [
    "pca = PCA(n_components=11)\n",
    "pca_data = pca.fit_transform(data)"
   ]
  },
  {
   "cell_type": "code",
   "execution_count": 14,
   "metadata": {},
   "outputs": [
    {
     "data": {
      "text/plain": [
       "Text(0, 0.5, 'Sillhoute score')"
      ]
     },
     "execution_count": 14,
     "metadata": {},
     "output_type": "execute_result"
    },
    {
     "data": {
      "image/png": "[encoded data removed]",
      "text/plain": [
       "<Figure size 1080x360 with 1 Axes>"
      ]
     },
     "metadata": {
      "needs_background": "light"
     },
     "output_type": "display_data"
    }
   ],
   "source": [
    "scors = []\n",
    "for k in range(3,7):\n",
    "    kmean = KMeans(k)\n",
    "    yhat = kmean.fit_predict(pca_data)\n",
    "    scors.append(silhouette_score(data,yhat))\n",
    "\n",
    "fig = plt.figure(figsize=(15, 5))\n",
    "plt.plot(range(3, 7), scors,marker='h')\n",
    "plt.xticks(np.arange(3,7,1))\n",
    "plt.grid(True)\n",
    "plt.title('Sillhoute score on PCA transformed dataset')\n",
    "plt.xlabel('Number of clusters')\n",
    "plt.ylabel('Sillhoute score')"
   ]
  },
  {
   "cell_type": "markdown",
   "metadata": {},
   "source": [
    "Całkiem dobry wynik dla k=3."
   ]
  },
  {
   "cell_type": "code",
   "execution_count": null,
   "metadata": {},
   "outputs": [],
   "source": [
    "\n",
    "pca = PCA(n_components=0.9, random_state=3)\n",
    "pca_data = pca.fit_transform(data)\n",
    "\n",
    "tsne = TSNE(random_state=3)\n",
    "tsne_transformed = tsne.fit_transform(pca_data)\n",
    "scors = []\n",
    "for k in range(3,7):\n",
    "    kmean = KMeans(k)\n",
    "    yhat = kmean.fit_predict(tsne_transformed)\n",
    "    scors.append(silhouette_score(data,yhat))\n"
   ]
  },
  {
   "cell_type": "code",
   "execution_count": 16,
   "metadata": {},
   "outputs": [
    {
     "data": {
      "text/plain": [
       "Text(0, 0.5, 'Sillhoute score')"
      ]
     },
     "execution_count": 16,
     "metadata": {},
     "output_type": "execute_result"
    },
    {
     "data": {
      "image/png": "[encoded data removed]",
      "text/plain": [
       "<Figure size 1080x360 with 1 Axes>"
      ]
     },
     "metadata": {
      "needs_background": "light"
     },
     "output_type": "display_data"
    }
   ],
   "source": [
    "fig = plt.figure(figsize=(15, 5))\n",
    "plt.plot(range(3, 7), scors,marker='h')\n",
    "plt.xticks(np.arange(3,7,1))\n",
    "plt.grid(True)\n",
    "plt.title('Sillhoute score on Tsne transformed dataset')\n",
    "plt.xlabel('Number of clusters')\n",
    "plt.ylabel('Sillhoute score')\n"
   ]
  },
  {
   "cell_type": "markdown",
   "metadata": {},
   "source": [
    "## Usuwanie zmiennych z niską wariancją"
   ]
  },
  {
   "cell_type": "markdown",
   "metadata": {},
   "source": [
    "Kolejną metoda z której zdecydujemy się skorzystać będzie Variance Threshold"
   ]
  },
  {
   "cell_type": "code",
   "execution_count": 48,
   "metadata": {},
   "outputs": [],
   "source": [
    "selector = VarianceThreshold(0.05)\n",
    "X_new = selector.fit_transform(data)"
   ]
  },
  {
   "cell_type": "code",
   "execution_count": 49,
   "metadata": {},
   "outputs": [
    {
     "data": {
      "text/plain": [
       "0.06027302691693993"
      ]
     },
     "execution_count": 49,
     "metadata": {},
     "output_type": "execute_result"
    }
   ],
   "source": [
    "kmean = KMeans(6)\n",
    "yhat = kmean.fit_predict(X_new)\n",
    "silhouette_score(data,yhat)"
   ]
  },
  {
   "cell_type": "markdown",
   "metadata": {},
   "source": [
    "## Funkcje pomocniczne"
   ]
  },
  {
   "cell_type": "code",
   "execution_count": 6,
   "metadata": {},
   "outputs": [],
   "source": [
    "def score_kmeans(df, cluster_num_vector):\n",
    "    \"\"\"\n",
    "    Funkcja zwraca miary wcss odpowiadające wartością k,\n",
    "    działa dla modelu k-średnich.\n",
    "    \"\"\"\n",
    "    scores = []\n",
    "    for k in cluster_num_vector:\n",
    "        md = KMeans(n_clusters = k)\n",
    "        md.fit(df)\n",
    "        scr = md.score(df)\n",
    "        scores.append(-scr)\n",
    "    return(scores)"
   ]
  },
  {
   "cell_type": "code",
   "execution_count": 7,
   "metadata": {},
   "outputs": [],
   "source": [
    "def plot_k_scores(k_vec, result, xlab, ylab, title):\n",
    "    \"\"\"Wizualizacja dowolnej miary względem dowolnego wektora k.\"\"\"\n",
    "    plt.plot(k_vec, result, marker='h')\n",
    "    plt.xticks(np.arange(min(k_vec), max(k_vec)+1, 2))\n",
    "    plt.title(title)\n",
    "    plt.xlabel(xlab)\n",
    "    plt.ylabel(ylab)\n",
    "    plt.show()"
   ]
  },
  {
   "cell_type": "code",
   "execution_count": 8,
   "metadata": {},
   "outputs": [],
   "source": [
    "def find_best_k(df, k_vec):\n",
    "    scr = score_kmeans(df, k_vec)\n",
    "    plot_k_scores(k_vec, scr, \"k\", \"wcss\", \"Poszukiwanie optymalnego 'k'\")"
   ]
  },
  {
   "cell_type": "markdown",
   "metadata": {},
   "source": [
    "## 2. Factor Analysis\n",
    "Metoda statystyczna, której celem jest opisanie zależności między zaobserwowanymi, skorelowanymi zmiennymi przy pomocy możliwie mniejszej liczby zmiennych nieobserwowanych nazywanych czynnikami bądź faktorami, które są wzajemnie nieskorelowane."
   ]
  },
  {
   "cell_type": "code",
   "execution_count": 9,
   "metadata": {},
   "outputs": [],
   "source": [
    "#%pip install factor_analyzer\n",
    "from factor_analyzer import FactorAnalyzer"
   ]
  },
  {
   "cell_type": "markdown",
   "metadata": {},
   "source": [
    "### Kaiser-Meyer-Olkin test\n",
    "Test ten mierzy czy zbiór danych jest odpowiedni do przeprowadzenia analizy czynnikowej (factor analysis). KMO przyjmuje wartości od 0 do 1. Wartość powyżej 0.6 oznacza adekwatność użycia metody analizy czynnikowej."
   ]
  },
  {
   "cell_type": "code",
   "execution_count": 11,
   "metadata": {},
   "outputs": [
    {
     "name": "stdout",
     "output_type": "stream",
     "text": [
      "Wartość KMO dla naszych danych: 0.979\n"
     ]
    }
   ],
   "source": [
    "from factor_analyzer.factor_analyzer import calculate_kmo\n",
    "kmo_all, kmo_model = calculate_kmo(data)\n",
    "print(\"Wartość KMO dla naszych danych: {0:4.3f}\".format(kmo_model))"
   ]
  },
  {
   "cell_type": "markdown",
   "metadata": {},
   "source": [
    "Jak widzimy nasz zbiór jest perfekcyjnym przypadkiem do analizy czynnikowej."
   ]
  },
  {
   "cell_type": "markdown",
   "metadata": {},
   "source": [
    "### Analiza czynnikowa "
   ]
  },
  {
   "cell_type": "code",
   "execution_count": 12,
   "metadata": {},
   "outputs": [],
   "source": [
    "#Wykonanie analizy czynnikowej\n",
    "factor_analyzer = FactorAnalyzer(rotation=None, n_factors=561)\n",
    "factor_analyzer.fit(data)\n",
    "\n",
    "#Wartości własne\n",
    "wartosci_wlasne, wektory = factor_analyzer.get_eigenvalues() "
   ]
  },
  {
   "cell_type": "markdown",
   "metadata": {},
   "source": [
    "Jedną z metod wyboru odpowiedniej liczby czynników, jest wybór tych z nich, dla których odpowiadające wartości własne są większe niż 1. Dla naszego zbioru będzie to 63 czynniki. Uzyskujemy więc redukcję liczby zmiennych z 561 do 63."
   ]
  },
  {
   "cell_type": "code",
   "execution_count": 13,
   "metadata": {},
   "outputs": [
    {
     "data": {
      "text/plain": [
       "63"
      ]
     },
     "execution_count": 13,
     "metadata": {},
     "output_type": "execute_result"
    }
   ],
   "source": [
    "num_factors = len(wartosci_wlasne[wartosci_wlasne>1])\n",
    "num_factors"
   ]
  },
  {
   "cell_type": "markdown",
   "metadata": {},
   "source": [
    "Dla mniejszych zbiorów można dokonać doboru liczby czynników metodą graficzną, podobną do metody \"łokcia\". W naszym przypadku, ciężko jest jednak zastosować tę metodę, gdyż wykres staje się nieczytelny. "
   ]
  },
  {
   "cell_type": "code",
   "execution_count": 14,
   "metadata": {},
   "outputs": [
    {
     "data": {
      "image/png": "[encoded data removed]",
      "text/plain": [
       "<Figure size 432x288 with 1 Axes>"
      ]
     },
     "metadata": {
      "needs_background": "light"
     },
     "output_type": "display_data"
    }
   ],
   "source": [
    "plot_k_scores(range(10), wartosci_wlasne[0:10], \"Czynniki\", \"Wartości własne\", \"Scree plot\")"
   ]
  },
  {
   "cell_type": "code",
   "execution_count": 15,
   "metadata": {},
   "outputs": [
    {
     "data": {
      "text/plain": [
       "FactorAnalyzer(bounds=(0.005, 1), impute='median', is_corr_matrix=False,\n",
       "               method='minres', n_factors=63, rotation='promax',\n",
       "               rotation_kwargs={}, use_smc=True)"
      ]
     },
     "execution_count": 15,
     "metadata": {},
     "output_type": "execute_result"
    }
   ],
   "source": [
    "#Analiza dla dobranej liczby czynników\n",
    "fa = FactorAnalyzer(n_factors=num_factors)\n",
    "fa.fit(data)"
   ]
  },
  {
   "cell_type": "code",
   "execution_count": 16,
   "metadata": {},
   "outputs": [],
   "source": [
    "#Zbiór danych po transformacji analizy czynników\n",
    "df2 = fa.transform(data)\n",
    "df2 = pd.DataFrame(df2)"
   ]
  },
  {
   "cell_type": "code",
   "execution_count": 17,
   "metadata": {},
   "outputs": [
    {
     "name": "stdout",
     "output_type": "stream",
     "text": [
      "Wymiary zbioru danych po transformacji nr 2:\n",
      "(10299, 63)\n"
     ]
    }
   ],
   "source": [
    "print(\"Wymiary zbioru danych po transformacji nr 2:\")\n",
    "print(df2.shape)"
   ]
  },
  {
   "cell_type": "code",
   "execution_count": 18,
   "metadata": {},
   "outputs": [
    {
     "data": {
      "image/png": "[encoded data removed]",
      "text/plain": [
       "<Figure size 432x288 with 1 Axes>"
      ]
     },
     "metadata": {
      "needs_background": "light"
     },
     "output_type": "display_data"
    }
   ],
   "source": [
    "find_best_k(df2, range(2, 21))"
   ]
  },
  {
   "cell_type": "code",
   "execution_count": 19,
   "metadata": {},
   "outputs": [],
   "source": [
    "#Zapis do pliku df2, aby uniknąć czasochłonnych obliczeń\n",
    "df2.to_csv(\"df2.csv\")"
   ]
  },
  {
   "cell_type": "markdown",
   "metadata": {},
   "source": [
    "## 4. Usunięcie wysoko skorelowanych zmiennych"
   ]
  },
  {
   "cell_type": "markdown",
   "metadata": {},
   "source": [
    "W naszym zbiorze danych jest wiele zmiennych bardzo mocno skorelowanych. Rozsądnym podejściem wydaje się próba usunięcia ich ze zbioru. Zdecydowaliśmy się usunąć zmienne o współczynniku korelacji większym niż 0.8."
   ]
  },
  {
   "cell_type": "code",
   "execution_count": 21,
   "metadata": {},
   "outputs": [],
   "source": [
    "def remove_corr(dataset, threshold):\n",
    "    #Zbiór nazw usuniętych kolumn\n",
    "    col_corr = set() \n",
    "    corr_matrix = dataset.corr()\n",
    "    for i in range(len(corr_matrix.columns)):\n",
    "        for j in range(i):\n",
    "            if (corr_matrix.iloc[i, j] >= threshold) and (corr_matrix.columns[j] not in col_corr):\n",
    "                #nazwa kolumny\n",
    "                colname = corr_matrix.columns[i] \n",
    "                col_corr.add(colname)\n",
    "                if colname in dataset.columns:\n",
    "                    #usunięcie kolumny\n",
    "                    del dataset[colname]\n",
    "    return(dataset)"
   ]
  },
  {
   "cell_type": "code",
   "execution_count": 27,
   "metadata": {},
   "outputs": [],
   "source": [
    "df4 = data.copy()\n",
    "df4 = remove_corr(df4, 0.9)"
   ]
  },
  {
   "cell_type": "code",
   "execution_count": 93,
   "metadata": {},
   "outputs": [
    {
     "name": "stdout",
     "output_type": "stream",
     "text": [
      "Wymiary zbioru danych po transformacji nr 4:\n"
     ]
    },
    {
     "data": {
      "text/plain": [
       "(10299, 198)"
      ]
     },
     "execution_count": 93,
     "metadata": {},
     "output_type": "execute_result"
    }
   ],
   "source": [
    "print(\"Wymiary zbioru danych po transformacji nr 4:\")\n",
    "df4.shape"
   ]
  },
  {
   "cell_type": "code",
   "execution_count": 132,
   "metadata": {},
   "outputs": [
    {
     "data": {
      "image/png": "[encoded data removed]",
      "text/plain": [
       "<Figure size 432x288 with 1 Axes>"
      ]
     },
     "metadata": {
      "needs_background": "light"
     },
     "output_type": "display_data"
    }
   ],
   "source": [
    "find_best_k(df4, range(2, 21))"
   ]
  },
  {
   "cell_type": "markdown",
   "metadata": {},
   "source": [
    "## 5. Tylko zmienne po transformacie Furiera\n",
    "EDA pokazała, że transformata Furiera poprawiała separowalność klas w przypadkach możliwych do analizy wizualnej. Z tego powodu postanowiliśmy przetestować podejście, polegające na pozostawieniu w zbiorze tylko tych zmiennych, które zostały przez autorów zbioru danych (badania) poddane transformacie Furiera."
   ]
  },
  {
   "cell_type": "code",
   "execution_count": 23,
   "metadata": {},
   "outputs": [],
   "source": [
    "df5 = data.iloc[:, 266:]"
   ]
  },
  {
   "cell_type": "code",
   "execution_count": 160,
   "metadata": {},
   "outputs": [
    {
     "name": "stdout",
     "output_type": "stream",
     "text": [
      "Wymiary zbioru danych po transformacji nr 5:\n"
     ]
    },
    {
     "data": {
      "text/plain": [
       "(10299, 295)"
      ]
     },
     "execution_count": 160,
     "metadata": {},
     "output_type": "execute_result"
    }
   ],
   "source": [
    "print(\"Wymiary zbioru danych po transformacji nr 5:\")\n",
    "df5.shape"
   ]
  },
  {
   "cell_type": "code",
   "execution_count": 133,
   "metadata": {},
   "outputs": [
    {
     "data": {
      "image/png": "[encoded data removed]",
      "text/plain": [
       "<Figure size 432x288 with 1 Axes>"
      ]
     },
     "metadata": {
      "needs_background": "light"
     },
     "output_type": "display_data"
    }
   ],
   "source": [
    "find_best_k(df5, range(2, 21))"
   ]
  },
  {
   "cell_type": "markdown",
   "metadata": {},
   "source": [
    "# Modelowanie"
   ]
  },
  {
   "cell_type": "code",
   "execution_count": 8,
   "metadata": {},
   "outputs": [],
   "source": [
    "def score_clustering(df, model, k_vec, score_fun):\n",
    "    \"\"\"\n",
    "    Oblicza miary, za pomocą przekazanej funkcji miay, \n",
    "    względem k, a także przekazanego modelu.\n",
    "    \"\"\"\n",
    "    scores=[]\n",
    "    for k in k_vec:\n",
    "        md = model(n_clusters=k)\n",
    "        labels = md.fit_predict(df)\n",
    "        score = score_fun(df, labels)\n",
    "        scores.append(score)\n",
    "    return(scores)"
   ]
  },
  {
   "cell_type": "code",
   "execution_count": 24,
   "metadata": {},
   "outputs": [],
   "source": [
    "datasets = {\"orginal\": data,\n",
    "            \"df2\": df2, \n",
    "            \"df4\": df4, \n",
    "            \"df5\": df5}\n",
    "\n",
    "models = {\"kmeans\": KMeans, \n",
    "          \"agg\": AgglomerativeClustering,\n",
    "          \"birch\": Birch}\n",
    "\n",
    "optimal_k = {\"orginal\": 10,\n",
    "            \"df2\": 10,\n",
    "            \"df4\": 10,\n",
    "            \"df5\": 10}\n",
    "\n",
    "def research(datasets, models, optimal_k, score_fun):\n",
    "    results = pd.DataFrame()\n",
    "\n",
    "    for df_k in datasets:\n",
    "        for model_k in models:\n",
    "            md = models[model_k]()\n",
    "            df = datasets[df_k]\n",
    "            k = optimal_k[df_k]\n",
    "            \n",
    "            md.n_clusters = k\n",
    "            labels = md.fit_predict(X = df)\n",
    "            score = score_fun(df, labels)\n",
    "            results.loc[df_k, model_k] = score\n",
    "            \n",
    "            #temp\n",
    "            print(df_k + model_k)\n",
    "    return(results)"
   ]
  },
  {
   "cell_type": "markdown",
   "metadata": {},
   "source": [
    "## Wyniki: miara silhouette"
   ]
  },
  {
   "cell_type": "code",
   "execution_count": 28,
   "metadata": {},
   "outputs": [
    {
     "name": "stdout",
     "output_type": "stream",
     "text": [
      "orginalkmeans\n",
      "orginalagg\n",
      "orginalbirch\n",
      "df2kmeans\n",
      "df2agg\n",
      "df2birch\n",
      "df4kmeans\n",
      "df4agg\n",
      "df4birch\n",
      "df5kmeans\n",
      "df5agg\n",
      "df5birch\n"
     ]
    }
   ],
   "source": [
    "silhouette_results = research(datasets, models, optimal_k, silhouette_score)"
   ]
  },
  {
   "cell_type": "code",
   "execution_count": 29,
   "metadata": {},
   "outputs": [
    {
     "data": {
      "text/html": [
       "<div>\n",
       "<style scoped>\n",
       "    .dataframe tbody tr th:only-of-type {\n",
       "        vertical-align: middle;\n",
       "    }\n",
       "\n",
       "    .dataframe tbody tr th {\n",
       "        vertical-align: top;\n",
       "    }\n",
       "\n",
       "    .dataframe thead th {\n",
       "        text-align: right;\n",
       "    }\n",
       "</style>\n",
       "<table border=\"1\" class=\"dataframe\">\n",
       "  <thead>\n",
       "    <tr style=\"text-align: right;\">\n",
       "      <th></th>\n",
       "      <th>kmeans</th>\n",
       "      <th>agg</th>\n",
       "      <th>birch</th>\n",
       "    </tr>\n",
       "  </thead>\n",
       "  <tbody>\n",
       "    <tr>\n",
       "      <th>orginal</th>\n",
       "      <td>0.103869</td>\n",
       "      <td>0.067926</td>\n",
       "      <td>0.067926</td>\n",
       "    </tr>\n",
       "    <tr>\n",
       "      <th>df2</th>\n",
       "      <td>0.097242</td>\n",
       "      <td>0.076751</td>\n",
       "      <td>0.076751</td>\n",
       "    </tr>\n",
       "    <tr>\n",
       "      <th>df4</th>\n",
       "      <td>0.070604</td>\n",
       "      <td>0.042015</td>\n",
       "      <td>0.042015</td>\n",
       "    </tr>\n",
       "    <tr>\n",
       "      <th>df5</th>\n",
       "      <td>0.097150</td>\n",
       "      <td>0.081899</td>\n",
       "      <td>0.080944</td>\n",
       "    </tr>\n",
       "  </tbody>\n",
       "</table>\n",
       "</div>"
      ],
      "text/plain": [
       "           kmeans       agg     birch\n",
       "orginal  0.103869  0.067926  0.067926\n",
       "df2      0.097242  0.076751  0.076751\n",
       "df4      0.070604  0.042015  0.042015\n",
       "df5      0.097150  0.081899  0.080944"
      ]
     },
     "execution_count": 29,
     "metadata": {},
     "output_type": "execute_result"
    }
   ],
   "source": [
    "silhouette_results"
   ]
  },
  {
   "cell_type": "code",
   "execution_count": 30,
   "metadata": {},
   "outputs": [],
   "source": [
    "from scipy.spatial import distance\n",
    "\n",
    "def avg_dist_score(df, labels):\n",
    "    \"\"\"Oblicza miarę średniej odległości wewnątrz klastra\"\"\"\n",
    "    distances = []\n",
    "    for lab in labels:\n",
    "        X = df.iloc[np.where(labels == lab)]\n",
    "        dist_avg = np.mean(distance.pdist(X))\n",
    "        distances.append(dist_avg)\n",
    "    return np.mean(distances)"
   ]
  },
  {
   "cell_type": "code",
   "execution_count": null,
   "metadata": {},
   "outputs": [],
   "source": [
    "avg_dist_results = research(datasets, models, optimal_k, avg_dist_score)"
   ]
  }
 ],
 "metadata": {
  "kernelspec": {
   "display_name": "Python 3",
   "language": "python",
   "name": "python3"
  },
  "language_info": {
   "codemirror_mode": {
    "name": "ipython",
    "version": 3
   },
   "file_extension": ".py",
   "mimetype": "text/x-python",
   "name": "python",
   "nbconvert_exporter": "python",
   "pygments_lexer": "ipython3",
   "version": "3.7.4"
  }
 },
 "nbformat": 4,
 "nbformat_minor": 4
}
