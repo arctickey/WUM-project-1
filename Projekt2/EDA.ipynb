{
 "cells": [
  {
   "cell_type": "code",
   "execution_count": 91,
   "metadata": {},
   "outputs": [],
   "source": [
    "import pandas as pd\n",
    "import numpy as np"
   ]
  },
  {
   "cell_type": "code",
   "execution_count": 115,
   "metadata": {},
   "outputs": [],
   "source": [
    "\n",
    "labels = pd.read_fwf(\"./UCI_HAR_Dataset/features.txt\",header=None)\n",
    "X_train = pd.read_fwf(\"./UCI_HAR_Dataset/train/X_train.txt\",header=None)\n",
    "X_train.columns = labels\n",
    "\n",
    "\n",
    "y_train = pd.read_fwf(\"./UCI_HAR_Dataset/train/y_train.txt\",header=None)\n",
    "y_train = pd.Series(y_train[0])\n",
    "\n",
    "X_test = pd.read_fwf(\"./UCI_HAR_Dataset/test/X_test.txt\",header=None)\n",
    "X_test.columns = labels\n",
    "\n",
    "y_test = pd.read_fwf(\"./UCI_HAR_Dataset/test/y_test.txt\",header=None)\n",
    "y_test = pd.Series(y_test[0])\n",
    "\n",
    "data = pd.concat([X_train,X_test])\n",
    "y = pd.concat([y_train,y_test])\n"
   ]
  },
  {
   "cell_type": "code",
   "execution_count": 116,
   "metadata": {},
   "outputs": [
    {
     "data": {
      "text/plain": [
       "<matplotlib.axes._subplots.AxesSubplot at 0x7f48843b0e90>"
      ]
     },
     "execution_count": 116,
     "metadata": {},
     "output_type": "execute_result"
    },
    {
     "data": {
      "image/png": "[encoded data removed]",
      "text/plain": [
       "<Figure size 432x288 with 1 Axes>"
      ]
     },
     "metadata": {
      "needs_background": "light"
     },
     "output_type": "display_data"
    }
   ],
   "source": [
    "y.value_counts().plot(kind='barh')"
   ]
  },
  {
   "cell_type": "code",
   "execution_count": 56,
   "metadata": {},
   "outputs": [
    {
     "data": {
      "text/plain": [
       "0"
      ]
     },
     "execution_count": 56,
     "metadata": {},
     "output_type": "execute_result"
    }
   ],
   "source": [
    "data.isna().sum().sum()"
   ]
  },
  {
   "cell_type": "code",
   "execution_count": 123,
   "metadata": {},
   "outputs": [],
   "source": [
    "a = pd.Series([i[0] for i in data.columns]).str.contains('Gyro')\n",
    "data_gyro = X_train[data.columns[a]]"
   ]
  },
  {
   "cell_type": "code",
   "execution_count": 124,
   "metadata": {},
   "outputs": [],
   "source": [
    "b = pd.Series([i[0] for i in data.columns]).str.contains('Acc')\n",
    "data_acc = X_train[data.columns[b]]"
   ]
  },
  {
   "cell_type": "code",
   "execution_count": 129,
   "metadata": {},
   "outputs": [
    {
     "data": {
      "text/plain": [
       "Index([], dtype='object')"
      ]
     },
     "execution_count": 129,
     "metadata": {},
     "output_type": "execute_result"
    }
   ],
   "source": [
    "data_gyro.columns.intersection(data_acc.columns) #Wiec jest gitara"
   ]
  },
  {
   "cell_type": "code",
   "execution_count": 135,
   "metadata": {},
   "outputs": [],
   "source": [
    "angle = data.columns.difference(data_gyro.columns.union(data_acc.columns))\n",
    "data_angle = data[angle]"
   ]
  }
 ],
 "metadata": {
  "kernelspec": {
   "display_name": "Python 3.7.6 64-bit ('wum_projekt_1': conda)",
   "language": "python",
   "name": "python37664bitwumprojekt1condaed2b3fa0ea9545aa93fe4c48967ebc97"
  },
  "language_info": {
   "codemirror_mode": {
    "name": "ipython",
    "version": 3
   },
   "file_extension": ".py",
   "mimetype": "text/x-python",
   "name": "python",
   "nbconvert_exporter": "python",
   "pygments_lexer": "ipython3",
   "version": "3.7.6"
  }
 },
 "nbformat": 4,
 "nbformat_minor": 4
}
