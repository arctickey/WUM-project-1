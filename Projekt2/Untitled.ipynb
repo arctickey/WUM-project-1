{
 "cells": [
  {
   "cell_type": "code",
   "execution_count": 9,
   "metadata": {},
   "outputs": [
    {
     "data": {
      "text/plain": [
       "'/home/arctickey/WUM-project-1/Projekt2'"
      ]
     },
     "execution_count": 9,
     "metadata": {},
     "output_type": "execute_result"
    }
   ],
   "source": [
    "import pandas as pd\n",
    "import numpy as np\n",
    "import os\n",
    "os.getcwd()"
   ]
  },
  {
   "cell_type": "code",
   "execution_count": null,
   "metadata": {},
   "outputs": [],
   "source": [
    "\n",
    "labels = pd.read_fwf(\"./UCI_HAR_Dataset/features.txt\",header=None)\n",
    "X_train = pd.read_fwf(\"./UCI_HAR_Dataset/train/X_train.txt\",header=None)\n",
    "X_train.columns = labels\n",
    "\n",
    "\n",
    "y_train = pd.read_fwf(\"./UCI_HAR_Dataset/train/y_train.txt\",header=None)\n",
    "y_train = pd.Series(y_train[0])\n",
    "\n",
    "X_test = pd.read_fwf(\"./UCI_HAR_Dataset/test/X_test.txt\",header=None)\n",
    "X_test.columns = labels\n",
    "\n",
    "y_test = pd.read_fwf(\"./UCI_HAR_Dataset/test/y_test.txt\",header=None)\n",
    "y_test = pd.Series(y_test[0])\n"
   ]
  },
  {
   "cell_type": "code",
   "execution_count": null,
   "metadata": {},
   "outputs": [],
   "source": [
    "y_train.value_counts().plot(kind='bar')"
   ]
  }
 ],
 "metadata": {
  "kernelspec": {
   "display_name": "Python 3.7.6 64-bit ('wum_projekt_1': conda)",
   "language": "python",
   "name": "python37664bitwumprojekt1condaed2b3fa0ea9545aa93fe4c48967ebc97"
  },
  "language_info": {
   "codemirror_mode": {
    "name": "ipython",
    "version": 3
   },
   "file_extension": ".py",
   "mimetype": "text/x-python",
   "name": "python",
   "nbconvert_exporter": "python",
   "pygments_lexer": "ipython3",
   "version": "3.7.6"
  }
 },
 "nbformat": 4,
 "nbformat_minor": 4
}
