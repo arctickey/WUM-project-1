{
 "cells": [
  {
   "cell_type": "markdown",
   "metadata": {},
   "source": [
    "### Packages and dataset"
   ]
  },
  {
   "cell_type": "code",
   "execution_count": 19,
   "metadata": {},
   "outputs": [],
   "source": [
    "import pandas as pd\n",
    "import numpy as np\n",
    "import seaborn as sns\n",
    "from scipy.stats import skew,boxcox,yeojohnson\n",
    "import sklearn\n",
    "from sklearn.preprocessing import LabelEncoder\n",
    "import category_encoders\n",
    "from category_encoders.target_encoder import TargetEncoder\n",
    "from sklearn.model_selection import train_test_split,cross_val_score,KFold,GridSearchCV,cross_validate\n",
    "from sklearn.preprocessing import StandardScaler\n",
    "import time\n",
    "from sklearn.metrics import roc_auc_score\n",
    "from sklearn.ensemble import RandomForestClassifier\n",
    "from sklearn.linear_model import LogisticRegressionCV\n",
    "import xgboost as xgb\n",
    "from sklearn.ensemble import AdaBoostClassifier\n"
   ]
  },
  {
   "cell_type": "code",
   "execution_count": 4,
   "metadata": {},
   "outputs": [],
   "source": [
    "#Reading csv\n",
    "df = pd.read_csv(\"bank_marketing_weka_dataset.csv\")\n",
    "\n",
    "#Separate features\n",
    "X = df.drop(['y'], axis=1)\n",
    "\n",
    "#Target variable\n",
    "y = df['y']\n",
    "\n",
    "#Transform 'y' to binary\n",
    "y = y.map(dict(yes=1, no=0))"
   ]
  },
  {
   "cell_type": "code",
   "execution_count": 5,
   "metadata": {},
   "outputs": [
    {
     "data": {
      "text/html": [
       "<div>\n",
       "<style scoped>\n",
       "    .dataframe tbody tr th:only-of-type {\n",
       "        vertical-align: middle;\n",
       "    }\n",
       "\n",
       "    .dataframe tbody tr th {\n",
       "        vertical-align: top;\n",
       "    }\n",
       "\n",
       "    .dataframe thead th {\n",
       "        text-align: right;\n",
       "    }\n",
       "</style>\n",
       "<table border=\"1\" class=\"dataframe\">\n",
       "  <thead>\n",
       "    <tr style=\"text-align: right;\">\n",
       "      <th></th>\n",
       "      <th>age</th>\n",
       "      <th>job</th>\n",
       "      <th>marital</th>\n",
       "      <th>education</th>\n",
       "      <th>default</th>\n",
       "      <th>balance</th>\n",
       "      <th>housing</th>\n",
       "      <th>loan</th>\n",
       "      <th>contact</th>\n",
       "      <th>day</th>\n",
       "      <th>month</th>\n",
       "      <th>duration</th>\n",
       "      <th>campaign</th>\n",
       "      <th>pdays</th>\n",
       "      <th>previous</th>\n",
       "      <th>poutcome</th>\n",
       "    </tr>\n",
       "  </thead>\n",
       "  <tbody>\n",
       "    <tr>\n",
       "      <th>0</th>\n",
       "      <td>30</td>\n",
       "      <td>unemployed</td>\n",
       "      <td>married</td>\n",
       "      <td>primary</td>\n",
       "      <td>no</td>\n",
       "      <td>1787</td>\n",
       "      <td>no</td>\n",
       "      <td>no</td>\n",
       "      <td>cellular</td>\n",
       "      <td>19</td>\n",
       "      <td>oct</td>\n",
       "      <td>79.0</td>\n",
       "      <td>1</td>\n",
       "      <td>-1.0</td>\n",
       "      <td>0</td>\n",
       "      <td>unknown</td>\n",
       "    </tr>\n",
       "    <tr>\n",
       "      <th>1</th>\n",
       "      <td>33</td>\n",
       "      <td>services</td>\n",
       "      <td>married</td>\n",
       "      <td>secondary</td>\n",
       "      <td>no</td>\n",
       "      <td>4789</td>\n",
       "      <td>yes</td>\n",
       "      <td>yes</td>\n",
       "      <td>cellular</td>\n",
       "      <td>11</td>\n",
       "      <td>may</td>\n",
       "      <td>220.0</td>\n",
       "      <td>1</td>\n",
       "      <td>339.0</td>\n",
       "      <td>4</td>\n",
       "      <td>failure</td>\n",
       "    </tr>\n",
       "    <tr>\n",
       "      <th>2</th>\n",
       "      <td>35</td>\n",
       "      <td>management</td>\n",
       "      <td>single</td>\n",
       "      <td>tertiary</td>\n",
       "      <td>no</td>\n",
       "      <td>1350</td>\n",
       "      <td>yes</td>\n",
       "      <td>no</td>\n",
       "      <td>cellular</td>\n",
       "      <td>16</td>\n",
       "      <td>apr</td>\n",
       "      <td>185.0</td>\n",
       "      <td>1</td>\n",
       "      <td>330.0</td>\n",
       "      <td>1</td>\n",
       "      <td>failure</td>\n",
       "    </tr>\n",
       "    <tr>\n",
       "      <th>3</th>\n",
       "      <td>30</td>\n",
       "      <td>management</td>\n",
       "      <td>married</td>\n",
       "      <td>tertiary</td>\n",
       "      <td>no</td>\n",
       "      <td>1476</td>\n",
       "      <td>yes</td>\n",
       "      <td>yes</td>\n",
       "      <td>unknown</td>\n",
       "      <td>3</td>\n",
       "      <td>jun</td>\n",
       "      <td>199.0</td>\n",
       "      <td>4</td>\n",
       "      <td>-1.0</td>\n",
       "      <td>0</td>\n",
       "      <td>unknown</td>\n",
       "    </tr>\n",
       "    <tr>\n",
       "      <th>4</th>\n",
       "      <td>59</td>\n",
       "      <td>blue-collar</td>\n",
       "      <td>married</td>\n",
       "      <td>secondary</td>\n",
       "      <td>no</td>\n",
       "      <td>0</td>\n",
       "      <td>yes</td>\n",
       "      <td>no</td>\n",
       "      <td>unknown</td>\n",
       "      <td>5</td>\n",
       "      <td>may</td>\n",
       "      <td>226.0</td>\n",
       "      <td>1</td>\n",
       "      <td>-1.0</td>\n",
       "      <td>0</td>\n",
       "      <td>unknown</td>\n",
       "    </tr>\n",
       "  </tbody>\n",
       "</table>\n",
       "</div>"
      ],
      "text/plain": [
       "   age          job  marital  education default  balance housing loan  \\\n",
       "0   30   unemployed  married    primary      no     1787      no   no   \n",
       "1   33     services  married  secondary      no     4789     yes  yes   \n",
       "2   35   management   single   tertiary      no     1350     yes   no   \n",
       "3   30   management  married   tertiary      no     1476     yes  yes   \n",
       "4   59  blue-collar  married  secondary      no        0     yes   no   \n",
       "\n",
       "    contact  day month  duration  campaign  pdays  previous poutcome  \n",
       "0  cellular   19   oct      79.0         1   -1.0         0  unknown  \n",
       "1  cellular   11   may     220.0         1  339.0         4  failure  \n",
       "2  cellular   16   apr     185.0         1  330.0         1  failure  \n",
       "3   unknown    3   jun     199.0         4   -1.0         0  unknown  \n",
       "4   unknown    5   may     226.0         1   -1.0         0  unknown  "
      ]
     },
     "execution_count": 5,
     "metadata": {},
     "output_type": "execute_result"
    }
   ],
   "source": [
    "#Features initial state\n",
    "X.head()"
   ]
  },
  {
   "cell_type": "markdown",
   "metadata": {},
   "source": [
    "## Target variable balance"
   ]
  },
  {
   "cell_type": "code",
   "execution_count": 6,
   "metadata": {},
   "outputs": [
    {
     "data": {
      "text/plain": [
       "0    4000\n",
       "1     521\n",
       "Name: y, dtype: int64"
      ]
     },
     "execution_count": 6,
     "metadata": {},
     "output_type": "execute_result"
    }
   ],
   "source": [
    "y.value_counts()"
   ]
  },
  {
   "cell_type": "markdown",
   "metadata": {},
   "source": [
    "# Features engineering"
   ]
  },
  {
   "cell_type": "markdown",
   "metadata": {},
   "source": [
    "## Continuous variables"
   ]
  },
  {
   "cell_type": "code",
   "execution_count": 7,
   "metadata": {},
   "outputs": [
    {
     "name": "stdout",
     "output_type": "stream",
     "text": [
      "Age skew = 0.6995014533559305\n",
      "Balance skew = 6.596430546295735\n",
      "Day skew = 0.09462690455175846\n",
      "Duration skew = 2.7724197169136455\n",
      "Campaign skew = 4.74391446894159\n",
      "Pdays skew = 2.71707136656418\n",
      "Previous skew = 5.875258677896706\n"
     ]
    }
   ],
   "source": [
    "conti = X.select_dtypes(include=np.number)\n",
    "skewed = []\n",
    "for column in conti.columns:\n",
    "    if conti[column].skew()>2:\n",
    "        skewed.append(column)\n",
    "    print(f'{column.capitalize()} skew = {conti[column].skew()}')"
   ]
  },
  {
   "cell_type": "markdown",
   "metadata": {},
   "source": [
    "It is known that ML algorithms tend to perform worse if they have to deal with skewed data. Here we arbitrally have chosen columns with skewness above 2 and transform them, to reduce that parameter."
   ]
  },
  {
   "cell_type": "code",
   "execution_count": 8,
   "metadata": {},
   "outputs": [
    {
     "name": "stdout",
     "output_type": "stream",
     "text": [
      "1.580521502422124 balance yeojohnson\n",
      "0.015631020933611555 duration boxcox\n",
      "0.16509037675445096 campaign boxcox\n",
      "1.6651521750550364 pdays yeojohnson\n",
      "1.664879334841969 previous yeojohnson\n"
     ]
    }
   ],
   "source": [
    "for column in skewed:\n",
    "    if X[column].min()>0:\n",
    "        print(pd.Series(boxcox(X[column])[0]).skew(),f'{column} boxcox')\n",
    "        X[column] = pd.Series(boxcox(X[column])[0])\n",
    "    else:\n",
    "        print(pd.Series(yeojohnson(X[column])[0]).skew(),f'{column} yeojohnson')\n",
    "        X[column] = pd.Series(yeojohnson(X[column])[0])"
   ]
  },
  {
   "cell_type": "markdown",
   "metadata": {},
   "source": [
    "Ideally we would like to use boxcox transormation for all our chosen data, but this type of transormation does not work with negative values. Instead of trying to add some constant to these columns with non-positive values we decided to use yeojohnson transormation which is capable of dealing with negative data. As we can see in all of our columns we have managed to reduce skewness massively."
   ]
  },
  {
   "cell_type": "markdown",
   "metadata": {},
   "source": [
    "## Categorical variables"
   ]
  },
  {
   "cell_type": "code",
   "execution_count": 9,
   "metadata": {},
   "outputs": [
    {
     "data": {
      "text/plain": [
       "Index(['job', 'marital', 'education', 'default', 'housing', 'loan', 'contact',\n",
       "       'month', 'poutcome'],\n",
       "      dtype='object')"
      ]
     },
     "execution_count": 9,
     "metadata": {},
     "output_type": "execute_result"
    }
   ],
   "source": [
    "#List of categorical variables\n",
    "X.select_dtypes(include='object').columns"
   ]
  },
  {
   "cell_type": "markdown",
   "metadata": {},
   "source": [
    "### Binary values\n",
    "Variables: 'default', 'housing', 'loan'\\\n",
    "Values: 'yes', 'no'\\\n",
    "Method: map to yes=1, no=0"
   ]
  },
  {
   "cell_type": "code",
   "execution_count": 10,
   "metadata": {},
   "outputs": [],
   "source": [
    "X = X.replace('yes', 1)\n",
    "X = X.replace('no', 0)"
   ]
  },
  {
   "cell_type": "markdown",
   "metadata": {},
   "source": [
    "### Month variable\n",
    "Values: string abbreviations\\\n",
    "Method: transform to numerical"
   ]
  },
  {
   "cell_type": "code",
   "execution_count": 11,
   "metadata": {},
   "outputs": [],
   "source": [
    "X.month = X.month.map(dict(\n",
    "jan=1, feb=2, mar=3, apr=4, may=5, jun=6,\n",
    "jul=7, aug=8, sep=9, oct=10, nov=11, dec=12))"
   ]
  },
  {
   "cell_type": "markdown",
   "metadata": {},
   "source": [
    "### Variables: 'job', 'marital', 'education', 'poutcom', 'contact'"
   ]
  },
  {
   "cell_type": "markdown",
   "metadata": {},
   "source": [
    "Thanks to EDA we know that:\n",
    "\n",
    "- 'unknown' values are present\n",
    "- 'job', 'education', 'poutcom' seem to have impact on target variable\n",
    "- values distributions have no dangerous disparities (in terms of using the target encoding method)\n",
    "\n",
    "Hence, we decide to:\n",
    "\n",
    " - leave the 'unknown' values, as it represents best the idea of the missing information in our case\n",
    " - apply target encoding method to variables related with target variable\n",
    " - apply one-hot encoding to other variables\n",
    " \n",
    "Expecting target encoding to reflect the relationship of variables with target variable - where it is present according to EDA - and one-hot method to neutrally pass on values of other variables.\\\n",
    "\\\n",
    "For second approach to compere results we decide to apply target encoding for all of these features."
   ]
  },
  {
   "cell_type": "code",
   "execution_count": 12,
   "metadata": {},
   "outputs": [],
   "source": [
    "#Approach 1\n",
    "X1 = X.copy()\n",
    "\n",
    "#Target encoding\n",
    "te = TargetEncoder()\n",
    "X1.loc[:, ['job', 'education', 'poutcome']] = te.fit_transform(X1.loc[:, ['job', 'education', 'poutcome']], y)\n",
    "\n",
    "#One-hot encoding\n",
    "X1 = pd.get_dummies(X1, columns=['marital', 'contact'])\n",
    "#cols = X.columns"
   ]
  },
  {
   "cell_type": "code",
   "execution_count": 13,
   "metadata": {},
   "outputs": [],
   "source": [
    "#Approach 2\n",
    "X2 = X.copy()\n",
    "\n",
    "#Target encoding for all variables\n",
    "te2 = TargetEncoder()\n",
    "cols_to_te = ['job', 'education', 'poutcome', 'marital', 'contact']\n",
    "X2.loc[:, cols_to_te] = te2.fit_transform(X2.loc[:, cols_to_te], y)"
   ]
  },
  {
   "cell_type": "markdown",
   "metadata": {},
   "source": [
    "Scaling the data just for sake we might use alghoritm that require standarized input."
   ]
  },
  {
   "cell_type": "code",
   "execution_count": 14,
   "metadata": {},
   "outputs": [],
   "source": [
    "scaler = StandardScaler()\n",
    "scaler2 = StandardScaler()\n",
    "X1 = scaler.fit_transform(X1)\n",
    "X2 = scaler2.fit_transform(X2)"
   ]
  },
  {
   "cell_type": "markdown",
   "metadata": {},
   "source": [
    "# Modeling"
   ]
  },
  {
   "cell_type": "code",
   "execution_count": 17,
   "metadata": {},
   "outputs": [],
   "source": [
    "def modeling(X,y):\n",
    "    \n",
    "    #Train-test split\n",
    "    X_train,X_test,y_train,y_test = train_test_split(X,y,test_size=0.2,random_state = 42)\n",
    "    \n",
    "    #cv folds\n",
    "    kfold = KFold(n_splits=5, random_state=42)\n",
    "    \n",
    "    #cv scores\n",
    "    scoring = {'accuracy': 'accuracy',\n",
    "               'recall': 'recall_macro',\n",
    "               'auc': 'roc_auc',}\n",
    "    \n",
    "    #Logistic regression\n",
    "    logistic = LogisticRegressionCV()\n",
    "    #cross_val_score(logistic,X_train,y_train,scoring='roc_auc',cv=kfold).mean()\n",
    "    r_log = cross_validate(logistic,X_train,y_train,scoring=scoring, cv=kfold)\n",
    "    \n",
    "    #xgb\n",
    "    params = {'colsample_bytree': 0.8, 'gamma': 1.5, 'max_depth': 5, 'min_child_weight': 1, 'subsample': 0.8,'n_estimators':1000}\n",
    "    xg = xgb.XGBClassifier(objective='binary:logistic',nthread=4,n_jobs=4,params=params)\n",
    "    #kfold = KFold(n_splits=5, random_state=42)\n",
    "    #cross_val_score(xg, X_train, y_train, cv=kfold,scoring='roc_auc').mean()\n",
    "    r_xgb = cross_validate(xg, X_train, y_train, cv=kfold, scoring=scoring)\n",
    "    \n",
    "    #random forest\n",
    "    params = {'max_depth': 10, 'min_samples_leaf': 2, 'min_samples_split': 2, 'n_estimators': 2000}\n",
    "    tree = RandomForestClassifier(**params)\n",
    "    #kfold = KFold(n_splits=5, random_state=42)\n",
    "    r_ranforest = cross_validate(tree,X_train,y_train,scoring=scoring,cv=kfold)\n",
    "    \n",
    "    return([r_log, r_ranforest, r_xgb])"
   ]
  },
  {
   "cell_type": "code",
   "execution_count": 21,
   "metadata": {},
   "outputs": [
    {
     "name": "stderr",
     "output_type": "stream",
     "text": [
      "/home/piotr/anaconda3/lib/python3.7/site-packages/sklearn/model_selection/_split.py:296: FutureWarning: Setting a random_state has no effect since shuffle is False. This will raise an error in 0.24. You should leave random_state to its default (None), or set shuffle=True.\n",
      "  FutureWarning\n"
     ]
    }
   ],
   "source": [
    "result = modeling(X1,y)"
   ]
  },
  {
   "cell_type": "code",
   "execution_count": 22,
   "metadata": {},
   "outputs": [
    {
     "name": "stderr",
     "output_type": "stream",
     "text": [
      "/home/piotr/anaconda3/lib/python3.7/site-packages/sklearn/model_selection/_split.py:296: FutureWarning: Setting a random_state has no effect since shuffle is False. This will raise an error in 0.24. You should leave random_state to its default (None), or set shuffle=True.\n",
      "  FutureWarning\n"
     ]
    }
   ],
   "source": [
    "result2 = modeling(X2,y)"
   ]
  },
  {
   "cell_type": "markdown",
   "metadata": {},
   "source": [
    "# Scores"
   ]
  },
  {
   "cell_type": "markdown",
   "metadata": {},
   "source": [
    "Scores means from cross-validation are presented below for three tested algorithms and two features engineering approaches. We observe satisfying accuracy and auc, but recall needs to be improved in futer. Its low score is propably caused by imbalance in target variable.\\\n",
    "Algorithms results are suprisingly very similar. XGBoost performed best in recall score."
   ]
  },
  {
   "cell_type": "code",
   "execution_count": 23,
   "metadata": {},
   "outputs": [
    {
     "name": "stdout",
     "output_type": "stream",
     "text": [
      "Logistic regression:\n"
     ]
    },
    {
     "data": {
      "text/html": [
       "<div>\n",
       "<style scoped>\n",
       "    .dataframe tbody tr th:only-of-type {\n",
       "        vertical-align: middle;\n",
       "    }\n",
       "\n",
       "    .dataframe tbody tr th {\n",
       "        vertical-align: top;\n",
       "    }\n",
       "\n",
       "    .dataframe thead th {\n",
       "        text-align: right;\n",
       "    }\n",
       "</style>\n",
       "<table border=\"1\" class=\"dataframe\">\n",
       "  <thead>\n",
       "    <tr style=\"text-align: right;\">\n",
       "      <th></th>\n",
       "      <th>X1</th>\n",
       "      <th>X2</th>\n",
       "    </tr>\n",
       "  </thead>\n",
       "  <tbody>\n",
       "    <tr>\n",
       "      <th>fit_time</th>\n",
       "      <td>0.202935</td>\n",
       "      <td>0.189910</td>\n",
       "    </tr>\n",
       "    <tr>\n",
       "      <th>score_time</th>\n",
       "      <td>0.003106</td>\n",
       "      <td>0.002705</td>\n",
       "    </tr>\n",
       "    <tr>\n",
       "      <th>test_accuracy</th>\n",
       "      <td>0.897949</td>\n",
       "      <td>0.897672</td>\n",
       "    </tr>\n",
       "    <tr>\n",
       "      <th>test_recall</th>\n",
       "      <td>0.640133</td>\n",
       "      <td>0.634610</td>\n",
       "    </tr>\n",
       "    <tr>\n",
       "      <th>test_auc</th>\n",
       "      <td>0.880112</td>\n",
       "      <td>0.881423</td>\n",
       "    </tr>\n",
       "  </tbody>\n",
       "</table>\n",
       "</div>"
      ],
      "text/plain": [
       "                     X1        X2\n",
       "fit_time       0.202935  0.189910\n",
       "score_time     0.003106  0.002705\n",
       "test_accuracy  0.897949  0.897672\n",
       "test_recall    0.640133  0.634610\n",
       "test_auc       0.880112  0.881423"
      ]
     },
     "execution_count": 23,
     "metadata": {},
     "output_type": "execute_result"
    }
   ],
   "source": [
    "r1 = pd.DataFrame(result[0]).mean()\n",
    "r2 = pd.DataFrame(result2[0]).mean()\n",
    "r = pd.DataFrame({'X1': r1.values, 'X2': r2.values}, index=r1.axes)\n",
    "print(\"Logistic regression:\")\n",
    "r"
   ]
  },
  {
   "cell_type": "code",
   "execution_count": 24,
   "metadata": {},
   "outputs": [
    {
     "name": "stdout",
     "output_type": "stream",
     "text": [
      "Random forest:\n"
     ]
    },
    {
     "data": {
      "text/html": [
       "<div>\n",
       "<style scoped>\n",
       "    .dataframe tbody tr th:only-of-type {\n",
       "        vertical-align: middle;\n",
       "    }\n",
       "\n",
       "    .dataframe tbody tr th {\n",
       "        vertical-align: top;\n",
       "    }\n",
       "\n",
       "    .dataframe thead th {\n",
       "        text-align: right;\n",
       "    }\n",
       "</style>\n",
       "<table border=\"1\" class=\"dataframe\">\n",
       "  <thead>\n",
       "    <tr style=\"text-align: right;\">\n",
       "      <th></th>\n",
       "      <th>X1</th>\n",
       "      <th>X2</th>\n",
       "    </tr>\n",
       "  </thead>\n",
       "  <tbody>\n",
       "    <tr>\n",
       "      <th>fit_time</th>\n",
       "      <td>5.472812</td>\n",
       "      <td>5.838744</td>\n",
       "    </tr>\n",
       "    <tr>\n",
       "      <th>score_time</th>\n",
       "      <td>0.559627</td>\n",
       "      <td>0.576394</td>\n",
       "    </tr>\n",
       "    <tr>\n",
       "      <th>test_accuracy</th>\n",
       "      <td>0.893523</td>\n",
       "      <td>0.894075</td>\n",
       "    </tr>\n",
       "    <tr>\n",
       "      <th>test_recall</th>\n",
       "      <td>0.602834</td>\n",
       "      <td>0.620310</td>\n",
       "    </tr>\n",
       "    <tr>\n",
       "      <th>test_auc</th>\n",
       "      <td>0.902316</td>\n",
       "      <td>0.902169</td>\n",
       "    </tr>\n",
       "  </tbody>\n",
       "</table>\n",
       "</div>"
      ],
      "text/plain": [
       "                     X1        X2\n",
       "fit_time       5.472812  5.838744\n",
       "score_time     0.559627  0.576394\n",
       "test_accuracy  0.893523  0.894075\n",
       "test_recall    0.602834  0.620310\n",
       "test_auc       0.902316  0.902169"
      ]
     },
     "execution_count": 24,
     "metadata": {},
     "output_type": "execute_result"
    }
   ],
   "source": [
    "r1 = pd.DataFrame(result[1]).mean()\n",
    "r2 = pd.DataFrame(result2[1]).mean()\n",
    "r = pd.DataFrame({'X1': r1.values, 'X2': r2.values}, index=r1.axes)\n",
    "print(\"Random forest:\")\n",
    "r"
   ]
  },
  {
   "cell_type": "code",
   "execution_count": 25,
   "metadata": {},
   "outputs": [
    {
     "name": "stdout",
     "output_type": "stream",
     "text": [
      "XGBoost:\n"
     ]
    },
    {
     "data": {
      "text/html": [
       "<div>\n",
       "<style scoped>\n",
       "    .dataframe tbody tr th:only-of-type {\n",
       "        vertical-align: middle;\n",
       "    }\n",
       "\n",
       "    .dataframe tbody tr th {\n",
       "        vertical-align: top;\n",
       "    }\n",
       "\n",
       "    .dataframe thead th {\n",
       "        text-align: right;\n",
       "    }\n",
       "</style>\n",
       "<table border=\"1\" class=\"dataframe\">\n",
       "  <thead>\n",
       "    <tr style=\"text-align: right;\">\n",
       "      <th></th>\n",
       "      <th>X1</th>\n",
       "      <th>X2</th>\n",
       "    </tr>\n",
       "  </thead>\n",
       "  <tbody>\n",
       "    <tr>\n",
       "      <th>fit_time</th>\n",
       "      <td>0.103365</td>\n",
       "      <td>0.093803</td>\n",
       "    </tr>\n",
       "    <tr>\n",
       "      <th>score_time</th>\n",
       "      <td>0.005910</td>\n",
       "      <td>0.005651</td>\n",
       "    </tr>\n",
       "    <tr>\n",
       "      <th>test_accuracy</th>\n",
       "      <td>0.892691</td>\n",
       "      <td>0.892692</td>\n",
       "    </tr>\n",
       "    <tr>\n",
       "      <th>test_recall</th>\n",
       "      <td>0.663440</td>\n",
       "      <td>0.668237</td>\n",
       "    </tr>\n",
       "    <tr>\n",
       "      <th>test_auc</th>\n",
       "      <td>0.894630</td>\n",
       "      <td>0.892627</td>\n",
       "    </tr>\n",
       "  </tbody>\n",
       "</table>\n",
       "</div>"
      ],
      "text/plain": [
       "                     X1        X2\n",
       "fit_time       0.103365  0.093803\n",
       "score_time     0.005910  0.005651\n",
       "test_accuracy  0.892691  0.892692\n",
       "test_recall    0.663440  0.668237\n",
       "test_auc       0.894630  0.892627"
      ]
     },
     "execution_count": 25,
     "metadata": {},
     "output_type": "execute_result"
    }
   ],
   "source": [
    "r1 = pd.DataFrame(result[2]).mean()\n",
    "r2 = pd.DataFrame(result2[2]).mean()\n",
    "r = pd.DataFrame({'X1': r1.values, 'X2': r2.values}, index=r1.axes)\n",
    "print(\"XGBoost:\")\n",
    "r"
   ]
  },
  {
   "cell_type": "markdown",
   "metadata": {},
   "source": [
    "## Features importances"
   ]
  },
  {
   "cell_type": "code",
   "execution_count": 26,
   "metadata": {},
   "outputs": [
    {
     "ename": "NameError",
     "evalue": "name 'model' is not defined",
     "output_type": "error",
     "traceback": [
      "\u001b[0;31m---------------------------------------------------------------------------\u001b[0m",
      "\u001b[0;31mNameError\u001b[0m                                 Traceback (most recent call last)",
      "\u001b[0;32m<ipython-input-26-82204d4f40fb>\u001b[0m in \u001b[0;36m<module>\u001b[0;34m\u001b[0m\n\u001b[0;32m----> 1\u001b[0;31m \u001b[0mmodel\u001b[0m\u001b[0;34m.\u001b[0m\u001b[0mfit\u001b[0m\u001b[0;34m(\u001b[0m\u001b[0mX_train\u001b[0m\u001b[0;34m,\u001b[0m\u001b[0my_train\u001b[0m\u001b[0;34m)\u001b[0m\u001b[0;34m\u001b[0m\u001b[0;34m\u001b[0m\u001b[0m\n\u001b[0m\u001b[1;32m      2\u001b[0m \u001b[0mfeat_importances\u001b[0m \u001b[0;34m=\u001b[0m \u001b[0mpd\u001b[0m\u001b[0;34m.\u001b[0m\u001b[0mSeries\u001b[0m\u001b[0;34m(\u001b[0m\u001b[0mmodel\u001b[0m\u001b[0;34m.\u001b[0m\u001b[0mfeature_importances_\u001b[0m\u001b[0;34m,\u001b[0m \u001b[0mindex\u001b[0m\u001b[0;34m=\u001b[0m\u001b[0mcols\u001b[0m\u001b[0;34m)\u001b[0m\u001b[0;34m\u001b[0m\u001b[0;34m\u001b[0m\u001b[0m\n\u001b[1;32m      3\u001b[0m \u001b[0mfeat_importances\u001b[0m\u001b[0;34m.\u001b[0m\u001b[0mnlargest\u001b[0m\u001b[0;34m(\u001b[0m\u001b[0;36m20\u001b[0m\u001b[0;34m)\u001b[0m\u001b[0;34m.\u001b[0m\u001b[0mplot\u001b[0m\u001b[0;34m(\u001b[0m\u001b[0mkind\u001b[0m\u001b[0;34m=\u001b[0m\u001b[0;34m'barh'\u001b[0m\u001b[0;34m)\u001b[0m\u001b[0;34m\u001b[0m\u001b[0;34m\u001b[0m\u001b[0m\n",
      "\u001b[0;31mNameError\u001b[0m: name 'model' is not defined"
     ]
    }
   ],
   "source": [
    "model.fit(X_train,y_train)\n",
    "feat_importances = pd.Series(model.feature_importances_, index=cols)\n",
    "feat_importances.nlargest(20).plot(kind='barh')"
   ]
  },
  {
   "cell_type": "code",
   "execution_count": null,
   "metadata": {},
   "outputs": [],
   "source": [
    "########################\n",
    "# zostawiłem na razie to co niżej wstaw gdzie uważasz"
   ]
  },
  {
   "cell_type": "code",
   "execution_count": null,
   "metadata": {},
   "outputs": [],
   "source": [
    "X_train,X_test,y_train,y_test = train_test_split(X,y,test_size=0.2,random_state = 42)"
   ]
  },
  {
   "cell_type": "code",
   "execution_count": null,
   "metadata": {},
   "outputs": [],
   "source": [
    "#params = {'colsample_bytree': 0.8, 'gamma': 1.5, 'max_depth': 5, 'min_child_weight': 1, 'subsample': 0.8,'n_estimators':1000}\n",
    "#xg = xgb.XGBClassifier(objective='binary:logistic',nthread=4,n_jobs=4,params=params)\n",
    "#kfold = KFold(n_splits=5, random_state=42)\n",
    "#cross_val_score(xg, X_train, y_train, cv=kfold,scoring='roc_auc').mean()"
   ]
  },
  {
   "cell_type": "code",
   "execution_count": null,
   "metadata": {},
   "outputs": [],
   "source": [
    "#xg.fit(X_train,y_train)\n",
    "#feat_importances = pd.Series(xg.feature_importances_, index=cols)\n",
    "#feat_importances.nlargest(20).plot(kind='barh')\n",
    "#Tak jak sie mozna bylo spodziewac poutcome ma najwiekszy wplyw na klasyfikator"
   ]
  },
  {
   "cell_type": "code",
   "execution_count": null,
   "metadata": {},
   "outputs": [],
   "source": [
    "params = {'max_depth': 3, 'min_samples_leaf': 2, 'min_samples_split': 2, 'n_estimators': 500,'max_features':'auto'}\n",
    "tree = RandomForestClassifier(**params)\n",
    "kfold = KFold(n_splits=10, random_state=42)\n",
    "cross_val_score(tree,X_train,y_train,scoring='roc_auc',cv=kfold).mean()"
   ]
  },
  {
   "cell_type": "code",
   "execution_count": null,
   "metadata": {},
   "outputs": [],
   "source": [
    "logistic = LogisticRegression(C=0.001,solver='saga')\n",
    "kfold = KFold(n_splits=5, random_state=42)\n",
    "cross_val_score(logistic,X_train,y_train,scoring='roc_auc',cv=kfold).mean()"
   ]
  },
  {
   "cell_type": "code",
   "execution_count": null,
   "metadata": {},
   "outputs": [],
   "source": [
    "logistic.fit(X_train,y_train)\n",
    "pred_logistic = logistic.predict(X_test)\n",
    "score_logistic = roc_auc_score(pred_logistic,y_test)\n",
    "score_logistic\n",
    "#? xD"
   ]
  }
 ],
 "metadata": {
  "kernelspec": {
   "display_name": "Python 3",
   "language": "python",
   "name": "python3"
  },
  "language_info": {
   "codemirror_mode": {
    "name": "ipython",
    "version": 3
   },
   "file_extension": ".py",
   "mimetype": "text/x-python",
   "name": "python",
   "nbconvert_exporter": "python",
   "pygments_lexer": "ipython3",
   "version": "3.7.4"
  }
 },
 "nbformat": 4,
 "nbformat_minor": 2
}
