{
 "cells": [
  {
   "cell_type": "markdown",
   "metadata": {},
   "source": [
    "### Packages and dataset"
   ]
  },
  {
   "cell_type": "code",
   "execution_count": 2,
   "metadata": {},
   "outputs": [
    {
     "name": "stderr",
     "output_type": "stream",
     "text": [
      "/home/piotr/anaconda3/lib/python3.7/site-packages/statsmodels/tools/_testing.py:19: FutureWarning: pandas.util.testing is deprecated. Use the functions in the public API at pandas.testing instead.\n",
      "  import pandas.util.testing as tm\n"
     ]
    }
   ],
   "source": [
    "import pandas as pd\n",
    "import numpy as np\n",
    "import seaborn as sns\n",
    "import matplotlib.pyplot as plt\n",
    "from scipy.stats import skew,boxcox,yeojohnson\n",
    "from bayes_opt import BayesianOptimization\n",
    "from sklearn.preprocessing import LabelEncoder\n",
    "import category_encoders\n",
    "from category_encoders.target_encoder import TargetEncoder\n",
    "from sklearn.model_selection import train_test_split,cross_val_score,KFold,GridSearchCV,cross_validate\n",
    "from sklearn.preprocessing import StandardScaler\n",
    "import time\n",
    "from sklearn.metrics import roc_auc_score,roc_curve, auc,precision_score,recall_score, precision_recall_curve,plot_precision_recall_curve,accuracy_score,plot_confusion_matrix,confusion_matrix,classification_report\n",
    "from sklearn.ensemble import RandomForestClassifier,StackingClassifier\n",
    "from sklearn.linear_model import LogisticRegression\n",
    "import xgboost as xgb\n",
    "from sklearn.svm import SVC\n",
    "import matplotlib.pyplot as plt"
   ]
  },
  {
   "cell_type": "markdown",
   "metadata": {},
   "source": [
    "# From previous checpoints"
   ]
  },
  {
   "cell_type": "code",
   "execution_count": 3,
   "metadata": {},
   "outputs": [],
   "source": [
    "#Reading csv\n",
    "df = pd.read_csv(\"bank_marketing_weka_dataset.csv\")\n",
    "\n",
    "#Separate features\n",
    "X = df.drop(['y'], axis=1)\n",
    "\n",
    "#Target variable\n",
    "y = df['y']\n",
    "\n",
    "#Transform 'y' to binary\n",
    "y = y.map(dict(yes=1, no=0))\n",
    "\n",
    "#Continuos variables\n",
    "conti = X.select_dtypes(include=np.number)"
   ]
  },
  {
   "cell_type": "markdown",
   "metadata": {},
   "source": [
    "### Target variable balance"
   ]
  },
  {
   "cell_type": "code",
   "execution_count": 17,
   "metadata": {},
   "outputs": [
    {
     "data": {
      "text/plain": [
       "0    4000\n",
       "1     521\n",
       "Name: y, dtype: int64"
      ]
     },
     "execution_count": 17,
     "metadata": {},
     "output_type": "execute_result"
    }
   ],
   "source": [
    "y.value_counts()"
   ]
  },
  {
   "cell_type": "markdown",
   "metadata": {},
   "source": [
    "### Features engineering"
   ]
  },
  {
   "cell_type": "markdown",
   "metadata": {},
   "source": [
    "### Modifications for the whole dataset"
   ]
  },
  {
   "cell_type": "code",
   "execution_count": 4,
   "metadata": {},
   "outputs": [],
   "source": [
    "X = X.replace('yes', 1)\n",
    "X = X.replace('no', 0)"
   ]
  },
  {
   "cell_type": "code",
   "execution_count": 5,
   "metadata": {},
   "outputs": [],
   "source": [
    "X.month = X.month.map(dict(\n",
    "jan=1, feb=2, mar=3, apr=4, may=5, jun=6,\n",
    "jul=7, aug=8, sep=9, oct=10, nov=11, dec=12))"
   ]
  },
  {
   "cell_type": "markdown",
   "metadata": {},
   "source": [
    "### Train test split\n",
    "Now we split the dataset to train and test parts to prevent data leakage in the future model learning.  \n",
    "We use stratify parameter to keep equal proportions between classes. "
   ]
  },
  {
   "cell_type": "code",
   "execution_count": 6,
   "metadata": {},
   "outputs": [],
   "source": [
    "X_train,X_test,y_train,y_test = train_test_split(X,y,test_size=0.3,random_state = 42,stratify=y)"
   ]
  },
  {
   "cell_type": "markdown",
   "metadata": {},
   "source": [
    "### Continuous variables"
   ]
  },
  {
   "cell_type": "markdown",
   "metadata": {},
   "source": [
    "### Train set"
   ]
  },
  {
   "cell_type": "code",
   "execution_count": 7,
   "metadata": {},
   "outputs": [],
   "source": [
    "def skew(X, conti):\n",
    "    '''Calculates skewness of continuous variables in dataset. conti - var list\n",
    "    returns columns with skewness>2'''\n",
    "    skewed = []\n",
    "    for column in conti.columns:\n",
    "        if conti[column].skew()>2:\n",
    "            skewed.append(column)\n",
    "        print(f'{column.capitalize()} skew = {conti[column].skew()}')\n",
    "    return(skewed)"
   ]
  },
  {
   "cell_type": "code",
   "execution_count": 8,
   "metadata": {},
   "outputs": [
    {
     "name": "stdout",
     "output_type": "stream",
     "text": [
      "Age skew = 0.6995014533559305\n",
      "Balance skew = 6.596430546295735\n",
      "Day skew = 0.09462690455175846\n",
      "Duration skew = 2.7724197169136455\n",
      "Campaign skew = 4.74391446894159\n",
      "Pdays skew = 2.71707136656418\n",
      "Previous skew = 5.875258677896706\n"
     ]
    }
   ],
   "source": [
    "skew_train = skew(X_train, conti)"
   ]
  },
  {
   "cell_type": "code",
   "execution_count": 9,
   "metadata": {},
   "outputs": [],
   "source": [
    "def skew_reduce(X, skewed):\n",
    "    '''Applies boxcox or yeojohnson transform on skew vars'''\n",
    "    for column in skewed:\n",
    "        if X[column].min()>0:\n",
    "            print(pd.Series(boxcox(X[column])[0]).skew(),f'{column} boxcox')\n",
    "            X.reset_index(drop=True, inplace=True)\n",
    "            X.loc[:, column] = pd.Series(boxcox(X[column])[0])\n",
    "        else:\n",
    "            print(pd.Series(yeojohnson(X[column])[0]).skew(),f'{column} yeojohnson')\n",
    "            X.reset_index(drop=True, inplace=True)\n",
    "            X.loc[:, column] = pd.Series(yeojohnson(X[column])[0])"
   ]
  },
  {
   "cell_type": "code",
   "execution_count": 10,
   "metadata": {},
   "outputs": [
    {
     "name": "stdout",
     "output_type": "stream",
     "text": [
      "1.1384912322328207 balance yeojohnson\n",
      "0.013257465607195186 duration boxcox\n",
      "0.16296521851854104 campaign boxcox\n",
      "1.633351627582676 pdays yeojohnson\n",
      "1.6323338862831511 previous yeojohnson\n"
     ]
    },
    {
     "name": "stderr",
     "output_type": "stream",
     "text": [
      "/home/piotr/anaconda3/lib/python3.7/site-packages/pandas/core/indexing.py:966: SettingWithCopyWarning: \n",
      "A value is trying to be set on a copy of a slice from a DataFrame.\n",
      "Try using .loc[row_indexer,col_indexer] = value instead\n",
      "\n",
      "See the caveats in the documentation: https://pandas.pydata.org/pandas-docs/stable/user_guide/indexing.html#returning-a-view-versus-a-copy\n",
      "  self.obj[item] = s\n"
     ]
    }
   ],
   "source": [
    "skew_reduce(X_train, skew_train)"
   ]
  },
  {
   "cell_type": "markdown",
   "metadata": {},
   "source": [
    "### Test set"
   ]
  },
  {
   "cell_type": "code",
   "execution_count": 11,
   "metadata": {},
   "outputs": [
    {
     "name": "stdout",
     "output_type": "stream",
     "text": [
      "Age skew = 0.6995014533559305\n",
      "Balance skew = 6.596430546295735\n",
      "Day skew = 0.09462690455175846\n",
      "Duration skew = 2.7724197169136455\n",
      "Campaign skew = 4.74391446894159\n",
      "Pdays skew = 2.71707136656418\n",
      "Previous skew = 5.875258677896706\n"
     ]
    }
   ],
   "source": [
    "skew_test = skew(X_test, conti)"
   ]
  },
  {
   "cell_type": "code",
   "execution_count": 12,
   "metadata": {},
   "outputs": [
    {
     "name": "stdout",
     "output_type": "stream",
     "text": [
      "2.28515105202657 balance yeojohnson\n",
      "0.021053668359760105 duration boxcox\n",
      "0.17031430500454864 campaign boxcox\n",
      "1.7444746397142898 pdays yeojohnson\n",
      "1.7458862134772606 previous yeojohnson\n"
     ]
    }
   ],
   "source": [
    "skew_reduce(X_test, skew_test)"
   ]
  },
  {
   "cell_type": "markdown",
   "metadata": {},
   "source": [
    "### Categorical variables"
   ]
  },
  {
   "cell_type": "markdown",
   "metadata": {},
   "source": [
    "### Variables: 'job', 'marital', 'education', 'poutcom', 'contact'"
   ]
  },
  {
   "cell_type": "code",
   "execution_count": 13,
   "metadata": {},
   "outputs": [],
   "source": [
    "#Approach 1 which achived better results in last experiments\n",
    "X1_train = X_train.copy()\n",
    "X1_test = X_test.copy()\n",
    "\n",
    "#Target encoding train set\n",
    "te = TargetEncoder()\n",
    "X1_train.loc[:, ['job', 'education', 'poutcome']] = te.fit_transform(X1_train.loc[:, ['job', 'education', 'poutcome']], y_train)\n",
    "#test set\n",
    "X1_test.loc[:, ['job', 'education', 'poutcome']] = te.transform(X1_test.loc[:, ['job', 'education', 'poutcome']])\n",
    "\n",
    "#One-hot encoding\n",
    "X1_train = pd.get_dummies(X1_train, columns=['marital', 'contact'])\n",
    "X1_test = pd.get_dummies(X1_test, columns=['marital', 'contact'])\n",
    "\n",
    "#For future\n",
    "cols = X1_train.columns"
   ]
  },
  {
   "cell_type": "code",
   "execution_count": 14,
   "metadata": {},
   "outputs": [],
   "source": [
    "scaler = StandardScaler()\n",
    "X1_train = scaler.fit_transform(X1_train)\n",
    "X1_test = scaler.transform(X1_test)"
   ]
  },
  {
   "cell_type": "markdown",
   "metadata": {},
   "source": [
    "### Modeling"
   ]
  },
  {
   "cell_type": "code",
   "execution_count": 30,
   "metadata": {},
   "outputs": [],
   "source": [
    "def modeling(X_train, y_train):\n",
    "        #cv folds,\n",
    "        kfold = KFold(n_splits=5, random_state=42, shuffle=True)\n",
    "        scoring = {'precision': 'precision_macro',\n",
    "                   'recall': 'recall_macro',\n",
    "                   'accuracy': 'accuracy',\n",
    "                   'auc': 'roc_auc'}\n",
    "        \n",
    "        #Logistic regression\"\n",
    "        logistic =  LogisticRegression(C=0.001,solver='saga',random_state=42)\n",
    "        r_log = cross_validate(logistic,X_train,y_train,scoring=scoring, cv=kfold)\n",
    "        \n",
    "        #xgb\n",
    "        params = {'colsample_bytree': 0.8, 'gamma': 1.5, 'max_depth': 4, 'min_child_weight': 1, \n",
    "                  'subsample': 0.8,'n_estimators':400,'random_state':42}\n",
    "        xg = xgb.XGBClassifier(objective='binary:logistic',nthread=4,n_jobs=4,params=params)\n",
    "        r_xgb = cross_validate(xg, X_train, y_train, cv=kfold, scoring=scoring)\n",
    "        \n",
    "        #random forest\n",
    "        params = {'max_depth': 3, 'min_samples_leaf': 2, 'min_samples_split': 2, \n",
    "                  'n_estimators': 500,'max_features':'auto','random_state':42}\n",
    "        tree = RandomForestClassifier(**params)\n",
    "        r_ranforest = cross_validate(tree,X_train,y_train,scoring=scoring,cv=kfold)\n",
    "    \n",
    "        svm = SVC(C=10)\n",
    "        r_svm = cross_validate(svm,X_train,y_train,scoring=scoring,cv=kfold)\n",
    "        \n",
    "        return([r_log, r_ranforest, r_xgb,r_svm])"
   ]
  },
  {
   "cell_type": "code",
   "execution_count": 31,
   "metadata": {},
   "outputs": [
    {
     "name": "stderr",
     "output_type": "stream",
     "text": [
      "/home/arctickey/anaconda3/lib/python3.7/site-packages/sklearn/metrics/_classification.py:1272: UndefinedMetricWarning: Precision is ill-defined and being set to 0.0 in labels with no predicted samples. Use `zero_division` parameter to control this behavior.\n",
      "  _warn_prf(average, modifier, msg_start, len(result))\n",
      "/home/arctickey/anaconda3/lib/python3.7/site-packages/sklearn/metrics/_classification.py:1272: UndefinedMetricWarning: Precision is ill-defined and being set to 0.0 in labels with no predicted samples. Use `zero_division` parameter to control this behavior.\n",
      "  _warn_prf(average, modifier, msg_start, len(result))\n",
      "/home/arctickey/anaconda3/lib/python3.7/site-packages/sklearn/metrics/_classification.py:1272: UndefinedMetricWarning: Precision is ill-defined and being set to 0.0 in labels with no predicted samples. Use `zero_division` parameter to control this behavior.\n",
      "  _warn_prf(average, modifier, msg_start, len(result))\n",
      "/home/arctickey/anaconda3/lib/python3.7/site-packages/sklearn/metrics/_classification.py:1272: UndefinedMetricWarning: Precision is ill-defined and being set to 0.0 in labels with no predicted samples. Use `zero_division` parameter to control this behavior.\n",
      "  _warn_prf(average, modifier, msg_start, len(result))\n",
      "/home/arctickey/anaconda3/lib/python3.7/site-packages/sklearn/metrics/_classification.py:1272: UndefinedMetricWarning: Precision is ill-defined and being set to 0.0 in labels with no predicted samples. Use `zero_division` parameter to control this behavior.\n",
      "  _warn_prf(average, modifier, msg_start, len(result))\n",
      "/home/arctickey/anaconda3/lib/python3.7/site-packages/sklearn/metrics/_classification.py:1272: UndefinedMetricWarning: Precision is ill-defined and being set to 0.0 in labels with no predicted samples. Use `zero_division` parameter to control this behavior.\n",
      "  _warn_prf(average, modifier, msg_start, len(result))\n"
     ]
    }
   ],
   "source": [
    "result = modeling(X1_train,y_train)"
   ]
  },
  {
   "cell_type": "markdown",
   "metadata": {},
   "source": [
    "### Validation scores"
   ]
  },
  {
   "cell_type": "markdown",
   "metadata": {},
   "source": [
    "Scores means from cross-validation are presented below for three tested algorithms and two features engineering approaches. We observe satisfying accuracy and auc, but recall needs to be improved in future. Its low score is propably caused by imbalance in target variable. Algorithms results are suprisingly very similar. XGBoost performed best in recall score."
   ]
  },
  {
   "cell_type": "code",
   "execution_count": 32,
   "metadata": {},
   "outputs": [
    {
     "name": "stdout",
     "output_type": "stream",
     "text": [
      "Logistic regression:\n"
     ]
    },
    {
     "data": {
      "text/html": [
       "<div>\n",
       "<style scoped>\n",
       "    .dataframe tbody tr th:only-of-type {\n",
       "        vertical-align: middle;\n",
       "    }\n",
       "\n",
       "    .dataframe tbody tr th {\n",
       "        vertical-align: top;\n",
       "    }\n",
       "\n",
       "    .dataframe thead th {\n",
       "        text-align: right;\n",
       "    }\n",
       "</style>\n",
       "<table border=\"1\" class=\"dataframe\">\n",
       "  <thead>\n",
       "    <tr style=\"text-align: right;\">\n",
       "      <th></th>\n",
       "      <th>X1</th>\n",
       "    </tr>\n",
       "  </thead>\n",
       "  <tbody>\n",
       "    <tr>\n",
       "      <th>validate_precision</th>\n",
       "      <td>0.442340</td>\n",
       "    </tr>\n",
       "    <tr>\n",
       "      <th>validate_recall</th>\n",
       "      <td>0.500000</td>\n",
       "    </tr>\n",
       "    <tr>\n",
       "      <th>validate_accuarcy</th>\n",
       "      <td>0.884681</td>\n",
       "    </tr>\n",
       "    <tr>\n",
       "      <th>validate_auc</th>\n",
       "      <td>0.859009</td>\n",
       "    </tr>\n",
       "  </tbody>\n",
       "</table>\n",
       "</div>"
      ],
      "text/plain": [
       "                          X1\n",
       "validate_precision  0.442340\n",
       "validate_recall     0.500000\n",
       "validate_accuarcy   0.884681\n",
       "validate_auc        0.859009"
      ]
     },
     "execution_count": 32,
     "metadata": {},
     "output_type": "execute_result"
    }
   ],
   "source": [
    "r1 = pd.DataFrame(result[0]).mean()\n",
    "r1.index = ['fit_time','score_time','validate_precision','validate_recall','validate_accuarcy','validate_auc']\n",
    "r = pd.DataFrame({'X1': r1.values}, index=r1.axes)\n",
    "r.drop(['fit_time','score_time'],inplace=True, level=0)\n",
    "print(\"Logistic regression:\")\n",
    "r"
   ]
  },
  {
   "cell_type": "code",
   "execution_count": 33,
   "metadata": {},
   "outputs": [
    {
     "name": "stdout",
     "output_type": "stream",
     "text": [
      "Random forest:\n"
     ]
    },
    {
     "data": {
      "text/html": [
       "<div>\n",
       "<style scoped>\n",
       "    .dataframe tbody tr th:only-of-type {\n",
       "        vertical-align: middle;\n",
       "    }\n",
       "\n",
       "    .dataframe tbody tr th {\n",
       "        vertical-align: top;\n",
       "    }\n",
       "\n",
       "    .dataframe thead th {\n",
       "        text-align: right;\n",
       "    }\n",
       "</style>\n",
       "<table border=\"1\" class=\"dataframe\">\n",
       "  <thead>\n",
       "    <tr style=\"text-align: right;\">\n",
       "      <th></th>\n",
       "      <th>X1</th>\n",
       "    </tr>\n",
       "  </thead>\n",
       "  <tbody>\n",
       "    <tr>\n",
       "      <th>validate_precision</th>\n",
       "      <td>0.492382</td>\n",
       "    </tr>\n",
       "    <tr>\n",
       "      <th>validate_recall</th>\n",
       "      <td>0.500367</td>\n",
       "    </tr>\n",
       "    <tr>\n",
       "      <th>validate_accuarcy</th>\n",
       "      <td>0.883574</td>\n",
       "    </tr>\n",
       "    <tr>\n",
       "      <th>validate_auc</th>\n",
       "      <td>0.872946</td>\n",
       "    </tr>\n",
       "  </tbody>\n",
       "</table>\n",
       "</div>"
      ],
      "text/plain": [
       "                          X1\n",
       "validate_precision  0.492382\n",
       "validate_recall     0.500367\n",
       "validate_accuarcy   0.883574\n",
       "validate_auc        0.872946"
      ]
     },
     "execution_count": 33,
     "metadata": {},
     "output_type": "execute_result"
    }
   ],
   "source": [
    "r1 = pd.DataFrame(result[1]).mean()\n",
    "r1.index = ['fit_time','score_time','validate_precision','validate_recall','validate_accuarcy','validate_auc']\n",
    "r = pd.DataFrame({'X1': r1.values}, index=r1.axes)\n",
    "r.drop(['fit_time','score_time'],inplace=True, level=0)\n",
    "print(\"Random forest:\")\n",
    "r"
   ]
  },
  {
   "cell_type": "code",
   "execution_count": 34,
   "metadata": {},
   "outputs": [
    {
     "name": "stdout",
     "output_type": "stream",
     "text": [
      "XGBoost:\n"
     ]
    },
    {
     "data": {
      "text/html": [
       "<div>\n",
       "<style scoped>\n",
       "    .dataframe tbody tr th:only-of-type {\n",
       "        vertical-align: middle;\n",
       "    }\n",
       "\n",
       "    .dataframe tbody tr th {\n",
       "        vertical-align: top;\n",
       "    }\n",
       "\n",
       "    .dataframe thead th {\n",
       "        text-align: right;\n",
       "    }\n",
       "</style>\n",
       "<table border=\"1\" class=\"dataframe\">\n",
       "  <thead>\n",
       "    <tr style=\"text-align: right;\">\n",
       "      <th></th>\n",
       "      <th>X1</th>\n",
       "    </tr>\n",
       "  </thead>\n",
       "  <tbody>\n",
       "    <tr>\n",
       "      <th>validate_precision</th>\n",
       "      <td>0.754916</td>\n",
       "    </tr>\n",
       "    <tr>\n",
       "      <th>validate_recall</th>\n",
       "      <td>0.675866</td>\n",
       "    </tr>\n",
       "    <tr>\n",
       "      <th>validate_accuarcy</th>\n",
       "      <td>0.897952</td>\n",
       "    </tr>\n",
       "    <tr>\n",
       "      <th>validate_auc</th>\n",
       "      <td>0.899142</td>\n",
       "    </tr>\n",
       "  </tbody>\n",
       "</table>\n",
       "</div>"
      ],
      "text/plain": [
       "                          X1\n",
       "validate_precision  0.754916\n",
       "validate_recall     0.675866\n",
       "validate_accuarcy   0.897952\n",
       "validate_auc        0.899142"
      ]
     },
     "execution_count": 34,
     "metadata": {},
     "output_type": "execute_result"
    }
   ],
   "source": [
    "r1 = pd.DataFrame(result[2]).mean()\n",
    "r1.index = ['fit_time','score_time','validate_precision','validate_recall','validate_accuarcy','validate_auc']\n",
    "r = pd.DataFrame({'X1': r1.values}, index=r1.axes)\n",
    "r.drop(['fit_time','score_time'],inplace=True, level=0)\n",
    "print(\"XGBoost:\")\n",
    "r"
   ]
  },
  {
   "cell_type": "code",
   "execution_count": 35,
   "metadata": {},
   "outputs": [
    {
     "name": "stdout",
     "output_type": "stream",
     "text": [
      "SVM:\n"
     ]
    },
    {
     "data": {
      "text/html": [
       "<div>\n",
       "<style scoped>\n",
       "    .dataframe tbody tr th:only-of-type {\n",
       "        vertical-align: middle;\n",
       "    }\n",
       "\n",
       "    .dataframe tbody tr th {\n",
       "        vertical-align: top;\n",
       "    }\n",
       "\n",
       "    .dataframe thead th {\n",
       "        text-align: right;\n",
       "    }\n",
       "</style>\n",
       "<table border=\"1\" class=\"dataframe\">\n",
       "  <thead>\n",
       "    <tr style=\"text-align: right;\">\n",
       "      <th></th>\n",
       "      <th>X1</th>\n",
       "    </tr>\n",
       "  </thead>\n",
       "  <tbody>\n",
       "    <tr>\n",
       "      <th>validate_precision</th>\n",
       "      <td>0.720049</td>\n",
       "    </tr>\n",
       "    <tr>\n",
       "      <th>validate_recall</th>\n",
       "      <td>0.642229</td>\n",
       "    </tr>\n",
       "    <tr>\n",
       "      <th>validate_accuarcy</th>\n",
       "      <td>0.888275</td>\n",
       "    </tr>\n",
       "    <tr>\n",
       "      <th>validate_auc</th>\n",
       "      <td>0.851814</td>\n",
       "    </tr>\n",
       "  </tbody>\n",
       "</table>\n",
       "</div>"
      ],
      "text/plain": [
       "                          X1\n",
       "validate_precision  0.720049\n",
       "validate_recall     0.642229\n",
       "validate_accuarcy   0.888275\n",
       "validate_auc        0.851814"
      ]
     },
     "execution_count": 35,
     "metadata": {},
     "output_type": "execute_result"
    }
   ],
   "source": [
    "r1 = pd.DataFrame(result[3]).mean()\n",
    "r1.index = ['fit_time','score_time','validate_precision','validate_recall','validate_accuarcy','validate_auc']\n",
    "r = pd.DataFrame({'X1': r1.values}, index=r1.axes)\n",
    "r.drop(['fit_time','score_time'],inplace=True, level=0)\n",
    "print(\"SVM:\")\n",
    "r"
   ]
  },
  {
   "cell_type": "markdown",
   "metadata": {},
   "source": [
    "# Final checkpoint"
   ]
  },
  {
   "cell_type": "markdown",
   "metadata": {},
   "source": [
    "## Bayes optimization"
   ]
  },
  {
   "cell_type": "markdown",
   "metadata": {},
   "source": [
    "We will use Bayes Optimization in order to get as good score as we can. We will focus on xgboost alghorithm."
   ]
  },
  {
   "cell_type": "code",
   "execution_count": 15,
   "metadata": {},
   "outputs": [
    {
     "name": "stdout",
     "output_type": "stream",
     "text": [
      "|   iter    |  target   | colsam... |   gamma   | learni... | max_depth | n_esti... | subsample |\n",
      "-------------------------------------------------------------------------------------------------\n",
      "| \u001b[0m 1       \u001b[0m | \u001b[0m 0.8914  \u001b[0m | \u001b[0m 0.7085  \u001b[0m | \u001b[0m 3.602   \u001b[0m | \u001b[0m 0.01011 \u001b[0m | \u001b[0m 5.814   \u001b[0m | \u001b[0m 232.1   \u001b[0m | \u001b[0m 0.5462  \u001b[0m |\n",
      "| \u001b[0m 2       \u001b[0m | \u001b[0m 0.8889  \u001b[0m | \u001b[0m 0.5931  \u001b[0m | \u001b[0m 1.728   \u001b[0m | \u001b[0m 0.4028  \u001b[0m | \u001b[0m 7.233   \u001b[0m | \u001b[0m 477.3   \u001b[0m | \u001b[0m 0.8426  \u001b[0m |\n",
      "| \u001b[95m 3       \u001b[0m | \u001b[95m 0.9025  \u001b[0m | \u001b[95m 0.6022  \u001b[0m | \u001b[95m 4.391   \u001b[0m | \u001b[95m 0.03711 \u001b[0m | \u001b[95m 8.023   \u001b[0m | \u001b[95m 475.6   \u001b[0m | \u001b[95m 0.7793  \u001b[0m |\n",
      "| \u001b[0m 4       \u001b[0m | \u001b[0m 0.8578  \u001b[0m | \u001b[0m 0.5702  \u001b[0m | \u001b[0m 0.9905  \u001b[0m | \u001b[0m 0.8027  \u001b[0m | \u001b[0m 9.81    \u001b[0m | \u001b[0m 382.1   \u001b[0m | \u001b[0m 0.8462  \u001b[0m |\n",
      "| \u001b[0m 5       \u001b[0m | \u001b[0m 0.9012  \u001b[0m | \u001b[0m 0.9382  \u001b[0m | \u001b[0m 4.473   \u001b[0m | \u001b[0m 0.09419 \u001b[0m | \u001b[0m 4.234   \u001b[0m | \u001b[0m 252.8   \u001b[0m | \u001b[0m 0.9391  \u001b[0m |\n",
      "| \u001b[0m 6       \u001b[0m | \u001b[0m 0.9006  \u001b[0m | \u001b[0m 1.0     \u001b[0m | \u001b[0m 5.0     \u001b[0m | \u001b[0m 0.01    \u001b[0m | \u001b[0m 10.0    \u001b[0m | \u001b[0m 1e+03   \u001b[0m | \u001b[0m 0.5     \u001b[0m |\n",
      "| \u001b[0m 7       \u001b[0m | \u001b[0m 0.8979  \u001b[0m | \u001b[0m 0.9993  \u001b[0m | \u001b[0m 5.0     \u001b[0m | \u001b[0m 0.01    \u001b[0m | \u001b[0m 10.0    \u001b[0m | \u001b[0m 771.9   \u001b[0m | \u001b[0m 0.5103  \u001b[0m |\n",
      "| \u001b[0m 8       \u001b[0m | \u001b[0m 0.8674  \u001b[0m | \u001b[0m 0.9231  \u001b[0m | \u001b[0m 4.731   \u001b[0m | \u001b[0m 0.8683  \u001b[0m | \u001b[0m 5.227   \u001b[0m | \u001b[0m 100.4   \u001b[0m | \u001b[0m 0.8802  \u001b[0m |\n",
      "| \u001b[0m 9       \u001b[0m | \u001b[0m 0.8789  \u001b[0m | \u001b[0m 0.6853  \u001b[0m | \u001b[0m 4.973   \u001b[0m | \u001b[0m 0.6737  \u001b[0m | \u001b[0m 4.361   \u001b[0m | \u001b[0m 630.6   \u001b[0m | \u001b[0m 0.9227  \u001b[0m |\n",
      "| \u001b[0m 10      \u001b[0m | \u001b[0m 0.884   \u001b[0m | \u001b[0m 0.6804  \u001b[0m | \u001b[0m 4.813   \u001b[0m | \u001b[0m 0.5684  \u001b[0m | \u001b[0m 4.263   \u001b[0m | \u001b[0m 894.6   \u001b[0m | \u001b[0m 0.6923  \u001b[0m |\n",
      "| \u001b[0m 11      \u001b[0m | \u001b[0m 0.8694  \u001b[0m | \u001b[0m 0.8685  \u001b[0m | \u001b[0m 4.799   \u001b[0m | \u001b[0m 0.7218  \u001b[0m | \u001b[0m 9.825   \u001b[0m | \u001b[0m 536.4   \u001b[0m | \u001b[0m 0.6579  \u001b[0m |\n",
      "| \u001b[0m 12      \u001b[0m | \u001b[0m 0.8953  \u001b[0m | \u001b[0m 0.5454  \u001b[0m | \u001b[0m 4.864   \u001b[0m | \u001b[0m 0.2894  \u001b[0m | \u001b[0m 4.031   \u001b[0m | \u001b[0m 729.5   \u001b[0m | \u001b[0m 0.933   \u001b[0m |\n",
      "| \u001b[0m 13      \u001b[0m | \u001b[0m 0.85    \u001b[0m | \u001b[0m 0.9664  \u001b[0m | \u001b[0m 4.983   \u001b[0m | \u001b[0m 0.9493  \u001b[0m | \u001b[0m 4.261   \u001b[0m | \u001b[0m 447.4   \u001b[0m | \u001b[0m 0.7522  \u001b[0m |\n",
      "| \u001b[0m 14      \u001b[0m | \u001b[0m 0.8801  \u001b[0m | \u001b[0m 0.927   \u001b[0m | \u001b[0m 0.473   \u001b[0m | \u001b[0m 0.7015  \u001b[0m | \u001b[0m 9.875   \u001b[0m | \u001b[0m 677.3   \u001b[0m | \u001b[0m 0.928   \u001b[0m |\n",
      "| \u001b[0m 15      \u001b[0m | \u001b[0m 0.8968  \u001b[0m | \u001b[0m 0.5     \u001b[0m | \u001b[0m 4.931   \u001b[0m | \u001b[0m 0.02696 \u001b[0m | \u001b[0m 10.0    \u001b[0m | \u001b[0m 300.7   \u001b[0m | \u001b[0m 0.8671  \u001b[0m |\n",
      "| \u001b[0m 16      \u001b[0m | \u001b[0m 0.8896  \u001b[0m | \u001b[0m 0.9728  \u001b[0m | \u001b[0m 0.05411 \u001b[0m | \u001b[0m 0.2205  \u001b[0m | \u001b[0m 9.818   \u001b[0m | \u001b[0m 954.7   \u001b[0m | \u001b[0m 0.8803  \u001b[0m |\n",
      "| \u001b[0m 17      \u001b[0m | \u001b[0m 0.8985  \u001b[0m | \u001b[0m 0.5922  \u001b[0m | \u001b[0m 0.0     \u001b[0m | \u001b[0m 0.01    \u001b[0m | \u001b[0m 4.0     \u001b[0m | \u001b[0m 827.9   \u001b[0m | \u001b[0m 0.9702  \u001b[0m |\n",
      "| \u001b[0m 18      \u001b[0m | \u001b[0m 0.8888  \u001b[0m | \u001b[0m 0.8188  \u001b[0m | \u001b[0m 0.3654  \u001b[0m | \u001b[0m 0.4061  \u001b[0m | \u001b[0m 4.81    \u001b[0m | \u001b[0m 998.6   \u001b[0m | \u001b[0m 0.9764  \u001b[0m |\n",
      "| \u001b[0m 19      \u001b[0m | \u001b[0m 0.8919  \u001b[0m | \u001b[0m 0.5585  \u001b[0m | \u001b[0m 0.3196  \u001b[0m | \u001b[0m 0.1867  \u001b[0m | \u001b[0m 9.858   \u001b[0m | \u001b[0m 258.5   \u001b[0m | \u001b[0m 0.982   \u001b[0m |\n",
      "| \u001b[0m 20      \u001b[0m | \u001b[0m 0.8746  \u001b[0m | \u001b[0m 0.8982  \u001b[0m | \u001b[0m 0.3771  \u001b[0m | \u001b[0m 0.5506  \u001b[0m | \u001b[0m 4.172   \u001b[0m | \u001b[0m 153.5   \u001b[0m | \u001b[0m 0.8902  \u001b[0m |\n",
      "| \u001b[0m 21      \u001b[0m | \u001b[0m 0.9016  \u001b[0m | \u001b[0m 0.5703  \u001b[0m | \u001b[0m 4.796   \u001b[0m | \u001b[0m 0.03479 \u001b[0m | \u001b[0m 9.945   \u001b[0m | \u001b[0m 853.5   \u001b[0m | \u001b[0m 0.5211  \u001b[0m |\n",
      "| \u001b[0m 22      \u001b[0m | \u001b[0m 0.8859  \u001b[0m | \u001b[0m 0.8733  \u001b[0m | \u001b[0m 4.952   \u001b[0m | \u001b[0m 0.5232  \u001b[0m | \u001b[0m 4.795   \u001b[0m | \u001b[0m 971.8   \u001b[0m | \u001b[0m 0.8661  \u001b[0m |\n",
      "| \u001b[0m 23      \u001b[0m | \u001b[0m 0.899   \u001b[0m | \u001b[0m 0.7342  \u001b[0m | \u001b[0m 4.931   \u001b[0m | \u001b[0m 0.3103  \u001b[0m | \u001b[0m 4.979   \u001b[0m | \u001b[0m 811.7   \u001b[0m | \u001b[0m 0.9954  \u001b[0m |\n",
      "| \u001b[0m 24      \u001b[0m | \u001b[0m 0.8939  \u001b[0m | \u001b[0m 0.729   \u001b[0m | \u001b[0m 4.044   \u001b[0m | \u001b[0m 0.2947  \u001b[0m | \u001b[0m 9.954   \u001b[0m | \u001b[0m 491.9   \u001b[0m | \u001b[0m 0.7459  \u001b[0m |\n",
      "| \u001b[0m 25      \u001b[0m | \u001b[0m 0.8711  \u001b[0m | \u001b[0m 0.935   \u001b[0m | \u001b[0m 0.3639  \u001b[0m | \u001b[0m 0.4473  \u001b[0m | \u001b[0m 4.282   \u001b[0m | \u001b[0m 331.3   \u001b[0m | \u001b[0m 0.5295  \u001b[0m |\n",
      "| \u001b[0m 26      \u001b[0m | \u001b[0m 0.8964  \u001b[0m | \u001b[0m 0.9162  \u001b[0m | \u001b[0m 0.8402  \u001b[0m | \u001b[0m 0.03926 \u001b[0m | \u001b[0m 9.99    \u001b[0m | \u001b[0m 596.0   \u001b[0m | \u001b[0m 0.6847  \u001b[0m |\n",
      "| \u001b[0m 27      \u001b[0m | \u001b[0m 0.8977  \u001b[0m | \u001b[0m 0.8217  \u001b[0m | \u001b[0m 4.636   \u001b[0m | \u001b[0m 0.03402 \u001b[0m | \u001b[0m 9.961   \u001b[0m | \u001b[0m 161.4   \u001b[0m | \u001b[0m 0.5949  \u001b[0m |\n",
      "| \u001b[0m 28      \u001b[0m | \u001b[0m 0.872   \u001b[0m | \u001b[0m 0.6177  \u001b[0m | \u001b[0m 0.2756  \u001b[0m | \u001b[0m 0.8272  \u001b[0m | \u001b[0m 9.947   \u001b[0m | \u001b[0m 810.1   \u001b[0m | \u001b[0m 0.8577  \u001b[0m |\n",
      "| \u001b[0m 29      \u001b[0m | \u001b[0m 0.894   \u001b[0m | \u001b[0m 0.5535  \u001b[0m | \u001b[0m 4.645   \u001b[0m | \u001b[0m 0.1696  \u001b[0m | \u001b[0m 9.854   \u001b[0m | \u001b[0m 135.2   \u001b[0m | \u001b[0m 0.8715  \u001b[0m |\n",
      "| \u001b[0m 30      \u001b[0m | \u001b[0m 0.8975  \u001b[0m | \u001b[0m 0.6458  \u001b[0m | \u001b[0m 4.95    \u001b[0m | \u001b[0m 0.01279 \u001b[0m | \u001b[0m 9.666   \u001b[0m | \u001b[0m 612.7   \u001b[0m | \u001b[0m 0.5495  \u001b[0m |\n",
      "=================================================================================================\n",
      "Final Results\n",
      "{'target': 0.9024766862998422, 'params': {'colsample_bytree': 0.6022261248657588, 'gamma': 4.390587181954727, 'learning_rate': 0.0371137172659469, 'max_depth': 8.022805061070414, 'n_estimators': 475.57432213041426, 'subsample': 0.7793449142228759}}\n"
     ]
    }
   ],
   "source": [
    "pbounds = {'learning_rate': (0.01, 1.0), 'n_estimators': (100.0, 1000.0), 'max_depth': (4.0,10.0), \n",
    "           'subsample': (0.5, 1.0), 'colsample_bytree': (0.5, 1.0),'gamma': (0.0,5.0)}\n",
    "\n",
    "def xgboost_hyper_param(learning_rate,n_estimators,max_depth,subsample,colsample_bytree,gamma):\n",
    "    max_depth = int(max_depth)\n",
    "    n_estimators = int(n_estimators)\n",
    "    clf = xgb.XGBClassifier(max_depth=max_depth,learning_rate=learning_rate,n_estimators=n_estimators,\n",
    "                            subsample=subsample,colsample_bytree=colsample_bytree,gamma=gamma)\n",
    "    return np.mean(cross_val_score(clf, X1_train, y_train, cv=3, scoring='roc_auc'))\n",
    "\n",
    "optimizer = BayesianOptimization(f=xgboost_hyper_param, pbounds=pbounds, random_state=1)\n",
    "optimizer.maximize()\n",
    "print('Final Results')\n",
    "print(optimizer.max)"
   ]
  },
  {
   "cell_type": "markdown",
   "metadata": {},
   "source": [
    "# Test dataset performance"
   ]
  },
  {
   "cell_type": "code",
   "execution_count": 16,
   "metadata": {},
   "outputs": [],
   "source": [
    "def test(X_train,y_train,X_test,y_test):\n",
    "        \n",
    "        #Logistic regression\n",
    "        logit = LogisticRegression(C=0.01,solver='saga',random_state=42)\n",
    "        logit.fit(X_train,y_train)\n",
    "        pred_log = logit.predict(X_test)\n",
    "        precision_log = precision_score(y_test,pred_log,average='weighted')\n",
    "        recall_log = recall_score(y_test,pred_log,average='weighted')\n",
    "        accuracy = accuracy_score(y_test,pred_log)\n",
    "        log_data = {'precision':precision_log,'recall': recall_log,'accuracy':accuracy}\n",
    "\n",
    "        #xgb\n",
    "        params ={'colsample_bytree': 0.6790427788825881, 'gamma': 4.9437121904855585, \n",
    "                 'learning_rate': 0.0686118272168518, 'max_depth': 9.907799344685499, \n",
    "                 'n_estimators': 456.4887419999514, 'subsample': 0.7791139392047272}\n",
    "        xg = xgb.XGBClassifier(objective='binary:logistic',nthread=4,n_jobs=4,params=params)\n",
    "        xg.fit(X_train,y_train)\n",
    "        pred_xg = xg.predict(X_test)\n",
    "        precision_xg = precision_score(y_test,pred_xg,average='weighted')\n",
    "        recall_xg = recall_score(y_test,pred_xg,average='weighted')\n",
    "        accuracy = accuracy_score(y_test,pred_xg)\n",
    "        xg_data = {'precision':precision_xg,'recall': recall_xg,'accuracy':accuracy}\n",
    "        \n",
    "        #random forest\n",
    "        params = {'max_depth': 5, 'min_samples_leaf': 2, 'min_samples_split': 2, \n",
    "                  'n_estimators': 1000, 'max_features':'auto'}\n",
    "        tree = RandomForestClassifier(**params)\n",
    "        tree.fit(X_train,y_train)\n",
    "        pred_tree = tree.predict(X_test)\n",
    "        precision_tree = precision_score(y_test,pred_tree,average='weighted')\n",
    "        recall_tree = recall_score(y_test,pred_tree,average='weighted')\n",
    "        accuracy = accuracy_score(y_test,pred_tree)\n",
    "        tree_data = {'precision':precision_tree,'recall': recall_tree,'accuracy':accuracy}\n",
    "        \n",
    "        #SVM\n",
    "        svm = SVC(C=10)\n",
    "        svm.fit(X_train,y_train)\n",
    "        pred_svm = svm.predict(X_test)\n",
    "        precision_svm = precision_score(y_test,pred_svm,average='weighted')\n",
    "        recall_svm = recall_score(y_test,pred_svm,average='weighted')\n",
    "        accuracy = accuracy_score(y_test,pred_svm)\n",
    "        svm_data = {'precision':precision_svm,'recall': recall_svm,'accuracy':accuracy}\n",
    "        \n",
    "        data = pd.DataFrame([log_data,xg_data,tree_data,svm_data])\n",
    "        data.index = ['logit','xgb','tree','svm']\n",
    "        return data.transpose()"
   ]
  },
  {
   "cell_type": "code",
   "execution_count": 17,
   "metadata": {},
   "outputs": [
    {
     "data": {
      "text/html": [
       "<div>\n",
       "<style scoped>\n",
       "    .dataframe tbody tr th:only-of-type {\n",
       "        vertical-align: middle;\n",
       "    }\n",
       "\n",
       "    .dataframe tbody tr th {\n",
       "        vertical-align: top;\n",
       "    }\n",
       "\n",
       "    .dataframe thead th {\n",
       "        text-align: right;\n",
       "    }\n",
       "</style>\n",
       "<table border=\"1\" class=\"dataframe\">\n",
       "  <thead>\n",
       "    <tr style=\"text-align: right;\">\n",
       "      <th></th>\n",
       "      <th>logit</th>\n",
       "      <th>xgb</th>\n",
       "      <th>tree</th>\n",
       "      <th>svm</th>\n",
       "    </tr>\n",
       "  </thead>\n",
       "  <tbody>\n",
       "    <tr>\n",
       "      <th>precision</th>\n",
       "      <td>0.867050</td>\n",
       "      <td>0.877545</td>\n",
       "      <td>0.866468</td>\n",
       "      <td>0.870614</td>\n",
       "    </tr>\n",
       "    <tr>\n",
       "      <th>recall</th>\n",
       "      <td>0.891673</td>\n",
       "      <td>0.879882</td>\n",
       "      <td>0.890199</td>\n",
       "      <td>0.881356</td>\n",
       "    </tr>\n",
       "    <tr>\n",
       "      <th>accuracy</th>\n",
       "      <td>0.891673</td>\n",
       "      <td>0.879882</td>\n",
       "      <td>0.890199</td>\n",
       "      <td>0.881356</td>\n",
       "    </tr>\n",
       "  </tbody>\n",
       "</table>\n",
       "</div>"
      ],
      "text/plain": [
       "              logit       xgb      tree       svm\n",
       "precision  0.867050  0.877545  0.866468  0.870614\n",
       "recall     0.891673  0.879882  0.890199  0.881356\n",
       "accuracy   0.891673  0.879882  0.890199  0.881356"
      ]
     },
     "execution_count": 17,
     "metadata": {},
     "output_type": "execute_result"
    }
   ],
   "source": [
    "result = test(X1_train,y_train,X1_test,y_test)\n",
    "result"
   ]
  },
  {
   "cell_type": "markdown",
   "metadata": {},
   "source": [
    "Almost all classifiers achieved quite simmilar scores, which is a bit surprisng."
   ]
  },
  {
   "cell_type": "markdown",
   "metadata": {},
   "source": [
    "## Score analysis"
   ]
  },
  {
   "cell_type": "markdown",
   "metadata": {},
   "source": [
    "For further tests we decided to use only one out of four classifiers we tested before. Our choice is Xgboost, mainly because of the fact that it is widely known for its superiority over other classification alghorithms."
   ]
  },
  {
   "cell_type": "code",
   "execution_count": 18,
   "metadata": {},
   "outputs": [
    {
     "data": {
      "text/plain": [
       "<sklearn.metrics._plot.confusion_matrix.ConfusionMatrixDisplay at 0x7fcaca6d72d0>"
      ]
     },
     "execution_count": 18,
     "metadata": {},
     "output_type": "execute_result"
    },
    {
     "data": {
      "image/png": "[encoded data removed]",
      "text/plain": [
       "<Figure size 432x288 with 2 Axes>"
      ]
     },
     "metadata": {
      "needs_background": "light"
     },
     "output_type": "display_data"
    }
   ],
   "source": [
    "params={'colsample_bytree': 0.6790427788825881, 'gamma': 4.9437121904855585, 'learning_rate': 0.0686118272168518,\n",
    "        'max_depth': 9.907799344685499, 'n_estimators': 456.4887419999514, 'subsample': 0.7791139392047272}\n",
    "\n",
    "xg = xgb.XGBClassifier(objective='binary:logistic',nthread=4,n_jobs=4,params=params)\n",
    "xg.fit(X1_train,y_train)\n",
    "pred_xg = xg.predict(X1_test)\n",
    "scores = xg.predict_proba(X1_test)[:,1]\n",
    "plot_confusion_matrix(xg,X1_test,y_test,cmap = plt.cm.Blues)"
   ]
  },
  {
   "cell_type": "markdown",
   "metadata": {},
   "source": [
    "As we can see our classifier is able to detect one class pretty high, but the detection in the second class is not that great. Fortunately we can easily solve this by varying threshold."
   ]
  },
  {
   "cell_type": "code",
   "execution_count": 19,
   "metadata": {},
   "outputs": [
    {
     "data": {
      "text/plain": [
       "<sklearn.metrics._plot.precision_recall_curve.PrecisionRecallDisplay at 0x7fcab8094750>"
      ]
     },
     "execution_count": 19,
     "metadata": {},
     "output_type": "execute_result"
    },
    {
     "data": {
      "image/png": "[encoded data removed]",
      "text/plain": [
       "<Figure size 432x288 with 1 Axes>"
      ]
     },
     "metadata": {
      "needs_background": "light"
     },
     "output_type": "display_data"
    }
   ],
   "source": [
    "disp = plot_precision_recall_curve(xg, X1_test, y_test)\n",
    "disp"
   ]
  },
  {
   "cell_type": "markdown",
   "metadata": {},
   "source": [
    "Average precision score is quite low, but this is because of the fact that we do have an imbalanced data set, so that varying threshold can cause precision to take very low values."
   ]
  },
  {
   "cell_type": "code",
   "execution_count": 20,
   "metadata": {},
   "outputs": [
    {
     "name": "stdout",
     "output_type": "stream",
     "text": [
      "AUC of ROC Curve: 0.8859177181408655\n"
     ]
    },
    {
     "data": {
      "image/png": "[encoded data removed]",
      "text/plain": [
       "<Figure size 432x288 with 1 Axes>"
      ]
     },
     "metadata": {
      "needs_background": "light"
     },
     "output_type": "display_data"
    }
   ],
   "source": [
    "scores = xg.predict_proba(X1_test)[:,1]\n",
    "fpr, tpr, thresholds = roc_curve(y_test, scores)\n",
    "roc_auc = roc_auc_score(y_test, scores)\n",
    "print(\"AUC of ROC Curve:\", roc_auc)\n",
    "plt.plot(fpr, tpr)\n",
    "plt.title(\"ROC Curve\")\n",
    "plt.xlabel(\"False Positive Rate\")\n",
    "plt.ylabel(\"True Positive Rate\")\n",
    "plt.show()"
   ]
  },
  {
   "cell_type": "markdown",
   "metadata": {},
   "source": [
    "ROC curve is among the best tools to determine the performance of classifier working on imbalanced dataset. As we can see our classifier peroform great. It is also worth noting, that if we want to raise precision or recall, we can simply adjust threshold, so that the classifier will fulfill our demands."
   ]
  },
  {
   "cell_type": "code",
   "execution_count": 21,
   "metadata": {},
   "outputs": [
    {
     "name": "stdout",
     "output_type": "stream",
     "text": [
      "Classification Report:\n",
      "               precision    recall  f1-score   support\n",
      "\n",
      "           0       0.96      0.83      0.89      1201\n",
      "           1       0.36      0.77      0.49       156\n",
      "\n",
      "    accuracy                           0.82      1357\n",
      "   macro avg       0.66      0.80      0.69      1357\n",
      "weighted avg       0.90      0.82      0.84      1357\n",
      "\n"
     ]
    }
   ],
   "source": [
    "decisions = (xg.predict_proba(X1_test) >= 0.1).astype(int)[:,1]\n",
    "print('Classification Report:\\n',classification_report(y_test,decisions))"
   ]
  },
  {
   "cell_type": "markdown",
   "metadata": {},
   "source": [
    "Setting threshold for very low value, as we see here 0.1, can easily improve detection on oure second class."
   ]
  },
  {
   "cell_type": "code",
   "execution_count": 22,
   "metadata": {},
   "outputs": [
    {
     "data": {
      "text/plain": [
       "<matplotlib.axes._subplots.AxesSubplot at 0x7fcab80949d0>"
      ]
     },
     "execution_count": 22,
     "metadata": {},
     "output_type": "execute_result"
    },
    {
     "data": {
      "image/png": "[encoded data removed]",
      "text/plain": [
       "<Figure size 432x288 with 2 Axes>"
      ]
     },
     "metadata": {
      "needs_background": "light"
     },
     "output_type": "display_data"
    }
   ],
   "source": [
    "data = confusion_matrix(y_test,decisions)\n",
    "sns.heatmap(data, cmap=\"Blues\", annot=True,fmt='g')"
   ]
  },
  {
   "cell_type": "markdown",
   "metadata": {},
   "source": [
    "# Stacking"
   ]
  },
  {
   "cell_type": "markdown",
   "metadata": {},
   "source": [
    "As a final step we decided to stack our classifiers to make our predictions even better."
   ]
  },
  {
   "cell_type": "code",
   "execution_count": 43,
   "metadata": {},
   "outputs": [],
   "source": [
    "params = {'max_depth': 5, 'min_samples_leaf': 2,'min_samples_split': 2,'n_estimators': 1000,'max_features':'auto'}\n",
    "estimators = [('logit', LogisticRegression(C=0.01,solver='saga',random_state=42)),\n",
    "             ('svm',SVC(C=10)),\n",
    "            ('tree',RandomForestClassifier(**params))]"
   ]
  },
  {
   "cell_type": "code",
   "execution_count": 46,
   "metadata": {},
   "outputs": [],
   "source": [
    "params ={'colsample_bytree': 0.6790427788825881, 'gamma': 4.9437121904855585, 'learning_rate': 0.0686118272168518,\n",
    "         'max_depth': 9.907799344685499, 'n_estimators': 456.4887419999514, 'subsample': 0.7791139392047272}\n",
    "xg = xgb.XGBClassifier(objective='binary:logistic',nthread=4,n_jobs=4,params=params)\n",
    "reg = StackingClassifier(estimators=estimators,final_estimator=xg)"
   ]
  },
  {
   "cell_type": "code",
   "execution_count": 49,
   "metadata": {},
   "outputs": [
    {
     "name": "stdout",
     "output_type": "stream",
     "text": [
      "Precision: 0.8580908850290745, recall: 0.8740331491712707, accuracy: 0.8740331491712707\n"
     ]
    }
   ],
   "source": [
    "reg.fit(X1_train,y_train)\n",
    "preds = reg.predict(X1_test)\n",
    "precision = precision_score(y_test,preds,average='weighted')\n",
    "recall = recall_score(y_test,preds,average='weighted')\n",
    "accuracy = accuracy_score(y_test,preds)\n",
    "print(f\"Precision: {precision}, recall: {recall}, accuracy: {accuracy}\")"
   ]
  },
  {
   "cell_type": "code",
   "execution_count": 51,
   "metadata": {},
   "outputs": [
    {
     "name": "stdout",
     "output_type": "stream",
     "text": [
      "AUC of ROC Curve: 0.841670267934313\n"
     ]
    },
    {
     "data": {
      "image/png": "[encoded data removed]",
      "text/plain": [
       "<Figure size 432x288 with 1 Axes>"
      ]
     },
     "metadata": {
      "needs_background": "light"
     },
     "output_type": "display_data"
    }
   ],
   "source": [
    "scores = reg.predict_proba(X1_test)[:,1]\n",
    "fpr, tpr, thresholds = roc_curve(y_test, scores)\n",
    "roc_auc = roc_auc_score(y_test, scores)\n",
    "print(\"AUC of ROC Curve:\", roc_auc)\n",
    "plt.plot(fpr, tpr)\n",
    "plt.title(\"ROC Curve\")\n",
    "plt.xlabel(\"False Positive Rate\")\n",
    "plt.ylabel(\"True Positive Rate\")\n",
    "plt.show()"
   ]
  },
  {
   "cell_type": "code",
   "execution_count": 57,
   "metadata": {},
   "outputs": [
    {
     "data": {
      "text/plain": [
       "<matplotlib.axes._subplots.AxesSubplot at 0x7f80ef5f6c10>"
      ]
     },
     "execution_count": 57,
     "metadata": {},
     "output_type": "execute_result"
    },
    {
     "data": {
      "image/png": "[encoded data removed]",
      "text/plain": [
       "<Figure size 432x288 with 2 Axes>"
      ]
     },
     "metadata": {
      "needs_background": "light"
     },
     "output_type": "display_data"
    }
   ],
   "source": [
    "decisions = (reg.predict_proba(X1_test) >= 0.25).astype(int)[:,1]\n",
    "data = confusion_matrix(y_test,decisions)\n",
    "sns.heatmap(data, cmap=\"Blues\", annot=True,fmt='g')"
   ]
  },
  {
   "cell_type": "markdown",
   "metadata": {},
   "source": [
    "Unfortunately we did not manage to make our predictions better, so normal xgboost turned out to be our the best predictor."
   ]
  },
  {
   "cell_type": "markdown",
   "metadata": {},
   "source": [
    "## Features importances"
   ]
  },
  {
   "cell_type": "code",
   "execution_count": 50,
   "metadata": {},
   "outputs": [
    {
     "data": {
      "text/plain": [
       "<matplotlib.axes._subplots.AxesSubplot at 0x7f42990d8810>"
      ]
     },
     "execution_count": 50,
     "metadata": {},
     "output_type": "execute_result"
    },
    {
     "data": {
      "image/png": "[encoded data removed]",
      "text/plain": [
       "<Figure size 432x288 with 1 Axes>"
      ]
     },
     "metadata": {
      "needs_background": "light"
     },
     "output_type": "display_data"
    }
   ],
   "source": [
    "\n",
    "params = {'colsample_bytree': 0.8, 'gamma': 1.5, 'max_depth': 5, 'min_child_weight': 1, \n",
    "          'subsample': 0.8,'n_estimators':1000}\n",
    "xg = xgb.XGBClassifier(objective='binary:logistic',nthread=4,n_jobs=4,params=params)\n",
    "xg.fit(X1_train,y_train)\n",
    "feat_importances = pd.Series(xg.feature_importances_, index=cols)\n",
    "feat_importances.nlargest(20).plot(kind='barh')"
   ]
  },
  {
   "cell_type": "markdown",
   "metadata": {},
   "source": [
    "Comparing feature importance scores with our conclusions from EDA, we can see that our predictions turned out to be true. Poutcome column which we assumed to have the biggest impact on predictions, indeed is the most important for our classfier. It makes for over 20% of our prediction which is huge considering the amount of columns that we have. It is also worth joting that contact column make for big part of our prediction, which come as a bit of a surprise, because during EDA we did not suppose, that it will have such a big impact. Fortunately we predicted that duration will have visible impact, but this is quite obvious that longer duration of a call may increase chances of positive outcome"
   ]
  },
  {
   "cell_type": "markdown",
   "metadata": {},
   "source": [
    "# Over-sampling attempt\n",
    "Trying over-sampling method to improve performance on imbalanced dataset."
   ]
  },
  {
   "cell_type": "code",
   "execution_count": 19,
   "metadata": {},
   "outputs": [],
   "source": [
    "#pip install -U imbalanced-learn"
   ]
  },
  {
   "cell_type": "code",
   "execution_count": 49,
   "metadata": {},
   "outputs": [],
   "source": [
    "#SMOTE method works only for numeric values\n",
    "X = pd.get_dummies(X)\n",
    "\n",
    "X_train, X_test, y_train, y_test = train_test_split(X, y, test_size = 0.25, random_state = 42, stratify = y)"
   ]
  },
  {
   "cell_type": "code",
   "execution_count": 34,
   "metadata": {},
   "outputs": [],
   "source": [
    "from imblearn.over_sampling import SMOTE\n",
    "\n",
    "X_sampled, y_sampled = SMOTE().fit_resample(X_train, y_train)"
   ]
  },
  {
   "cell_type": "markdown",
   "metadata": {},
   "source": [
    "### Training dataset now balanced"
   ]
  },
  {
   "cell_type": "code",
   "execution_count": 35,
   "metadata": {},
   "outputs": [
    {
     "data": {
      "text/plain": [
       "1    2999\n",
       "0    2999\n",
       "Name: y, dtype: int64"
      ]
     },
     "execution_count": 35,
     "metadata": {},
     "output_type": "execute_result"
    }
   ],
   "source": [
    "y_sampled.value_counts()"
   ]
  },
  {
   "cell_type": "code",
   "execution_count": 38,
   "metadata": {},
   "outputs": [
    {
     "name": "stdout",
     "output_type": "stream",
     "text": [
      "Fitting 5 folds for each of 10 candidates, totalling 50 fits\n"
     ]
    },
    {
     "name": "stderr",
     "output_type": "stream",
     "text": [
      "[Parallel(n_jobs=4)]: Using backend LokyBackend with 4 concurrent workers.\n",
      "[Parallel(n_jobs=4)]: Done  24 tasks      | elapsed:   14.6s\n",
      "[Parallel(n_jobs=4)]: Done  50 out of  50 | elapsed:   43.5s finished\n"
     ]
    },
    {
     "data": {
      "text/plain": [
       "RandomizedSearchCV(cv=5, error_score=nan,\n",
       "                   estimator=XGBClassifier(base_score=None, booster=None,\n",
       "                                           colsample_bylevel=None,\n",
       "                                           colsample_bynode=None,\n",
       "                                           colsample_bytree=None, gamma=None,\n",
       "                                           gpu_id=None, importance_type='gain',\n",
       "                                           interaction_constraints=None,\n",
       "                                           learning_rate=None,\n",
       "                                           max_delta_step=None, max_depth=None,\n",
       "                                           min_child_weight=None, missing=nan,\n",
       "                                           monotone_constraints=None,\n",
       "                                           n...\n",
       "                                           subsample=None, tree_method=None,\n",
       "                                           validate_parameters=False,\n",
       "                                           verbosity=None),\n",
       "                   iid='deprecated', n_iter=10, n_jobs=4,\n",
       "                   param_distributions={'colsample_bytree': [0.6, 0.8, 1.0],\n",
       "                                        'gamma': [0.5, 1, 1.5, 2, 5],\n",
       "                                        'max_depth': [3, 4, 5],\n",
       "                                        'min_child_weight': [1, 5, 10],\n",
       "                                        'subsample': [0.6, 0.8, 1.0]},\n",
       "                   pre_dispatch='2*n_jobs', random_state=42, refit=True,\n",
       "                   return_train_score=False, scoring='roc_auc', verbose=3)"
      ]
     },
     "execution_count": 38,
     "metadata": {},
     "output_type": "execute_result"
    }
   ],
   "source": [
    "from sklearn.model_selection import RandomizedSearchCV\n",
    "\n",
    "params = {\n",
    "        'min_child_weight': [1, 5, 10],\n",
    "        'gamma': [0.5, 1, 1.5, 2, 5],\n",
    "        'subsample': [0.6, 0.8, 1.0],\n",
    "        'colsample_bytree': [0.6, 0.8, 1.0],\n",
    "        'max_depth': [3, 4, 5]\n",
    "        }\n",
    "\n",
    "model = xgb.XGBClassifier(objective='binary:logistic', n_estimators=600)\n",
    "\n",
    "random_search = RandomizedSearchCV(model, param_distributions=params, scoring='roc_auc', n_jobs=4, \n",
    "                                   cv=5, verbose=3, random_state=42)\n",
    "\n",
    "random_search.fit(X_sampled, y_sampled)"
   ]
  },
  {
   "cell_type": "markdown",
   "metadata": {},
   "source": [
    "### Cross-validation performance\n",
    "Model achived very good result during training"
   ]
  },
  {
   "cell_type": "code",
   "execution_count": 48,
   "metadata": {},
   "outputs": [
    {
     "data": {
      "text/plain": [
       "0.9837747755518456"
      ]
     },
     "execution_count": 48,
     "metadata": {},
     "output_type": "execute_result"
    }
   ],
   "source": [
    "best_model = random_search.best_estimator_\n",
    "prediction = best_model.predict(X_test)\n",
    "random_search.best_score_"
   ]
  },
  {
   "cell_type": "markdown",
   "metadata": {},
   "source": [
    "### Test set score\n",
    "However performance on test data did not improve."
   ]
  },
  {
   "cell_type": "code",
   "execution_count": 47,
   "metadata": {},
   "outputs": [
    {
     "name": "stdout",
     "output_type": "stream",
     "text": [
      "Accuracy: \n",
      "0.8815207780725022\n",
      "Recall: \n",
      "0.4153846153846154\n",
      "Precision: \n",
      "0.48214285714285715\n"
     ]
    }
   ],
   "source": [
    "print(\"Accuracy: \")\n",
    "print(accuracy_score(y_test, prediction))\n",
    "print(\"Recall: \")\n",
    "print(recall_score(y_test, prediction))\n",
    "print(\"Precision: \")\n",
    "print(precision_score(y_test, prediction))"
   ]
  },
  {
   "cell_type": "code",
   "execution_count": 52,
   "metadata": {},
   "outputs": [
    {
     "data": {
      "text/plain": [
       "<sklearn.metrics._plot.precision_recall_curve.PrecisionRecallDisplay at 0x7fca9662e0d0>"
      ]
     },
     "execution_count": 52,
     "metadata": {},
     "output_type": "execute_result"
    },
    {
     "data": {
      "image/png": "[encoded data removed]",
      "text/plain": [
       "<Figure size 432x288 with 1 Axes>"
      ]
     },
     "metadata": {
      "needs_background": "light"
     },
     "output_type": "display_data"
    }
   ],
   "source": [
    "plot_precision_recall_curve(best_model, X_test, y_test)"
   ]
  }
 ],
 "metadata": {
  "kernelspec": {
   "display_name": "Python 3",
   "language": "python",
   "name": "python3"
  },
  "language_info": {
   "codemirror_mode": {
    "name": "ipython",
    "version": 3
   },
   "file_extension": ".py",
   "mimetype": "text/x-python",
   "name": "python",
   "nbconvert_exporter": "python",
   "pygments_lexer": "ipython3",
   "version": "3.7.6"
  }
 },
 "nbformat": 4,
 "nbformat_minor": 2
}
