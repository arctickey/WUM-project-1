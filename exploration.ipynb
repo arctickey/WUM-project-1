{
 "cells": [
  {
   "cell_type": "markdown",
   "source": [
    "# Data exploration"
   ],
   "metadata": {
    "collapsed": false
   }
  },
  {
   "cell_type": "markdown",
   "source": [
    "## Packages import"
   ],
   "metadata": {
    "collapsed": false,
    "pycharm": {
     "name": "#%% md\n"
    }
   }
  },
  {
   "cell_type": "code",
   "execution_count": 8,
   "outputs": [],
   "source": [
    "import pandas as pd\n",
    "import numpy as np\n",
    "import seaborn as sns\n",
    "import matplotlib.pyplot as plt\n",
    "\n",
    "#Setting seed\n",
    "np.random.seed(123)"
   ],
   "metadata": {
    "collapsed": false,
    "pycharm": {
     "name": "#%%\n",
     "is_executing": false
    }
   }
  },
  {
   "cell_type": "code",
   "execution_count": 9,
   "outputs": [],
   "source": [
    "#Reading data\n",
    "df = pd.read_csv(\"bank_marketing_weka_dataset.csv\")"
   ],
   "metadata": {
    "collapsed": false,
    "pycharm": {
     "name": "#%%\n",
     "is_executing": false
    }
   }
  },
  {
   "cell_type": "code",
   "execution_count": 10,
   "outputs": [
    {
     "name": "stdout",
     "text": [
      "<class 'pandas.core.frame.DataFrame'>\n",
      "RangeIndex: 4521 entries, 0 to 4520\n",
      "Data columns (total 17 columns):\n",
      "age          4521 non-null int64\n",
      "job          4521 non-null object\n",
      "marital      4521 non-null object\n",
      "education    4521 non-null object\n",
      "default      4521 non-null object\n",
      "balance      4521 non-null int64\n",
      "housing      4521 non-null object\n",
      "loan         4521 non-null object\n",
      "contact      4521 non-null object\n",
      "day          4521 non-null int64\n",
      "month        4521 non-null object\n",
      "duration     4521 non-null float64\n",
      "campaign     4521 non-null int64\n",
      "pdays        4521 non-null float64\n",
      "previous     4521 non-null int64\n",
      "poutcome     4521 non-null object\n",
      "y            4521 non-null object\n",
      "dtypes: float64(2), int64(5), object(10)\n",
      "memory usage: 600.6+ KB\n"
     ],
     "output_type": "stream"
    }
   ],
   "source": [
    "#Checking data types and missing values\n",
    "df.info()"
   ],
   "metadata": {
    "collapsed": false,
    "pycharm": {
     "name": "#%%\n",
     "is_executing": false
    }
   }
  },
  {
   "cell_type": "markdown",
   "source": [
    "No missing values. Variables are both categorical strings and\n",
    "continuous numerical."
   ],
   "metadata": {
    "collapsed": false
   }
  },
  {
   "cell_type": "code",
   "execution_count": 11,
   "outputs": [
    {
     "data": {
      "text/plain": "               age       balance          day     duration     campaign  \\\ncount  4521.000000   4521.000000  4521.000000  4521.000000  4521.000000   \nmean     41.170095   1422.657819    15.915284   263.961292     2.793630   \nstd      10.576211   3009.638142     8.247667   259.856633     3.109807   \nmin      19.000000  -3313.000000     1.000000     4.000000     1.000000   \n25%      33.000000     69.000000     9.000000   104.000000     1.000000   \n50%      39.000000    444.000000    16.000000   185.000000     2.000000   \n75%      49.000000   1480.000000    21.000000   329.000000     3.000000   \nmax      87.000000  71188.000000    31.000000  3025.000000    50.000000   \n\n             pdays     previous  \ncount  4521.000000  4521.000000  \nmean     39.766645     0.542579  \nstd     100.121124     1.693562  \nmin      -1.000000     0.000000  \n25%      -1.000000     0.000000  \n50%      -1.000000     0.000000  \n75%      -1.000000     0.000000  \nmax     871.000000    25.000000  ",
      "text/html": "<div>\n<style scoped>\n    .dataframe tbody tr th:only-of-type {\n        vertical-align: middle;\n    }\n\n    .dataframe tbody tr th {\n        vertical-align: top;\n    }\n\n    .dataframe thead th {\n        text-align: right;\n    }\n</style>\n<table border=\"1\" class=\"dataframe\">\n  <thead>\n    <tr style=\"text-align: right;\">\n      <th></th>\n      <th>age</th>\n      <th>balance</th>\n      <th>day</th>\n      <th>duration</th>\n      <th>campaign</th>\n      <th>pdays</th>\n      <th>previous</th>\n    </tr>\n  </thead>\n  <tbody>\n    <tr>\n      <th>count</th>\n      <td>4521.000000</td>\n      <td>4521.000000</td>\n      <td>4521.000000</td>\n      <td>4521.000000</td>\n      <td>4521.000000</td>\n      <td>4521.000000</td>\n      <td>4521.000000</td>\n    </tr>\n    <tr>\n      <th>mean</th>\n      <td>41.170095</td>\n      <td>1422.657819</td>\n      <td>15.915284</td>\n      <td>263.961292</td>\n      <td>2.793630</td>\n      <td>39.766645</td>\n      <td>0.542579</td>\n    </tr>\n    <tr>\n      <th>std</th>\n      <td>10.576211</td>\n      <td>3009.638142</td>\n      <td>8.247667</td>\n      <td>259.856633</td>\n      <td>3.109807</td>\n      <td>100.121124</td>\n      <td>1.693562</td>\n    </tr>\n    <tr>\n      <th>min</th>\n      <td>19.000000</td>\n      <td>-3313.000000</td>\n      <td>1.000000</td>\n      <td>4.000000</td>\n      <td>1.000000</td>\n      <td>-1.000000</td>\n      <td>0.000000</td>\n    </tr>\n    <tr>\n      <th>25%</th>\n      <td>33.000000</td>\n      <td>69.000000</td>\n      <td>9.000000</td>\n      <td>104.000000</td>\n      <td>1.000000</td>\n      <td>-1.000000</td>\n      <td>0.000000</td>\n    </tr>\n    <tr>\n      <th>50%</th>\n      <td>39.000000</td>\n      <td>444.000000</td>\n      <td>16.000000</td>\n      <td>185.000000</td>\n      <td>2.000000</td>\n      <td>-1.000000</td>\n      <td>0.000000</td>\n    </tr>\n    <tr>\n      <th>75%</th>\n      <td>49.000000</td>\n      <td>1480.000000</td>\n      <td>21.000000</td>\n      <td>329.000000</td>\n      <td>3.000000</td>\n      <td>-1.000000</td>\n      <td>0.000000</td>\n    </tr>\n    <tr>\n      <th>max</th>\n      <td>87.000000</td>\n      <td>71188.000000</td>\n      <td>31.000000</td>\n      <td>3025.000000</td>\n      <td>50.000000</td>\n      <td>871.000000</td>\n      <td>25.000000</td>\n    </tr>\n  </tbody>\n</table>\n</div>"
     },
     "metadata": {},
     "output_type": "execute_result",
     "execution_count": 11
    }
   ],
   "source": [
    "#Basic information\n",
    "df.describe()\n"
   ],
   "metadata": {
    "collapsed": false,
    "pycharm": {
     "name": "#%%\n",
     "is_executing": false
    }
   }
  }
 ],
 "metadata": {
  "kernelspec": {
   "display_name": "Python 3",
   "language": "python",
   "name": "python3"
  },
  "language_info": {
   "codemirror_mode": {
    "name": "ipython",
    "version": 2
   },
   "file_extension": ".py",
   "mimetype": "text/x-python",
   "name": "python",
   "nbconvert_exporter": "python",
   "pygments_lexer": "ipython2",
   "version": "2.7.6"
  },
  "pycharm": {
   "stem_cell": {
    "cell_type": "raw",
    "source": [],
    "metadata": {
     "collapsed": false
    }
   }
  }
 },
 "nbformat": 4,
 "nbformat_minor": 0
}