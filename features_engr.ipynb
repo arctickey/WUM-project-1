{
 "cells": [
  {
   "cell_type": "markdown",
   "metadata": {},
   "source": [
    "### Packages and dataset"
   ]
  },
  {
   "cell_type": "code",
   "execution_count": 583,
   "metadata": {},
   "outputs": [],
   "source": [
    "import pandas as pd\n",
    "import numpy as np\n",
    "import seaborn as sns\n",
    "from scipy.stats import skew,boxcox,yeojohnson\n",
    "import sklearn\n",
    "from sklearn.preprocessing import LabelEncoder\n",
    "import category_encoders\n",
    "from category_encoders.target_encoder import TargetEncoder\n",
    "from sklearn.model_selection import train_test_split,cross_val_score,KFold,GridSearchCV,cross_validate\n",
    "from sklearn.preprocessing import StandardScaler\n",
    "import time\n",
    "from sklearn.metrics import roc_auc_score,confusion_matrix\n",
    "from sklearn.ensemble import RandomForestClassifier\n",
    "from sklearn.linear_model import LogisticRegression\n",
    "import xgboost as xgb\n",
    "from sklearn.ensemble import AdaBoostClassifier\n"
   ]
  },
  {
   "cell_type": "code",
   "execution_count": 584,
   "metadata": {},
   "outputs": [],
   "source": [
    "#Reading csv\n",
    "df = pd.read_csv(\"bank_marketing_weka_dataset.csv\")\n",
    "\n",
    "#Separate features\n",
    "X = df.drop(['y'], axis=1)\n",
    "\n",
    "#Target variable\n",
    "y = df['y']\n",
    "\n",
    "#Transform 'y' to binary\n",
    "y = y.map(dict(yes=1, no=0))\n",
    "\n",
    "#Continuos variables\n",
    "conti = X.select_dtypes(include=np.number)"
   ]
  },
  {
   "cell_type": "code",
   "execution_count": 585,
   "metadata": {},
   "outputs": [
    {
     "data": {
      "text/html": [
       "<div>\n",
       "<style scoped>\n",
       "    .dataframe tbody tr th:only-of-type {\n",
       "        vertical-align: middle;\n",
       "    }\n",
       "\n",
       "    .dataframe tbody tr th {\n",
       "        vertical-align: top;\n",
       "    }\n",
       "\n",
       "    .dataframe thead th {\n",
       "        text-align: right;\n",
       "    }\n",
       "</style>\n",
       "<table border=\"1\" class=\"dataframe\">\n",
       "  <thead>\n",
       "    <tr style=\"text-align: right;\">\n",
       "      <th></th>\n",
       "      <th>age</th>\n",
       "      <th>job</th>\n",
       "      <th>marital</th>\n",
       "      <th>education</th>\n",
       "      <th>default</th>\n",
       "      <th>balance</th>\n",
       "      <th>housing</th>\n",
       "      <th>loan</th>\n",
       "      <th>contact</th>\n",
       "      <th>day</th>\n",
       "      <th>month</th>\n",
       "      <th>duration</th>\n",
       "      <th>campaign</th>\n",
       "      <th>pdays</th>\n",
       "      <th>previous</th>\n",
       "      <th>poutcome</th>\n",
       "    </tr>\n",
       "  </thead>\n",
       "  <tbody>\n",
       "    <tr>\n",
       "      <th>0</th>\n",
       "      <td>30</td>\n",
       "      <td>unemployed</td>\n",
       "      <td>married</td>\n",
       "      <td>primary</td>\n",
       "      <td>no</td>\n",
       "      <td>1787</td>\n",
       "      <td>no</td>\n",
       "      <td>no</td>\n",
       "      <td>cellular</td>\n",
       "      <td>19</td>\n",
       "      <td>oct</td>\n",
       "      <td>79.0</td>\n",
       "      <td>1</td>\n",
       "      <td>-1.0</td>\n",
       "      <td>0</td>\n",
       "      <td>unknown</td>\n",
       "    </tr>\n",
       "    <tr>\n",
       "      <th>1</th>\n",
       "      <td>33</td>\n",
       "      <td>services</td>\n",
       "      <td>married</td>\n",
       "      <td>secondary</td>\n",
       "      <td>no</td>\n",
       "      <td>4789</td>\n",
       "      <td>yes</td>\n",
       "      <td>yes</td>\n",
       "      <td>cellular</td>\n",
       "      <td>11</td>\n",
       "      <td>may</td>\n",
       "      <td>220.0</td>\n",
       "      <td>1</td>\n",
       "      <td>339.0</td>\n",
       "      <td>4</td>\n",
       "      <td>failure</td>\n",
       "    </tr>\n",
       "    <tr>\n",
       "      <th>2</th>\n",
       "      <td>35</td>\n",
       "      <td>management</td>\n",
       "      <td>single</td>\n",
       "      <td>tertiary</td>\n",
       "      <td>no</td>\n",
       "      <td>1350</td>\n",
       "      <td>yes</td>\n",
       "      <td>no</td>\n",
       "      <td>cellular</td>\n",
       "      <td>16</td>\n",
       "      <td>apr</td>\n",
       "      <td>185.0</td>\n",
       "      <td>1</td>\n",
       "      <td>330.0</td>\n",
       "      <td>1</td>\n",
       "      <td>failure</td>\n",
       "    </tr>\n",
       "    <tr>\n",
       "      <th>3</th>\n",
       "      <td>30</td>\n",
       "      <td>management</td>\n",
       "      <td>married</td>\n",
       "      <td>tertiary</td>\n",
       "      <td>no</td>\n",
       "      <td>1476</td>\n",
       "      <td>yes</td>\n",
       "      <td>yes</td>\n",
       "      <td>unknown</td>\n",
       "      <td>3</td>\n",
       "      <td>jun</td>\n",
       "      <td>199.0</td>\n",
       "      <td>4</td>\n",
       "      <td>-1.0</td>\n",
       "      <td>0</td>\n",
       "      <td>unknown</td>\n",
       "    </tr>\n",
       "    <tr>\n",
       "      <th>4</th>\n",
       "      <td>59</td>\n",
       "      <td>blue-collar</td>\n",
       "      <td>married</td>\n",
       "      <td>secondary</td>\n",
       "      <td>no</td>\n",
       "      <td>0</td>\n",
       "      <td>yes</td>\n",
       "      <td>no</td>\n",
       "      <td>unknown</td>\n",
       "      <td>5</td>\n",
       "      <td>may</td>\n",
       "      <td>226.0</td>\n",
       "      <td>1</td>\n",
       "      <td>-1.0</td>\n",
       "      <td>0</td>\n",
       "      <td>unknown</td>\n",
       "    </tr>\n",
       "  </tbody>\n",
       "</table>\n",
       "</div>"
      ],
      "text/plain": [
       "   age          job  marital  education default  balance housing loan  \\\n",
       "0   30   unemployed  married    primary      no     1787      no   no   \n",
       "1   33     services  married  secondary      no     4789     yes  yes   \n",
       "2   35   management   single   tertiary      no     1350     yes   no   \n",
       "3   30   management  married   tertiary      no     1476     yes  yes   \n",
       "4   59  blue-collar  married  secondary      no        0     yes   no   \n",
       "\n",
       "    contact  day month  duration  campaign  pdays  previous poutcome  \n",
       "0  cellular   19   oct      79.0         1   -1.0         0  unknown  \n",
       "1  cellular   11   may     220.0         1  339.0         4  failure  \n",
       "2  cellular   16   apr     185.0         1  330.0         1  failure  \n",
       "3   unknown    3   jun     199.0         4   -1.0         0  unknown  \n",
       "4   unknown    5   may     226.0         1   -1.0         0  unknown  "
      ]
     },
     "execution_count": 585,
     "metadata": {},
     "output_type": "execute_result"
    }
   ],
   "source": [
    "#Features initial state\n",
    "X.head()"
   ]
  },
  {
   "cell_type": "markdown",
   "metadata": {},
   "source": [
    "## Target variable balance"
   ]
  },
  {
   "cell_type": "code",
   "execution_count": 586,
   "metadata": {},
   "outputs": [
    {
     "data": {
      "text/plain": [
       "0    4000\n",
       "1     521\n",
       "Name: y, dtype: int64"
      ]
     },
     "execution_count": 586,
     "metadata": {},
     "output_type": "execute_result"
    }
   ],
   "source": [
    "y.value_counts()"
   ]
  },
  {
   "cell_type": "markdown",
   "metadata": {},
   "source": [
    "# Features engineering"
   ]
  },
  {
   "cell_type": "markdown",
   "metadata": {},
   "source": [
    "## Modifications for the whole dataset"
   ]
  },
  {
   "cell_type": "markdown",
   "metadata": {},
   "source": [
    "### Binary values\n",
    "Variables: 'default', 'housing', 'loan'\\\n",
    "Values: 'yes', 'no'\\\n",
    "Method: map to yes=1, no=0"
   ]
  },
  {
   "cell_type": "code",
   "execution_count": 587,
   "metadata": {},
   "outputs": [],
   "source": [
    "X = X.replace('yes', 1)\n",
    "X = X.replace('no', 0)"
   ]
  },
  {
   "cell_type": "markdown",
   "metadata": {},
   "source": [
    "### Month variable\n",
    "Values: string abbreviations\\\n",
    "Method: transform to numerical"
   ]
  },
  {
   "cell_type": "code",
   "execution_count": 588,
   "metadata": {},
   "outputs": [],
   "source": [
    "X.month = X.month.map(dict(\n",
    "jan=1, feb=2, mar=3, apr=4, may=5, jun=6,\n",
    "jul=7, aug=8, sep=9, oct=10, nov=11, dec=12))"
   ]
  },
  {
   "cell_type": "markdown",
   "metadata": {},
   "source": [
    "## Train test split\n",
    "Now we split the dataset to train and test parts to prevent data leakage in the future model leaning."
   ]
  },
  {
   "cell_type": "code",
   "execution_count": 589,
   "metadata": {},
   "outputs": [],
   "source": [
    "#Train-test split\n",
    "X_train,X_test,y_train,y_test = train_test_split(X,y,test_size=0.2,random_state = 42)"
   ]
  },
  {
   "cell_type": "markdown",
   "metadata": {},
   "source": [
    "## Continuous variables"
   ]
  },
  {
   "cell_type": "markdown",
   "metadata": {},
   "source": [
    "### Train set"
   ]
  },
  {
   "cell_type": "code",
   "execution_count": 590,
   "metadata": {},
   "outputs": [],
   "source": [
    "def skew(X, conti):\n",
    "    '''Calculates skewness of continuous variables in dataset. conti - var list\n",
    "    returns columns with skewness>2'''\n",
    "    skewed = []\n",
    "    for column in conti.columns:\n",
    "        if conti[column].skew()>2:\n",
    "            skewed.append(column)\n",
    "        print(f'{column.capitalize()} skew = {conti[column].skew()}')\n",
    "    return(skewed)"
   ]
  },
  {
   "cell_type": "code",
   "execution_count": 591,
   "metadata": {},
   "outputs": [
    {
     "name": "stdout",
     "output_type": "stream",
     "text": [
      "Age skew = 0.6995014533559305\n",
      "Balance skew = 6.596430546295735\n",
      "Day skew = 0.09462690455175846\n",
      "Duration skew = 2.7724197169136455\n",
      "Campaign skew = 4.74391446894159\n",
      "Pdays skew = 2.71707136656418\n",
      "Previous skew = 5.875258677896706\n"
     ]
    }
   ],
   "source": [
    "skew_train = skew(X_train, conti)"
   ]
  },
  {
   "cell_type": "markdown",
   "metadata": {},
   "source": [
    "It is known that ML algorithms tend to perform worse if they have to deal with skewed data. Here we arbitrally have chosen columns with skewness above 2 and transform them, to reduce that parameter."
   ]
  },
  {
   "cell_type": "code",
   "execution_count": 592,
   "metadata": {},
   "outputs": [],
   "source": [
    "def skew_reduce(X, skewed):\n",
    "    '''Applies boxcox or yeojohnson transform on skew vars'''\n",
    "    for column in skewed:\n",
    "        if X[column].min()>0:\n",
    "            print(pd.Series(boxcox(X[column])[0]).skew(),f'{column} boxcox')\n",
    "            X.reset_index(drop=True, inplace=True)\n",
    "            X.loc[:, column] = pd.Series(boxcox(X[column])[0])\n",
    "        else:\n",
    "            print(pd.Series(yeojohnson(X[column])[0]).skew(),f'{column} yeojohnson')\n",
    "            X.reset_index(drop=True, inplace=True)\n",
    "            X.loc[:, column] = pd.Series(yeojohnson(X[column])[0])"
   ]
  },
  {
   "cell_type": "markdown",
   "metadata": {},
   "source": [
    "Ideally we would like to use boxcox transormation for all our chosen data, but this type of transormation does not work with negative values. Instead of trying to add some constant to these columns with non-positive values we decided to use yeojohnson transormation which is capable of dealing with negative data. As we can see in all of our columns we have managed to reduce skewness massively."
   ]
  },
  {
   "cell_type": "code",
   "execution_count": 593,
   "metadata": {},
   "outputs": [
    {
     "name": "stdout",
     "output_type": "stream",
     "text": [
      "1.290840421959374 balance yeojohnson\n",
      "0.013448824859416945 duration boxcox\n",
      "0.16766062091805645 campaign boxcox\n",
      "1.6668067185477198 pdays yeojohnson\n",
      "1.6665615521189976 previous yeojohnson\n"
     ]
    },
    {
     "name": "stderr",
     "output_type": "stream",
     "text": [
      "/home/piotr/anaconda3/lib/python3.7/site-packages/pandas/core/indexing.py:494: SettingWithCopyWarning: \n",
      "A value is trying to be set on a copy of a slice from a DataFrame.\n",
      "Try using .loc[row_indexer,col_indexer] = value instead\n",
      "\n",
      "See the caveats in the documentation: http://pandas.pydata.org/pandas-docs/stable/user_guide/indexing.html#returning-a-view-versus-a-copy\n",
      "  self.obj[item] = s\n"
     ]
    }
   ],
   "source": [
    "skew_reduce(X_train, skew_train)"
   ]
  },
  {
   "cell_type": "markdown",
   "metadata": {},
   "source": [
    "### Test set"
   ]
  },
  {
   "cell_type": "code",
   "execution_count": 594,
   "metadata": {},
   "outputs": [
    {
     "name": "stdout",
     "output_type": "stream",
     "text": [
      "Age skew = 0.6995014533559305\n",
      "Balance skew = 6.596430546295735\n",
      "Day skew = 0.09462690455175846\n",
      "Duration skew = 2.7724197169136455\n",
      "Campaign skew = 4.74391446894159\n",
      "Pdays skew = 2.71707136656418\n",
      "Previous skew = 5.875258677896706\n"
     ]
    }
   ],
   "source": [
    "skew_test = skew(X_test, conti)"
   ]
  },
  {
   "cell_type": "code",
   "execution_count": 595,
   "metadata": {},
   "outputs": [
    {
     "name": "stdout",
     "output_type": "stream",
     "text": [
      "2.7233130991276724 balance yeojohnson\n",
      "0.023438790518874802 duration boxcox\n",
      "0.15457242388543432 campaign boxcox\n",
      "1.6613073918077546 pdays yeojohnson\n",
      "1.6609394380712006 previous yeojohnson\n"
     ]
    }
   ],
   "source": [
    "skew_reduce(X_test, skew_test)"
   ]
  },
  {
   "cell_type": "code",
   "execution_count": 596,
   "metadata": {},
   "outputs": [],
   "source": [
    "# conti = X.select_dtypes(include=np.number)\n",
    "# skewed = []\n",
    "# for column in conti.columns:\n",
    "#     if conti[column].skew()>2:\n",
    "#         skewed.append(column)\n",
    "#     print(f'{column.capitalize()} skew = {conti[column].skew()}')"
   ]
  },
  {
   "cell_type": "code",
   "execution_count": 597,
   "metadata": {},
   "outputs": [],
   "source": [
    "# for column in skewed:\n",
    "#     if X[column].min()>0:\n",
    "#         print(pd.Series(boxcox(X[column])[0]).skew(),f'{column} boxcox')\n",
    "#         X[column] = pd.Series(boxcox(X[column])[0])\n",
    "#     else:\n",
    "#         print(pd.Series(yeojohnson(X[column])[0]).skew(),f'{column} yeojohnson')\n",
    "#         X[column] = pd.Series(yeojohnson(X[column])[0])"
   ]
  },
  {
   "cell_type": "markdown",
   "metadata": {},
   "source": [
    "## Categorical variables"
   ]
  },
  {
   "cell_type": "code",
   "execution_count": 598,
   "metadata": {},
   "outputs": [
    {
     "data": {
      "text/plain": [
       "Index(['job', 'marital', 'education', 'contact', 'poutcome'], dtype='object')"
      ]
     },
     "execution_count": 598,
     "metadata": {},
     "output_type": "execute_result"
    }
   ],
   "source": [
    "#List of categorical variables\n",
    "X.select_dtypes(include='object').columns"
   ]
  },
  {
   "cell_type": "markdown",
   "metadata": {},
   "source": [
    "### Variables: 'job', 'marital', 'education', 'poutcom', 'contact'"
   ]
  },
  {
   "cell_type": "markdown",
   "metadata": {},
   "source": [
    "Thanks to EDA we know that:\n",
    "\n",
    "- 'unknown' values are present\n",
    "- 'job', 'education', 'poutcom' seem to have impact on target variable\n",
    "- values distributions have no dangerous disparities (in terms of using the target encoding method)\n",
    "\n",
    "Hence, we decide to:\n",
    "\n",
    " - leave the 'unknown' values, as it represents best the idea of the missing information in our case\n",
    " - apply target encoding method to variables related with target variable\n",
    " - apply one-hot encoding to other variables\n",
    " \n",
    "Expecting target encoding to reflect the relationship of variables with target variable - where it is present according to EDA - and one-hot method to neutrally pass on values of other variables.\\\n",
    "\\\n",
    "For second approach to compere results we decide to apply target encoding for all of these features."
   ]
  },
  {
   "cell_type": "code",
   "execution_count": 599,
   "metadata": {},
   "outputs": [],
   "source": [
    "#Approach 1\n",
    "X1_train = X_train.copy()\n",
    "X1_test = X_test.copy()\n",
    "\n",
    "#Target encoding train set\n",
    "te = TargetEncoder()\n",
    "X1_train.loc[:, ['job', 'education', 'poutcome']] = te.fit_transform(X1_train.loc[:, ['job', 'education', 'poutcome']], y_train)\n",
    "#test set\n",
    "X1_test.loc[:, ['job', 'education', 'poutcome']] = te.transform(X1_test.loc[:, ['job', 'education', 'poutcome']])\n",
    "\n",
    "#One-hot encoding\n",
    "X1_train = pd.get_dummies(X1_train, columns=['marital', 'contact'])\n",
    "X1_test = pd.get_dummies(X1_test, columns=['marital', 'contact'])\n",
    "\n",
    "#For future\n",
    "cols = X1_train.columns"
   ]
  },
  {
   "cell_type": "code",
   "execution_count": 600,
   "metadata": {},
   "outputs": [],
   "source": [
    "#Approach 2\n",
    "X2_train = X_train.copy()\n",
    "X2_test = X_test.copy()\n",
    "\n",
    "#Target encoding for all variables\n",
    "te2 = TargetEncoder()\n",
    "cols_to_te = ['job', 'education', 'poutcome', 'marital', 'contact']\n",
    "X2_train.loc[:, cols_to_te] = te2.fit_transform(X2_train.loc[:, cols_to_te], y_train)\n",
    "X2_test.loc[:, cols_to_te] = te2.transform(X2_test.loc[:, cols_to_te])"
   ]
  },
  {
   "cell_type": "markdown",
   "metadata": {},
   "source": [
    "Scaling the data just for sake we might use alghoritm that require standarized input."
   ]
  },
  {
   "cell_type": "code",
   "execution_count": 601,
   "metadata": {},
   "outputs": [],
   "source": [
    "scaler = StandardScaler()\n",
    "scaler2 = StandardScaler()\n",
    "\n",
    "X1_train = scaler.fit_transform(X1_train)\n",
    "X1_test = scaler.transform(X1_test)\n",
    "\n",
    "X2_train = scaler2.fit_transform(X2_train)\n",
    "X2_test = scaler2.transform(X2_test)"
   ]
  },
  {
   "cell_type": "markdown",
   "metadata": {},
   "source": [
    "# Modeling"
   ]
  },
  {
   "cell_type": "code",
   "execution_count": 602,
   "metadata": {},
   "outputs": [],
   "source": [
    "def modeling(X_train, y_train):\n",
    "    \n",
    "    #cv folds\n",
    "    kfold = KFold(n_splits=5, random_state=42, shuffle=True)\n",
    "    \n",
    "    #cv scores\n",
    "    scoring = {'precision': 'precision_macro',\n",
    "               'recall': 'recall_macro',\n",
    "               'accuracy': 'accuracy',\n",
    "               'auc': 'roc_auc',}\n",
    "    \n",
    "    #Logistic regression\n",
    "    logistic =  LogisticRegression(C=0.001,solver='saga',random_state=42)\n",
    "    r_log = cross_validate(logistic,X_train,y_train,scoring=scoring, cv=kfold)\n",
    "    \n",
    "    #xgb\n",
    "    params = {'colsample_bytree': 0.8, 'gamma': 1.5, 'max_depth': 5, 'min_child_weight': 1, 'subsample': 0.8,'n_estimators':1000,'random_state':42}\n",
    "    xg = xgb.XGBClassifier(objective='binary:logistic',nthread=4,n_jobs=4,params=params)\n",
    "    r_xgb = cross_validate(xg, X_train, y_train, cv=kfold, scoring=scoring)\n",
    "    \n",
    "    #random forest\n",
    "    params = {'max_depth': 3, 'min_samples_leaf': 2, 'min_samples_split': 2, 'n_estimators': 500,'max_features':'auto','random_state':42}\n",
    "    tree = RandomForestClassifier(**params)\n",
    "\n",
    "    r_ranforest = cross_validate(tree,X_train,y_train,scoring=scoring,cv=kfold)\n",
    "    \n",
    "    return([r_log, r_ranforest, r_xgb])"
   ]
  },
  {
   "cell_type": "code",
   "execution_count": 603,
   "metadata": {},
   "outputs": [
    {
     "name": "stderr",
     "output_type": "stream",
     "text": [
      "/home/piotr/anaconda3/lib/python3.7/site-packages/sklearn/metrics/_classification.py:1272: UndefinedMetricWarning: Precision is ill-defined and being set to 0.0 in labels with no predicted samples. Use `zero_division` parameter to control this behavior.\n",
      "  _warn_prf(average, modifier, msg_start, len(result))\n",
      "/home/piotr/anaconda3/lib/python3.7/site-packages/sklearn/metrics/_classification.py:1272: UndefinedMetricWarning: Precision is ill-defined and being set to 0.0 in labels with no predicted samples. Use `zero_division` parameter to control this behavior.\n",
      "  _warn_prf(average, modifier, msg_start, len(result))\n",
      "/home/piotr/anaconda3/lib/python3.7/site-packages/sklearn/metrics/_classification.py:1272: UndefinedMetricWarning: Precision is ill-defined and being set to 0.0 in labels with no predicted samples. Use `zero_division` parameter to control this behavior.\n",
      "  _warn_prf(average, modifier, msg_start, len(result))\n",
      "/home/piotr/anaconda3/lib/python3.7/site-packages/sklearn/metrics/_classification.py:1272: UndefinedMetricWarning: Precision is ill-defined and being set to 0.0 in labels with no predicted samples. Use `zero_division` parameter to control this behavior.\n",
      "  _warn_prf(average, modifier, msg_start, len(result))\n",
      "/home/piotr/anaconda3/lib/python3.7/site-packages/sklearn/metrics/_classification.py:1272: UndefinedMetricWarning: Precision is ill-defined and being set to 0.0 in labels with no predicted samples. Use `zero_division` parameter to control this behavior.\n",
      "  _warn_prf(average, modifier, msg_start, len(result))\n",
      "/home/piotr/anaconda3/lib/python3.7/site-packages/sklearn/metrics/_classification.py:1272: UndefinedMetricWarning: Precision is ill-defined and being set to 0.0 in labels with no predicted samples. Use `zero_division` parameter to control this behavior.\n",
      "  _warn_prf(average, modifier, msg_start, len(result))\n"
     ]
    }
   ],
   "source": [
    "result = modeling(X1_train,y_train)"
   ]
  },
  {
   "cell_type": "code",
   "execution_count": 604,
   "metadata": {},
   "outputs": [
    {
     "name": "stderr",
     "output_type": "stream",
     "text": [
      "/home/piotr/anaconda3/lib/python3.7/site-packages/sklearn/metrics/_classification.py:1272: UndefinedMetricWarning: Precision is ill-defined and being set to 0.0 in labels with no predicted samples. Use `zero_division` parameter to control this behavior.\n",
      "  _warn_prf(average, modifier, msg_start, len(result))\n",
      "/home/piotr/anaconda3/lib/python3.7/site-packages/sklearn/metrics/_classification.py:1272: UndefinedMetricWarning: Precision is ill-defined and being set to 0.0 in labels with no predicted samples. Use `zero_division` parameter to control this behavior.\n",
      "  _warn_prf(average, modifier, msg_start, len(result))\n",
      "/home/piotr/anaconda3/lib/python3.7/site-packages/sklearn/metrics/_classification.py:1272: UndefinedMetricWarning: Precision is ill-defined and being set to 0.0 in labels with no predicted samples. Use `zero_division` parameter to control this behavior.\n",
      "  _warn_prf(average, modifier, msg_start, len(result))\n",
      "/home/piotr/anaconda3/lib/python3.7/site-packages/sklearn/metrics/_classification.py:1272: UndefinedMetricWarning: Precision is ill-defined and being set to 0.0 in labels with no predicted samples. Use `zero_division` parameter to control this behavior.\n",
      "  _warn_prf(average, modifier, msg_start, len(result))\n",
      "/home/piotr/anaconda3/lib/python3.7/site-packages/sklearn/metrics/_classification.py:1272: UndefinedMetricWarning: Precision is ill-defined and being set to 0.0 in labels with no predicted samples. Use `zero_division` parameter to control this behavior.\n",
      "  _warn_prf(average, modifier, msg_start, len(result))\n",
      "/home/piotr/anaconda3/lib/python3.7/site-packages/sklearn/metrics/_classification.py:1272: UndefinedMetricWarning: Precision is ill-defined and being set to 0.0 in labels with no predicted samples. Use `zero_division` parameter to control this behavior.\n",
      "  _warn_prf(average, modifier, msg_start, len(result))\n"
     ]
    }
   ],
   "source": [
    "result2 = modeling(X2_train,y_train)"
   ]
  },
  {
   "cell_type": "markdown",
   "metadata": {},
   "source": [
    "# Validation scores"
   ]
  },
  {
   "cell_type": "markdown",
   "metadata": {},
   "source": [
    "Scores means from cross-validation are presented below for three tested algorithms and two features engineering approaches. We observe satisfying accuracy and auc, but recall needs to be improved in futer. Its low score is propably caused by imbalance in target variable.\\\n",
    "Algorithms results are suprisingly very similar. XGBoost performed best in recall score."
   ]
  },
  {
   "cell_type": "code",
   "execution_count": 605,
   "metadata": {},
   "outputs": [
    {
     "name": "stdout",
     "output_type": "stream",
     "text": [
      "Logistic regression:\n"
     ]
    },
    {
     "data": {
      "text/html": [
       "<div>\n",
       "<style scoped>\n",
       "    .dataframe tbody tr th:only-of-type {\n",
       "        vertical-align: middle;\n",
       "    }\n",
       "\n",
       "    .dataframe tbody tr th {\n",
       "        vertical-align: top;\n",
       "    }\n",
       "\n",
       "    .dataframe thead th {\n",
       "        text-align: right;\n",
       "    }\n",
       "</style>\n",
       "<table border=\"1\" class=\"dataframe\">\n",
       "  <thead>\n",
       "    <tr style=\"text-align: right;\">\n",
       "      <th></th>\n",
       "      <th>X1</th>\n",
       "      <th>X2</th>\n",
       "    </tr>\n",
       "  </thead>\n",
       "  <tbody>\n",
       "    <tr>\n",
       "      <th>validate_precision</th>\n",
       "      <td>0.441512</td>\n",
       "      <td>0.441512</td>\n",
       "    </tr>\n",
       "    <tr>\n",
       "      <th>validate_recall</th>\n",
       "      <td>0.500000</td>\n",
       "      <td>0.500000</td>\n",
       "    </tr>\n",
       "    <tr>\n",
       "      <th>validate_accuarcy</th>\n",
       "      <td>0.883024</td>\n",
       "      <td>0.883024</td>\n",
       "    </tr>\n",
       "    <tr>\n",
       "      <th>validate_auc</th>\n",
       "      <td>0.848418</td>\n",
       "      <td>0.842026</td>\n",
       "    </tr>\n",
       "  </tbody>\n",
       "</table>\n",
       "</div>"
      ],
      "text/plain": [
       "                          X1        X2\n",
       "validate_precision  0.441512  0.441512\n",
       "validate_recall     0.500000  0.500000\n",
       "validate_accuarcy   0.883024  0.883024\n",
       "validate_auc        0.848418  0.842026"
      ]
     },
     "execution_count": 605,
     "metadata": {},
     "output_type": "execute_result"
    }
   ],
   "source": [
    "r1 = pd.DataFrame(result[0]).mean()\n",
    "r1.index = ['fit_time','score_time','validate_precision','validate_recall','validate_accuarcy','validate_auc']\n",
    "r2 = pd.DataFrame(result2[0]).mean()\n",
    "r = pd.DataFrame({'X1': r1.values, 'X2': r2.values}, index=r1.axes)\n",
    "r.drop(['fit_time','score_time'],inplace=True, level=0)\n",
    "print(\"Logistic regression:\")\n",
    "r"
   ]
  },
  {
   "cell_type": "code",
   "execution_count": 606,
   "metadata": {},
   "outputs": [
    {
     "name": "stdout",
     "output_type": "stream",
     "text": [
      "Random forest:\n"
     ]
    },
    {
     "data": {
      "text/html": [
       "<div>\n",
       "<style scoped>\n",
       "    .dataframe tbody tr th:only-of-type {\n",
       "        vertical-align: middle;\n",
       "    }\n",
       "\n",
       "    .dataframe tbody tr th {\n",
       "        vertical-align: top;\n",
       "    }\n",
       "\n",
       "    .dataframe thead th {\n",
       "        text-align: right;\n",
       "    }\n",
       "</style>\n",
       "<table border=\"1\" class=\"dataframe\">\n",
       "  <thead>\n",
       "    <tr style=\"text-align: right;\">\n",
       "      <th></th>\n",
       "      <th>X1</th>\n",
       "      <th>X2</th>\n",
       "    </tr>\n",
       "  </thead>\n",
       "  <tbody>\n",
       "    <tr>\n",
       "      <th>validate_precision</th>\n",
       "      <td>0.710101</td>\n",
       "      <td>0.744105</td>\n",
       "    </tr>\n",
       "    <tr>\n",
       "      <th>validate_recall</th>\n",
       "      <td>0.506886</td>\n",
       "      <td>0.525202</td>\n",
       "    </tr>\n",
       "    <tr>\n",
       "      <th>validate_accuarcy</th>\n",
       "      <td>0.883025</td>\n",
       "      <td>0.887174</td>\n",
       "    </tr>\n",
       "    <tr>\n",
       "      <th>validate_auc</th>\n",
       "      <td>0.869381</td>\n",
       "      <td>0.877124</td>\n",
       "    </tr>\n",
       "  </tbody>\n",
       "</table>\n",
       "</div>"
      ],
      "text/plain": [
       "                          X1        X2\n",
       "validate_precision  0.710101  0.744105\n",
       "validate_recall     0.506886  0.525202\n",
       "validate_accuarcy   0.883025  0.887174\n",
       "validate_auc        0.869381  0.877124"
      ]
     },
     "execution_count": 606,
     "metadata": {},
     "output_type": "execute_result"
    }
   ],
   "source": [
    "r1 = pd.DataFrame(result[1]).mean()\n",
    "r1.index = ['fit_time','score_time','validate_precision','validate_recall','validate_accuarcy','validate_auc']\n",
    "r2 = pd.DataFrame(result2[1]).mean()\n",
    "r = pd.DataFrame({'X1': r1.values, 'X2': r2.values}, index=r1.axes)\n",
    "r.drop(['fit_time','score_time'],inplace=True, level=0)\n",
    "print(\"Random forest:\")\n",
    "r"
   ]
  },
  {
   "cell_type": "code",
   "execution_count": 607,
   "metadata": {},
   "outputs": [
    {
     "name": "stdout",
     "output_type": "stream",
     "text": [
      "XGBoost:\n"
     ]
    },
    {
     "data": {
      "text/html": [
       "<div>\n",
       "<style scoped>\n",
       "    .dataframe tbody tr th:only-of-type {\n",
       "        vertical-align: middle;\n",
       "    }\n",
       "\n",
       "    .dataframe tbody tr th {\n",
       "        vertical-align: top;\n",
       "    }\n",
       "\n",
       "    .dataframe thead th {\n",
       "        text-align: right;\n",
       "    }\n",
       "</style>\n",
       "<table border=\"1\" class=\"dataframe\">\n",
       "  <thead>\n",
       "    <tr style=\"text-align: right;\">\n",
       "      <th></th>\n",
       "      <th>X1</th>\n",
       "      <th>X2</th>\n",
       "    </tr>\n",
       "  </thead>\n",
       "  <tbody>\n",
       "    <tr>\n",
       "      <th>validate_precision</th>\n",
       "      <td>0.754698</td>\n",
       "      <td>0.756392</td>\n",
       "    </tr>\n",
       "    <tr>\n",
       "      <th>validate_recall</th>\n",
       "      <td>0.678990</td>\n",
       "      <td>0.689817</td>\n",
       "    </tr>\n",
       "    <tr>\n",
       "      <th>validate_accuarcy</th>\n",
       "      <td>0.896846</td>\n",
       "      <td>0.897677</td>\n",
       "    </tr>\n",
       "    <tr>\n",
       "      <th>validate_auc</th>\n",
       "      <td>0.893676</td>\n",
       "      <td>0.897949</td>\n",
       "    </tr>\n",
       "  </tbody>\n",
       "</table>\n",
       "</div>"
      ],
      "text/plain": [
       "                          X1        X2\n",
       "validate_precision  0.754698  0.756392\n",
       "validate_recall     0.678990  0.689817\n",
       "validate_accuarcy   0.896846  0.897677\n",
       "validate_auc        0.893676  0.897949"
      ]
     },
     "execution_count": 607,
     "metadata": {},
     "output_type": "execute_result"
    }
   ],
   "source": [
    "r1 = pd.DataFrame(result[2]).mean()\n",
    "r1.index = ['fit_time','score_time','validate_precision','validate_recall','validate_accuarcy','validate_auc']\n",
    "r2 = pd.DataFrame(result2[2]).mean()\n",
    "r = pd.DataFrame({'X1': r1.values, 'X2': r2.values}, index=r1.axes)\n",
    "r.drop(['fit_time','score_time'],inplace=True, level=0)\n",
    "print(\"XGBoost:\")\n",
    "r"
   ]
  },
  {
   "cell_type": "markdown",
   "metadata": {},
   "source": [
    "# Test dataset performance"
   ]
  },
  {
   "cell_type": "code",
   "execution_count": 608,
   "metadata": {},
   "outputs": [],
   "source": [
    "def test(X_train,y_train,X_test,y_test):\n",
    "    \n",
    "    #Logistic regression\n",
    "    logit = LogisticRegression(C=0.01,solver='saga',random_state=42)\n",
    "    logit.fit(X_train,y_train)\n",
    "    pred_log = logit.predict(X_test)\n",
    "    cm = confusion_matrix(pred_log,y_test)\n",
    "    TP = cm[0,0]\n",
    "    TN = cm[1,1]\n",
    "    FP = cm[0,1]\n",
    "    FN = cm[1,0]\n",
    "    precision_log = TP / float(TP + FP)\n",
    "    recall_log = TP / float(TP + FN)\n",
    "    log_data = {'precision':precision_log,'recall': recall_log,'accuracy':logit.score(X_test,y_test),'roc_auc':roc_auc_score(pred_log,y_test)}\n",
    "\n",
    "    \n",
    "    #xgb\n",
    "    params = {'colsample_bytree': 0.8, 'gamma': 1.5, 'max_depth': 5, 'min_child_weight': 1, 'subsample': 0.8,'n_estimators':1000,'random_state':42}\n",
    "    xg = xgb.XGBClassifier(objective='binary:logistic',nthread=4,n_jobs=4,params=params)\n",
    "    xg.fit(X_train,y_train)\n",
    "    pred_xg = xg.predict(X_test)\n",
    "    cm = confusion_matrix(pred_xg,y_test)\n",
    "    TP = cm[0,0]\n",
    "    TN = cm[1,1]\n",
    "    FP = cm[0,1]\n",
    "    FN = cm[1,0]\n",
    "    precision_xg = TP / float(TP + FP)\n",
    "    recall_xg = TP / float(TP + FN)\n",
    "    xg_data = {'precision':precision_xg,'recall': recall_xg,'accuracy':xg.score(X_test,y_test),'roc_auc':roc_auc_score(pred_xg,y_test)}\n",
    "\n",
    "    \n",
    "    \n",
    "    #random forest\n",
    "    params = {'max_depth': 3, 'min_samples_leaf': 2, 'min_samples_split': 2, 'n_estimators': 500,'max_features':'auto',\n",
    "    'random_state':42}\n",
    "    tree = RandomForestClassifier(**params)\n",
    "    tree.fit(X_train,y_train)\n",
    "    pred_tree = tree.predict(X_test)\n",
    "    cm = confusion_matrix(pred_tree,y_test)\n",
    "    TP = cm[0,0]\n",
    "    TN = cm[1,1]\n",
    "    FP = cm[0,1]\n",
    "    FN = cm[1,0]\n",
    "    precision_tree = TP / float(TP + FP)\n",
    "    recall_tree = TP / float(TP + FN)\n",
    "    tree_data = {'precision':precision_tree,'recall': recall_tree,'accuracy':tree.score(X_test,y_test),'roc_auc':roc_auc_score(pred_tree,y_test)}\n",
    "    \n",
    "    data = pd.DataFrame([log_data,xg_data,tree_data])\n",
    "    data.index = ['logit','xgb','tree']\n",
    "    return data.transpose()"
   ]
  },
  {
   "cell_type": "code",
   "execution_count": 609,
   "metadata": {},
   "outputs": [
    {
     "data": {
      "text/html": [
       "<div>\n",
       "<style scoped>\n",
       "    .dataframe tbody tr th:only-of-type {\n",
       "        vertical-align: middle;\n",
       "    }\n",
       "\n",
       "    .dataframe tbody tr th {\n",
       "        vertical-align: top;\n",
       "    }\n",
       "\n",
       "    .dataframe thead th {\n",
       "        text-align: right;\n",
       "    }\n",
       "</style>\n",
       "<table border=\"1\" class=\"dataframe\">\n",
       "  <thead>\n",
       "    <tr style=\"text-align: right;\">\n",
       "      <th></th>\n",
       "      <th>logit</th>\n",
       "      <th>xgb</th>\n",
       "      <th>tree</th>\n",
       "    </tr>\n",
       "  </thead>\n",
       "  <tbody>\n",
       "    <tr>\n",
       "      <th>precision</th>\n",
       "      <td>0.903737</td>\n",
       "      <td>0.920710</td>\n",
       "      <td>0.892699</td>\n",
       "    </tr>\n",
       "    <tr>\n",
       "      <th>recall</th>\n",
       "      <td>0.988848</td>\n",
       "      <td>0.964064</td>\n",
       "      <td>1.000000</td>\n",
       "    </tr>\n",
       "    <tr>\n",
       "      <th>accuracy</th>\n",
       "      <td>0.896133</td>\n",
       "      <td>0.893923</td>\n",
       "      <td>0.892818</td>\n",
       "    </tr>\n",
       "    <tr>\n",
       "      <th>roc_auc</th>\n",
       "      <td>0.747323</td>\n",
       "      <td>0.718688</td>\n",
       "      <td>0.946350</td>\n",
       "    </tr>\n",
       "  </tbody>\n",
       "</table>\n",
       "</div>"
      ],
      "text/plain": [
       "              logit       xgb      tree\n",
       "precision  0.903737  0.920710  0.892699\n",
       "recall     0.988848  0.964064  1.000000\n",
       "accuracy   0.896133  0.893923  0.892818\n",
       "roc_auc    0.747323  0.718688  0.946350"
      ]
     },
     "execution_count": 609,
     "metadata": {},
     "output_type": "execute_result"
    }
   ],
   "source": [
    "result = test(X1_train,y_train,X1_test,y_test)\n",
    "result"
   ]
  },
  {
   "cell_type": "code",
   "execution_count": 610,
   "metadata": {},
   "outputs": [
    {
     "data": {
      "text/html": [
       "<div>\n",
       "<style scoped>\n",
       "    .dataframe tbody tr th:only-of-type {\n",
       "        vertical-align: middle;\n",
       "    }\n",
       "\n",
       "    .dataframe tbody tr th {\n",
       "        vertical-align: top;\n",
       "    }\n",
       "\n",
       "    .dataframe thead th {\n",
       "        text-align: right;\n",
       "    }\n",
       "</style>\n",
       "<table border=\"1\" class=\"dataframe\">\n",
       "  <thead>\n",
       "    <tr style=\"text-align: right;\">\n",
       "      <th></th>\n",
       "      <th>logit</th>\n",
       "      <th>xgb</th>\n",
       "      <th>tree</th>\n",
       "    </tr>\n",
       "  </thead>\n",
       "  <tbody>\n",
       "    <tr>\n",
       "      <th>precision</th>\n",
       "      <td>0.902605</td>\n",
       "      <td>0.917355</td>\n",
       "      <td>0.893570</td>\n",
       "    </tr>\n",
       "    <tr>\n",
       "      <th>recall</th>\n",
       "      <td>0.987608</td>\n",
       "      <td>0.962825</td>\n",
       "      <td>0.998761</td>\n",
       "    </tr>\n",
       "    <tr>\n",
       "      <th>accuracy</th>\n",
       "      <td>0.893923</td>\n",
       "      <td>0.889503</td>\n",
       "      <td>0.892818</td>\n",
       "    </tr>\n",
       "    <tr>\n",
       "      <th>roc_auc</th>\n",
       "      <td>0.724030</td>\n",
       "      <td>0.700057</td>\n",
       "      <td>0.780118</td>\n",
       "    </tr>\n",
       "  </tbody>\n",
       "</table>\n",
       "</div>"
      ],
      "text/plain": [
       "              logit       xgb      tree\n",
       "precision  0.902605  0.917355  0.893570\n",
       "recall     0.987608  0.962825  0.998761\n",
       "accuracy   0.893923  0.889503  0.892818\n",
       "roc_auc    0.724030  0.700057  0.780118"
      ]
     },
     "execution_count": 610,
     "metadata": {},
     "output_type": "execute_result"
    }
   ],
   "source": [
    "result = test(X2_train,y_train,X2_test,y_test)\n",
    "result"
   ]
  },
  {
   "cell_type": "markdown",
   "metadata": {},
   "source": [
    "## Features importances"
   ]
  },
  {
   "cell_type": "code",
   "execution_count": 611,
   "metadata": {},
   "outputs": [
    {
     "data": {
      "text/plain": [
       "<matplotlib.axes._subplots.AxesSubplot at 0x7f9ac34a48d0>"
      ]
     },
     "execution_count": 611,
     "metadata": {},
     "output_type": "execute_result"
    },
    {
     "data": {
      "image/png": "[encoded data removed]",
      "text/plain": [
       "<Figure size 432x288 with 1 Axes>"
      ]
     },
     "metadata": {
      "needs_background": "light"
     },
     "output_type": "display_data"
    }
   ],
   "source": [
    "#X_train,X_test,y_train,y_test = train_test_split(X1,y,test_size=0.2,random_state = 42)\n",
    "params = {'colsample_bytree': 0.8, 'gamma': 1.5, 'max_depth': 5, 'min_child_weight': 1, 'subsample': 0.8,'n_estimators':1000}\n",
    "xg = xgb.XGBClassifier(objective='binary:logistic',nthread=4,n_jobs=4,params=params)\n",
    "xg.fit(X1_train,y_train)\n",
    "feat_importances = pd.Series(xg.feature_importances_, index=cols)\n",
    "feat_importances.nlargest(20).plot(kind='barh')"
   ]
  }
 ],
 "metadata": {
  "kernelspec": {
   "display_name": "Python 3",
   "language": "python",
   "name": "python3"
  },
  "language_info": {
   "codemirror_mode": {
    "name": "ipython",
    "version": 3
   },
   "file_extension": ".py",
   "mimetype": "text/x-python",
   "name": "python",
   "nbconvert_exporter": "python",
   "pygments_lexer": "ipython3",
   "version": "3.7.4"
  }
 },
 "nbformat": 4,
 "nbformat_minor": 2
}
