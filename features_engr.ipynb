{
 "cells": [
  {
   "cell_type": "markdown",
   "metadata": {},
   "source": [
    "### Packages and dataset"
   ]
  },
  {
   "cell_type": "code",
   "execution_count": 141,
   "metadata": {},
   "outputs": [],
   "source": [
    "import pandas as pd\n",
    "import numpy as np\n",
    "import seaborn as sns\n",
    "from scipy.stats import skew,boxcox,yeojohnson\n",
    "import sklearn\n",
    "from sklearn.preprocessing import LabelEncoder\n",
    "import category_encoders\n",
    "from category_encoders.target_encoder import TargetEncoder\n",
    "from sklearn.model_selection import train_test_split,cross_val_score,KFold,GridSearchCV\n",
    "from sklearn.preprocessing import StandardScaler\n",
    "import time\n",
    "from sklearn.metrics import roc_auc_score\n",
    "from sklearn.ensemble import RandomForestClassifier\n",
    "from sklearn.linear_model import LogisticRegression\n",
    "import xgboost as xgb\n",
    "from sklearn.ensemble import AdaBoostClassifier\n",
    "from sklearn.neighbors import LocalOutlierFactor"
   ]
  },
  {
   "cell_type": "code",
   "execution_count": 64,
   "metadata": {},
   "outputs": [],
   "source": [
    "#Reading csv\n",
    "df = pd.read_csv(\"bank_marketing_weka_dataset.csv\")\n",
    "\n",
    "#Separate features\n",
    "X = df.drop(['y'], axis=1)\n",
    "\n",
    "#Target variable\n",
    "y = df['y']\n",
    "\n",
    "#Transform 'y' to binary\n",
    "y = y.map(dict(yes=1, no=0))"
   ]
  },
  {
   "cell_type": "code",
   "execution_count": 65,
   "metadata": {},
   "outputs": [
    {
     "output_type": "execute_result",
     "data": {
      "text/plain": "   age          job  marital  education default  balance housing loan  \\\n0   30   unemployed  married    primary      no     1787      no   no   \n1   33     services  married  secondary      no     4789     yes  yes   \n2   35   management   single   tertiary      no     1350     yes   no   \n3   30   management  married   tertiary      no     1476     yes  yes   \n4   59  blue-collar  married  secondary      no        0     yes   no   \n\n    contact  day month  duration  campaign  pdays  previous poutcome  \n0  cellular   19   oct      79.0         1   -1.0         0  unknown  \n1  cellular   11   may     220.0         1  339.0         4  failure  \n2  cellular   16   apr     185.0         1  330.0         1  failure  \n3   unknown    3   jun     199.0         4   -1.0         0  unknown  \n4   unknown    5   may     226.0         1   -1.0         0  unknown  ",
      "text/html": "<div>\n<style scoped>\n    .dataframe tbody tr th:only-of-type {\n        vertical-align: middle;\n    }\n\n    .dataframe tbody tr th {\n        vertical-align: top;\n    }\n\n    .dataframe thead th {\n        text-align: right;\n    }\n</style>\n<table border=\"1\" class=\"dataframe\">\n  <thead>\n    <tr style=\"text-align: right;\">\n      <th></th>\n      <th>age</th>\n      <th>job</th>\n      <th>marital</th>\n      <th>education</th>\n      <th>default</th>\n      <th>balance</th>\n      <th>housing</th>\n      <th>loan</th>\n      <th>contact</th>\n      <th>day</th>\n      <th>month</th>\n      <th>duration</th>\n      <th>campaign</th>\n      <th>pdays</th>\n      <th>previous</th>\n      <th>poutcome</th>\n    </tr>\n  </thead>\n  <tbody>\n    <tr>\n      <th>0</th>\n      <td>30</td>\n      <td>unemployed</td>\n      <td>married</td>\n      <td>primary</td>\n      <td>no</td>\n      <td>1787</td>\n      <td>no</td>\n      <td>no</td>\n      <td>cellular</td>\n      <td>19</td>\n      <td>oct</td>\n      <td>79.0</td>\n      <td>1</td>\n      <td>-1.0</td>\n      <td>0</td>\n      <td>unknown</td>\n    </tr>\n    <tr>\n      <th>1</th>\n      <td>33</td>\n      <td>services</td>\n      <td>married</td>\n      <td>secondary</td>\n      <td>no</td>\n      <td>4789</td>\n      <td>yes</td>\n      <td>yes</td>\n      <td>cellular</td>\n      <td>11</td>\n      <td>may</td>\n      <td>220.0</td>\n      <td>1</td>\n      <td>339.0</td>\n      <td>4</td>\n      <td>failure</td>\n    </tr>\n    <tr>\n      <th>2</th>\n      <td>35</td>\n      <td>management</td>\n      <td>single</td>\n      <td>tertiary</td>\n      <td>no</td>\n      <td>1350</td>\n      <td>yes</td>\n      <td>no</td>\n      <td>cellular</td>\n      <td>16</td>\n      <td>apr</td>\n      <td>185.0</td>\n      <td>1</td>\n      <td>330.0</td>\n      <td>1</td>\n      <td>failure</td>\n    </tr>\n    <tr>\n      <th>3</th>\n      <td>30</td>\n      <td>management</td>\n      <td>married</td>\n      <td>tertiary</td>\n      <td>no</td>\n      <td>1476</td>\n      <td>yes</td>\n      <td>yes</td>\n      <td>unknown</td>\n      <td>3</td>\n      <td>jun</td>\n      <td>199.0</td>\n      <td>4</td>\n      <td>-1.0</td>\n      <td>0</td>\n      <td>unknown</td>\n    </tr>\n    <tr>\n      <th>4</th>\n      <td>59</td>\n      <td>blue-collar</td>\n      <td>married</td>\n      <td>secondary</td>\n      <td>no</td>\n      <td>0</td>\n      <td>yes</td>\n      <td>no</td>\n      <td>unknown</td>\n      <td>5</td>\n      <td>may</td>\n      <td>226.0</td>\n      <td>1</td>\n      <td>-1.0</td>\n      <td>0</td>\n      <td>unknown</td>\n    </tr>\n  </tbody>\n</table>\n</div>"
     },
     "metadata": {},
     "execution_count": 65
    }
   ],
   "source": [
    "#Features initial state\n",
    "X.head()"
   ]
  },
  {
   "cell_type": "markdown",
   "metadata": {},
   "source": [
    "## Target variable balance"
   ]
  },
  {
   "cell_type": "code",
   "execution_count": 66,
   "metadata": {},
   "outputs": [
    {
     "output_type": "execute_result",
     "data": {
      "text/plain": "0    4000\n1     521\nName: y, dtype: int64"
     },
     "metadata": {},
     "execution_count": 66
    }
   ],
   "source": [
    "y.value_counts()"
   ]
  },
  {
   "cell_type": "markdown",
   "metadata": {},
   "source": [
    "# Features engineering"
   ]
  },
  {
   "cell_type": "markdown",
   "metadata": {},
   "source": [
    "## Continuous variables"
   ]
  },
  {
   "cell_type": "code",
   "execution_count": 67,
   "metadata": {},
   "outputs": [
    {
     "output_type": "stream",
     "name": "stdout",
     "text": "Age skew = 0.6995014533559305\nBalance skew = 6.596430546295735\nDay skew = 0.09462690455175846\nDuration skew = 2.7724197169136455\nCampaign skew = 4.74391446894159\nPdays skew = 2.71707136656418\nPrevious skew = 5.875258677896706\n"
    }
   ],
   "source": [
    "conti = X.select_dtypes(include=np.number)\n",
    "skewed = []\n",
    "for column in conti.columns:\n",
    "    if conti[column].skew()>2:\n",
    "        skewed.append(column)\n",
    "    print(f'{column.capitalize()} skew = {conti[column].skew()}')"
   ]
  },
  {
   "cell_type": "markdown",
   "metadata": {},
   "source": [
    "It is known that ML algorithms tend to perform worse if they have to deal with skewed data. Here we arbitrally have chosen to chosen columns with skewness above 2 and transform them, to reduce that parameter."
   ]
  },
  {
   "cell_type": "code",
   "execution_count": 68,
   "metadata": {},
   "outputs": [
    {
     "output_type": "stream",
     "name": "stdout",
     "text": "1.580521502422124 balance yeojohnson\n0.015631020933611555 duration boxcox\n0.16509037675445096 campaign boxcox\n1.6651521750550364 pdays yeojohnson\n1.664879334841969 previous yeojohnson\n"
    }
   ],
   "source": [
    "for column in skewed:\n",
    "    if X[column].min()>0:\n",
    "        print(pd.Series(boxcox(X[column])[0]).skew(),f'{column} boxcox')\n",
    "        X[column] = pd.Series(boxcox(X[column])[0])\n",
    "    else:\n",
    "        print(pd.Series(yeojohnson(X[column])[0]).skew(),f'{column} yeojohnson')\n",
    "        X[column] = pd.Series(yeojohnson(X[column])[0])"
   ]
  },
  {
   "cell_type": "markdown",
   "metadata": {},
   "source": [
    "Ideally we would like to use boxcox transormation for all our chosen data, but this type of transormation does not work with negative values. Instead of trying to add some constant to these columns with non-positive values we decided to use yeojohnson transormation which is capable of dealing with negative data. As we can see in all of our columns we have managed to reduce skewness massively."
   ]
  },
  {
   "cell_type": "markdown",
   "metadata": {},
   "source": [
    "## Categorical variables"
   ]
  },
  {
   "cell_type": "code",
   "execution_count": 69,
   "metadata": {},
   "outputs": [
    {
     "output_type": "execute_result",
     "data": {
      "text/plain": "Index(['job', 'marital', 'education', 'default', 'housing', 'loan', 'contact',\n       'month', 'poutcome'],\n      dtype='object')"
     },
     "metadata": {},
     "execution_count": 69
    }
   ],
   "source": [
    "#List of categorical variables\n",
    "X.select_dtypes(include='object').columns"
   ]
  },
  {
   "cell_type": "markdown",
   "metadata": {},
   "source": [
    "### Binary values\n",
    "Variables: 'default', 'housing', 'loan'\\\n",
    "Values: 'yes', 'no'\\\n",
    "Method: map to yes=1, no=0"
   ]
  },
  {
   "cell_type": "code",
   "execution_count": 70,
   "metadata": {},
   "outputs": [],
   "source": [
    "X = X.replace('yes', 1)\n",
    "X = X.replace('no', 0)"
   ]
  },
  {
   "cell_type": "markdown",
   "metadata": {},
   "source": [
    "### Month variable\n",
    "Values: string abbreviations\\\n",
    "Method: transform to numerical"
   ]
  },
  {
   "cell_type": "code",
   "execution_count": 71,
   "metadata": {},
   "outputs": [],
   "source": [
    "X.month = X.month.map(dict(\n",
    "jan=1, feb=2, mar=3, apr=4, may=5, jun=6,\n",
    "jul=7, aug=8, sep=9, oct=10, nov=11, dec=12))"
   ]
  },
  {
   "cell_type": "markdown",
   "metadata": {},
   "source": [
    "### Variables: 'job', 'marital', 'education', 'poutcom', 'contact'"
   ]
  },
  {
   "cell_type": "markdown",
   "metadata": {},
   "source": [
    "Thanks to EDA we know that:\n",
    "\n",
    "- 'unknown' values are present\n",
    "- 'job', 'education', 'poutcom' seem to have impact on target variable\n",
    "- values distributions have no dangerous disparities (in terms of using the target encoding method)\n",
    "\n",
    "Hence, we decide to:\n",
    "\n",
    " - leave the 'unknown' values, as it represents best the idea of the missing information in our case\n",
    " - apply target encoding method to variables related with target variable\n",
    " - apply one-hot encoding to other variables\n",
    " \n",
    "Expecting target encoding to reflect the relationship of variables with target variable - where it is present according to EDA - and one-hot method to neutrally pass on values of other variables."
   ]
  },
  {
   "cell_type": "code",
   "execution_count": 72,
   "metadata": {},
   "outputs": [],
   "source": [
    "#Target encoding\n",
    "te = TargetEncoder()\n",
    "X.loc[:, ['job', 'education', 'poutcome']] = te.fit_transform(X.loc[:, ['job', 'education', 'poutcome']], y)"
   ]
  },
  {
   "cell_type": "code",
   "execution_count": 73,
   "metadata": {},
   "outputs": [],
   "source": [
    "#One-hot encoding\n",
    "X = pd.get_dummies(X, columns=['marital', 'contact'])\n",
    "cols = X.columns"
   ]
  },
  {
   "cell_type": "code",
   "execution_count": 74,
   "metadata": {},
   "outputs": [
    {
     "output_type": "execute_result",
     "data": {
      "text/plain": "   age       job  education  default      balance  housing  loan  day  month  \\\n0   30  0.101562   0.094395        0   613.343660        0     0   19     10   \n1   33  0.091127   0.106245        0  1395.317918        1     1   11      5   \n2   35  0.135191   0.142963        0   485.394828        1     0   16      4   \n3   30  0.135191   0.142963        0   522.913355        1     1    3      6   \n4   59  0.072939   0.106245        0     0.000000        1     0    5      5   \n5   35  0.135191   0.142963        0   296.167564        0     0   23      2   \n6   36  0.109290   0.142963        0   140.803457        1     0   14      5   \n7   39  0.108073   0.106245        0    75.919768        1     0    6      5   \n8   41  0.089286   0.142963        0   106.905795        1     0   14      5   \n9   43  0.091127   0.094395        0  -160.534799        1     1   17      4   \n\n   duration  campaign     pdays  previous  poutcome  marital_divorced  \\\n0  6.217047  0.000000 -1.956966 -0.000000  0.090958                 0   \n1  8.379996  0.000000  1.589809  0.237020  0.128571                 0   \n2  7.989852  0.000000  1.589042  0.224505  0.128571                 0   \n3  8.152847  0.956134 -1.956966 -0.000000  0.090958                 0   \n4  8.441514  0.000000 -1.956966 -0.000000  0.090958                 0   \n5  7.398746  0.571901  1.567050  0.236600  0.128571                 0   \n6  9.414188  0.000000  1.589042  0.234974  0.192893                 0   \n7  7.545567  0.571901 -1.956966 -0.000000  0.090958                 0   \n8  5.595942  0.571901 -1.956966 -0.000000  0.090958                 0   \n9  9.206514  0.000000  1.559056  0.234974  0.128571                 0   \n\n   marital_married  marital_single  contact_cellular  contact_telephone  \\\n0                1               0                 1                  0   \n1                1               0                 1                  0   \n2                0               1                 1                  0   \n3                1               0                 0                  0   \n4                1               0                 0                  0   \n5                0               1                 1                  0   \n6                1               0                 1                  0   \n7                1               0                 1                  0   \n8                1               0                 0                  0   \n9                1               0                 1                  0   \n\n   contact_unknown  \n0                0  \n1                0  \n2                0  \n3                1  \n4                1  \n5                0  \n6                0  \n7                0  \n8                1  \n9                0  ",
      "text/html": "<div>\n<style scoped>\n    .dataframe tbody tr th:only-of-type {\n        vertical-align: middle;\n    }\n\n    .dataframe tbody tr th {\n        vertical-align: top;\n    }\n\n    .dataframe thead th {\n        text-align: right;\n    }\n</style>\n<table border=\"1\" class=\"dataframe\">\n  <thead>\n    <tr style=\"text-align: right;\">\n      <th></th>\n      <th>age</th>\n      <th>job</th>\n      <th>education</th>\n      <th>default</th>\n      <th>balance</th>\n      <th>housing</th>\n      <th>loan</th>\n      <th>day</th>\n      <th>month</th>\n      <th>duration</th>\n      <th>campaign</th>\n      <th>pdays</th>\n      <th>previous</th>\n      <th>poutcome</th>\n      <th>marital_divorced</th>\n      <th>marital_married</th>\n      <th>marital_single</th>\n      <th>contact_cellular</th>\n      <th>contact_telephone</th>\n      <th>contact_unknown</th>\n    </tr>\n  </thead>\n  <tbody>\n    <tr>\n      <th>0</th>\n      <td>30</td>\n      <td>0.101562</td>\n      <td>0.094395</td>\n      <td>0</td>\n      <td>613.343660</td>\n      <td>0</td>\n      <td>0</td>\n      <td>19</td>\n      <td>10</td>\n      <td>6.217047</td>\n      <td>0.000000</td>\n      <td>-1.956966</td>\n      <td>-0.000000</td>\n      <td>0.090958</td>\n      <td>0</td>\n      <td>1</td>\n      <td>0</td>\n      <td>1</td>\n      <td>0</td>\n      <td>0</td>\n    </tr>\n    <tr>\n      <th>1</th>\n      <td>33</td>\n      <td>0.091127</td>\n      <td>0.106245</td>\n      <td>0</td>\n      <td>1395.317918</td>\n      <td>1</td>\n      <td>1</td>\n      <td>11</td>\n      <td>5</td>\n      <td>8.379996</td>\n      <td>0.000000</td>\n      <td>1.589809</td>\n      <td>0.237020</td>\n      <td>0.128571</td>\n      <td>0</td>\n      <td>1</td>\n      <td>0</td>\n      <td>1</td>\n      <td>0</td>\n      <td>0</td>\n    </tr>\n    <tr>\n      <th>2</th>\n      <td>35</td>\n      <td>0.135191</td>\n      <td>0.142963</td>\n      <td>0</td>\n      <td>485.394828</td>\n      <td>1</td>\n      <td>0</td>\n      <td>16</td>\n      <td>4</td>\n      <td>7.989852</td>\n      <td>0.000000</td>\n      <td>1.589042</td>\n      <td>0.224505</td>\n      <td>0.128571</td>\n      <td>0</td>\n      <td>0</td>\n      <td>1</td>\n      <td>1</td>\n      <td>0</td>\n      <td>0</td>\n    </tr>\n    <tr>\n      <th>3</th>\n      <td>30</td>\n      <td>0.135191</td>\n      <td>0.142963</td>\n      <td>0</td>\n      <td>522.913355</td>\n      <td>1</td>\n      <td>1</td>\n      <td>3</td>\n      <td>6</td>\n      <td>8.152847</td>\n      <td>0.956134</td>\n      <td>-1.956966</td>\n      <td>-0.000000</td>\n      <td>0.090958</td>\n      <td>0</td>\n      <td>1</td>\n      <td>0</td>\n      <td>0</td>\n      <td>0</td>\n      <td>1</td>\n    </tr>\n    <tr>\n      <th>4</th>\n      <td>59</td>\n      <td>0.072939</td>\n      <td>0.106245</td>\n      <td>0</td>\n      <td>0.000000</td>\n      <td>1</td>\n      <td>0</td>\n      <td>5</td>\n      <td>5</td>\n      <td>8.441514</td>\n      <td>0.000000</td>\n      <td>-1.956966</td>\n      <td>-0.000000</td>\n      <td>0.090958</td>\n      <td>0</td>\n      <td>1</td>\n      <td>0</td>\n      <td>0</td>\n      <td>0</td>\n      <td>1</td>\n    </tr>\n    <tr>\n      <th>5</th>\n      <td>35</td>\n      <td>0.135191</td>\n      <td>0.142963</td>\n      <td>0</td>\n      <td>296.167564</td>\n      <td>0</td>\n      <td>0</td>\n      <td>23</td>\n      <td>2</td>\n      <td>7.398746</td>\n      <td>0.571901</td>\n      <td>1.567050</td>\n      <td>0.236600</td>\n      <td>0.128571</td>\n      <td>0</td>\n      <td>0</td>\n      <td>1</td>\n      <td>1</td>\n      <td>0</td>\n      <td>0</td>\n    </tr>\n    <tr>\n      <th>6</th>\n      <td>36</td>\n      <td>0.109290</td>\n      <td>0.142963</td>\n      <td>0</td>\n      <td>140.803457</td>\n      <td>1</td>\n      <td>0</td>\n      <td>14</td>\n      <td>5</td>\n      <td>9.414188</td>\n      <td>0.000000</td>\n      <td>1.589042</td>\n      <td>0.234974</td>\n      <td>0.192893</td>\n      <td>0</td>\n      <td>1</td>\n      <td>0</td>\n      <td>1</td>\n      <td>0</td>\n      <td>0</td>\n    </tr>\n    <tr>\n      <th>7</th>\n      <td>39</td>\n      <td>0.108073</td>\n      <td>0.106245</td>\n      <td>0</td>\n      <td>75.919768</td>\n      <td>1</td>\n      <td>0</td>\n      <td>6</td>\n      <td>5</td>\n      <td>7.545567</td>\n      <td>0.571901</td>\n      <td>-1.956966</td>\n      <td>-0.000000</td>\n      <td>0.090958</td>\n      <td>0</td>\n      <td>1</td>\n      <td>0</td>\n      <td>1</td>\n      <td>0</td>\n      <td>0</td>\n    </tr>\n    <tr>\n      <th>8</th>\n      <td>41</td>\n      <td>0.089286</td>\n      <td>0.142963</td>\n      <td>0</td>\n      <td>106.905795</td>\n      <td>1</td>\n      <td>0</td>\n      <td>14</td>\n      <td>5</td>\n      <td>5.595942</td>\n      <td>0.571901</td>\n      <td>-1.956966</td>\n      <td>-0.000000</td>\n      <td>0.090958</td>\n      <td>0</td>\n      <td>1</td>\n      <td>0</td>\n      <td>0</td>\n      <td>0</td>\n      <td>1</td>\n    </tr>\n    <tr>\n      <th>9</th>\n      <td>43</td>\n      <td>0.091127</td>\n      <td>0.094395</td>\n      <td>0</td>\n      <td>-160.534799</td>\n      <td>1</td>\n      <td>1</td>\n      <td>17</td>\n      <td>4</td>\n      <td>9.206514</td>\n      <td>0.000000</td>\n      <td>1.559056</td>\n      <td>0.234974</td>\n      <td>0.128571</td>\n      <td>0</td>\n      <td>1</td>\n      <td>0</td>\n      <td>1</td>\n      <td>0</td>\n      <td>0</td>\n    </tr>\n  </tbody>\n</table>\n</div>"
     },
     "metadata": {},
     "execution_count": 74
    }
   ],
   "source": [
    "#aktualnie mamy coś takiego\n",
    "#zrobiłem target enc i one-hot jednocześnie, trochę na \"pokaz\"\n",
    "#myślałem czy nie dodać drugiego zbioru gdzie zrobić sam target enc,\n",
    "#i porównać potem wyniki. Wtedy może na ciągłych też będziesz miał\n",
    "#taką sytuację i można by zrobić podsumowanie dla kombinacji tych metod\n",
    "#Bo jak dobrze zrozumiałem to ten checkpoint bardziej polega właśnie\n",
    "#na zabawie tymi metodami, a te modele tak wstępnie żeby było na czym\n",
    "#oceniać\n",
    "X.head(10)"
   ]
  },
  {
   "cell_type": "code",
   "execution_count": 75,
   "metadata": {},
   "outputs": [],
   "source": [
    "scaler = StandardScaler()\n",
    "X = scaler.fit_transform(X)"
   ]
  },
  {
   "cell_type": "markdown",
   "metadata": {},
   "source": [
    "Scaling the data just for sake we might use alghoritm that require standarized input."
   ]
  },
  {
   "cell_type": "markdown",
   "metadata": {},
   "source": [
    "# Modeling"
   ]
  },
  {
   "cell_type": "code",
   "execution_count": 76,
   "metadata": {},
   "outputs": [],
   "source": [
    "X_train,X_test,y_train,y_test = train_test_split(X,y,test_size=0.2,random_state = 42)"
   ]
  },
  {
   "cell_type": "code",
   "execution_count": 78,
   "metadata": {},
   "outputs": [],
   "source": [
    "#params = {'colsample_bytree': 0.8, 'gamma': 1.5, 'max_depth': 5, 'min_child_weight': 1, 'subsample': 0.8,'n_estimators':1000}\n",
    "#xg = xgb.XGBClassifier(objective='binary:logistic',nthread=4,n_jobs=4,params=params)\n",
    "#kfold = KFold(n_splits=5, random_state=42)\n",
    "#cross_val_score(xg, X_train, y_train, cv=kfold,scoring='roc_auc').mean()"
   ]
  },
  {
   "cell_type": "code",
   "execution_count": 79,
   "metadata": {},
   "outputs": [],
   "source": [
    "#xg.fit(X_train,y_train)\n",
    "#feat_importances = pd.Series(xg.feature_importances_, index=cols)\n",
    "#feat_importances.nlargest(20).plot(kind='barh')\n",
    "#Tak jak sie mozna bylo spodziewac poutcome ma najwiekszy wplyw na klasyfikator"
   ]
  },
  {
   "cell_type": "code",
   "execution_count": 129,
   "metadata": {},
   "outputs": [
    {
     "output_type": "execute_result",
     "data": {
      "text/plain": "0.8761158404550715"
     },
     "metadata": {},
     "execution_count": 129
    }
   ],
   "source": [
    "params = {'max_depth': 3, 'min_samples_leaf': 2, 'min_samples_split': 2, 'n_estimators': 500,'max_features':'auto'}\n",
    "tree = RandomForestClassifier(**params)\n",
    "kfold = KFold(n_splits=10, random_state=42)\n",
    "cross_val_score(tree,X_train,y_train,scoring='roc_auc',cv=kfold).mean()"
   ]
  },
  {
   "cell_type": "code",
   "execution_count": 131,
   "metadata": {},
   "outputs": [
    {
     "output_type": "execute_result",
     "data": {
      "text/plain": "0.9463495575221239"
     },
     "metadata": {},
     "execution_count": 131
    }
   ],
   "source": [
    "tree.fit(X_train,y_train)\n",
    "pred_tree = tree.predict(X_test)\n",
    "score_tree = roc_auc_score(pred_tree,y_test)\n",
    "score_tree\n",
    "#Jakis calkiem dobry wynik wychodzi z tego drzewa xD"
   ]
  },
  {
   "cell_type": "code",
   "execution_count": 164,
   "metadata": {},
   "outputs": [
    {
     "output_type": "execute_result",
     "data": {
      "text/plain": "0.8588563939053063"
     },
     "metadata": {},
     "execution_count": 164
    }
   ],
   "source": [
    "logistic = LogisticRegression(C=0.001,solver='saga')\n",
    "kfold = KFold(n_splits=5, random_state=42)\n",
    "cross_val_score(logistic,X_train,y_train,scoring='roc_auc',cv=kfold).mean()"
   ]
  },
  {
   "cell_type": "code",
   "execution_count": 165,
   "metadata": {},
   "outputs": [
    {
     "output_type": "execute_result",
     "data": {
      "text/plain": "0.946843853820598"
     },
     "metadata": {},
     "execution_count": 165
    }
   ],
   "source": [
    "logistic.fit(X_train,y_train)\n",
    "pred_logistic = logistic.predict(X_test)\n",
    "score_logistic = roc_auc_score(pred_logistic,y_test)\n",
    "score_logistic\n",
    "#? xD"
   ]
  }
 ],
 "metadata": {
  "kernelspec": {
   "display_name": "Python 3",
   "language": "python",
   "name": "python3"
  },
  "language_info": {
   "codemirror_mode": {
    "name": "ipython",
    "version": 3
   },
   "file_extension": ".py",
   "mimetype": "text/x-python",
   "name": "python",
   "nbconvert_exporter": "python",
   "pygments_lexer": "ipython3",
   "version": "3.7.6-final"
  }
 },
 "nbformat": 4,
 "nbformat_minor": 2
}